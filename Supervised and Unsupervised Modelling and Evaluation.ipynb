{
  "nbformat": 4,
  "nbformat_minor": 0,
  "metadata": {
    "colab": {
      "provenance": [],
      "authorship_tag": "ABX9TyNWxKavHPeLrBGaNavcGVYc",
      "include_colab_link": true
    },
    "kernelspec": {
      "name": "python3",
      "display_name": "Python 3"
    },
    "language_info": {
      "name": "python"
    }
  },
  "cells": [
    {
      "cell_type": "markdown",
      "metadata": {
        "id": "view-in-github",
        "colab_type": "text"
      },
      "source": [
        "<a href=\"https://colab.research.google.com/github/HarshNVyas/ML-Algorithms-Pipeline/blob/main/Modelling_and_Evaluation.ipynb\" target=\"_parent\"><img src=\"https://colab.research.google.com/assets/colab-badge.svg\" alt=\"Open In Colab\"/></a>"
      ]
    },
    {
      "cell_type": "markdown",
      "source": [
        "# Modelling and Evaluation"
      ],
      "metadata": {
        "id": "ZabwF0Y3aceP"
      }
    },
    {
      "cell_type": "markdown",
      "source": [
        "## Introduction\n",
        "\n",
        "**Modelling in Machine Learning:** Modelling is the process of creating algorithms that can learn from data and make predictions or generate insights.\n",
        "\n",
        "**Evaluation in Machine Learning:** Evaluation involves assessing how well a model performs its task using various metrics and testing it on new data to ensure it generalizes effectively.\n",
        "\n",
        "**No Free Lunch Theorem (NFLT):** The No Free Lunch Theorem is a fundamental concept in machine learning. It states that there is `no universally superior machine learning algorithm.` In other words, `no single algorithm performs best for every problem.` The choice of the right algorithm depends on the specific problem, the dataset, and the nature of the data. It highlights the need to experiment with different algorithms and techniques to find the most suitable one for a given task.\n",
        "\n",
        "In this Google Colab notebook, we will implement various machine learning and data mining techniques, including supervised learning (regression and classification), and unsupervised learning (clustering and association). We will explore different datasets and evaluate the performance of these techniques in various contexts, keeping in mind the No Free Lunch Theorem and the importance of selecting the right tool for the job."
      ],
      "metadata": {
        "id": "0uTtQ8GfLoVG"
      }
    },
    {
      "cell_type": "markdown",
      "source": [
        "# Supervised Learning\n",
        "\n",
        "**Supervised Learning:** In supervised learning, the algorithm learns from labeled training data to make predictions or decisions without human intervention. It involves two main subparts:\n",
        "\n",
        "1. **Classification:** Classification is used when the target variable is categorical or discrete, and the goal is to assign instances to predefined categories or classes. Examples include logistic regression, decision trees, and support vector machines.\n",
        "2. **Regression:** Regression is used when the target variable is continuous, and the goal is to predict a numeric value. Common algorithms include Linear Regression, Decision Trees, and Random Forests.\n",
        "\n",
        "\n",
        "\n",
        "**Hyper Parameter tuning:** Hyperparameter tuning is like finding the right settings for a machine learning model to make it work as well as possible. It's like adjusting the dials on a radio until you get the clearest signal. These settings affect how the model learns, and we want to find the best ones to make the model perform its best on a given task. We test different settings, evaluate the model's performance, and keep adjusting until we find the best ones. It's about fine-tuning to get the best results."
      ],
      "metadata": {
        "id": "HbAXHoJtLi5Y"
      }
    },
    {
      "cell_type": "markdown",
      "source": [
        "## Classification\n",
        "\n",
        "In this section, we will explore a variety of classification algorithms using the well-known **Iris dataset**. The Iris dataset is a commonly used dataset for educational and practice purposes. We will delve into the following classification algorithms:\n",
        "\n",
        "1. **Logistic Regression:** Logistic regression is a versatile algorithm used for binary and multiclass classification. It models the probability of an instance belonging to a particular class.\n",
        "\n",
        "2. **Decision Tree:** Decision trees are tree-like structures that help make decisions or predictions by splitting data into subsets based on certain criteria. They are widely used for classification tasks.\n",
        "\n",
        "3. **Random Forest Classifier:** The Random Forest is an ensemble learning method that combines multiple decision trees to improve predictive accuracy and reduce overfitting.\n",
        "\n",
        "4. **Support Vector Machine (SVM):** SVM is a powerful algorithm for binary and multiclass classification. It finds a hyperplane that best separates data into distinct classes.\n",
        "\n",
        "5. **K-Nearest Neighbors (K-NN):** K-NN is a simple yet effective classification algorithm. It classifies data points based on the majority class of their nearest neighbors.\n",
        "\n",
        "6. **Naive Bayes:** The Naive Bayes classifier is based on Bayes' theorem and is particularly effective for text classification. It assumes that features are independent, hence the \"naive\" designation.\n",
        "\n",
        "Link for dataset: https://www.kaggle.com/datasets/uciml/iris/"
      ],
      "metadata": {
        "id": "qYdNVhAA3jhV"
      }
    },
    {
      "cell_type": "code",
      "execution_count": 1,
      "metadata": {
        "id": "k5nAaOsQY6Zh"
      },
      "outputs": [],
      "source": [
        "from sklearn.datasets import load_iris\n",
        "\n",
        "iris = load_iris()\n",
        "X = iris.data  # Features\n",
        "y = iris.target  # Target variable (species)"
      ]
    },
    {
      "cell_type": "code",
      "source": [
        "X[:5]"
      ],
      "metadata": {
        "colab": {
          "base_uri": "https://localhost:8080/"
        },
        "id": "Ss14RScm1G9O",
        "outputId": "27366c80-3e18-4076-92f2-b2d5f37fdca0"
      },
      "execution_count": 2,
      "outputs": [
        {
          "output_type": "execute_result",
          "data": {
            "text/plain": [
              "array([[5.1, 3.5, 1.4, 0.2],\n",
              "       [4.9, 3. , 1.4, 0.2],\n",
              "       [4.7, 3.2, 1.3, 0.2],\n",
              "       [4.6, 3.1, 1.5, 0.2],\n",
              "       [5. , 3.6, 1.4, 0.2]])"
            ]
          },
          "metadata": {},
          "execution_count": 2
        }
      ]
    },
    {
      "cell_type": "code",
      "source": [
        "y[:5]"
      ],
      "metadata": {
        "colab": {
          "base_uri": "https://localhost:8080/"
        },
        "id": "jlUQIJHS1J9n",
        "outputId": "baf7db3b-9f2a-4b35-c331-58b762c88a1a"
      },
      "execution_count": 3,
      "outputs": [
        {
          "output_type": "execute_result",
          "data": {
            "text/plain": [
              "array([0, 0, 0, 0, 0])"
            ]
          },
          "metadata": {},
          "execution_count": 3
        }
      ]
    },
    {
      "cell_type": "code",
      "source": [
        "from sklearn.model_selection import train_test_split\n",
        "\n",
        "X_train, X_test, y_train, y_test = train_test_split(X, y, test_size=0.2, random_state=42)\n",
        "X_train[:5]"
      ],
      "metadata": {
        "colab": {
          "base_uri": "https://localhost:8080/"
        },
        "id": "UHx3QIRA1KYb",
        "outputId": "876aeb9f-d32c-4a8b-d3ce-813ddf50f489"
      },
      "execution_count": 4,
      "outputs": [
        {
          "output_type": "execute_result",
          "data": {
            "text/plain": [
              "array([[4.6, 3.6, 1. , 0.2],\n",
              "       [5.7, 4.4, 1.5, 0.4],\n",
              "       [6.7, 3.1, 4.4, 1.4],\n",
              "       [4.8, 3.4, 1.6, 0.2],\n",
              "       [4.4, 3.2, 1.3, 0.2]])"
            ]
          },
          "metadata": {},
          "execution_count": 4
        }
      ]
    },
    {
      "cell_type": "code",
      "source": [
        "y_test[:5]"
      ],
      "metadata": {
        "colab": {
          "base_uri": "https://localhost:8080/"
        },
        "id": "rXIVTmPW1afS",
        "outputId": "c03f3494-569b-40a2-de7f-21ccc71853a9"
      },
      "execution_count": 5,
      "outputs": [
        {
          "output_type": "execute_result",
          "data": {
            "text/plain": [
              "array([1, 0, 2, 1, 1])"
            ]
          },
          "metadata": {},
          "execution_count": 5
        }
      ]
    },
    {
      "cell_type": "markdown",
      "source": [
        "### Logistic Regression"
      ],
      "metadata": {
        "id": "OM_GhQ5D5b94"
      }
    },
    {
      "cell_type": "code",
      "source": [
        "from sklearn.linear_model import LogisticRegression\n",
        "\n",
        "LR = LogisticRegression(max_iter=500).fit(X_train, y_train)"
      ],
      "metadata": {
        "id": "iGkIW6zF2LFL"
      },
      "execution_count": 6,
      "outputs": []
    },
    {
      "cell_type": "code",
      "source": [
        "from sklearn.metrics import accuracy_score\n",
        "pred = LR.predict(X_test)\n",
        "accuracy = accuracy_score(y_test, pred)\n",
        "\n",
        "print(f'The accuracy for Logistic Regression with max_iter = 500 : {accuracy*100:0.2f} %')"
      ],
      "metadata": {
        "colab": {
          "base_uri": "https://localhost:8080/"
        },
        "id": "qKdW9C6m6Guy",
        "outputId": "027fc29a-6e5b-4ac0-8bd6-91282e53e9d2"
      },
      "execution_count": 7,
      "outputs": [
        {
          "output_type": "stream",
          "name": "stdout",
          "text": [
            "The accuracy for Logistic Regression with max_iter = 500 : 100.00 %\n"
          ]
        }
      ]
    },
    {
      "cell_type": "markdown",
      "source": [
        "The other way to write the code same as:\n",
        "\n",
        "`pred = LR.predict(X_test)\n",
        "accuracy = accuracy_score(y_test, pred)`\n",
        "\n",
        "insted we can use:"
      ],
      "metadata": {
        "id": "3LsckQUyyiEH"
      }
    },
    {
      "cell_type": "code",
      "source": [
        "LR.score(X_test, y_test)"
      ],
      "metadata": {
        "colab": {
          "base_uri": "https://localhost:8080/"
        },
        "id": "fFdPwcNCyjI5",
        "outputId": "091b683f-5f8e-4986-b2c5-1ed523e7a313"
      },
      "execution_count": 8,
      "outputs": [
        {
          "output_type": "execute_result",
          "data": {
            "text/plain": [
              "1.0"
            ]
          },
          "metadata": {},
          "execution_count": 8
        }
      ]
    },
    {
      "cell_type": "markdown",
      "source": [
        "#### K fold Cross Validation\n",
        "\n",
        "K-Fold Cross-Validation is a technique used to assess a machine learning model's performance by dividing the dataset into K subsets (folds) and repeatedly training and testing the model on different combinations of these subsets. In your code, `k` is set to 5, indicating 5-fold cross-validation. The `cross_val_score` function automatically handles the process, providing an array of evaluation scores to gauge the model's performance. This method helps reduce the impact of randomness in a single train-test split, offering a more reliable estimate of the model's generalization ability.\n",
        "\n",
        "\n",
        "![image.png](data:image/png;base64,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)\n",
        "\n",
        "https://commons.wikimedia.org/wiki/File:K-fold_cross_validation_EN.svg\n"
      ],
      "metadata": {
        "id": "O4Y2ubuEA9Az"
      }
    },
    {
      "cell_type": "code",
      "source": [
        "from sklearn.model_selection import cross_val_score\n",
        "\n",
        "k = 5\n",
        "cross_val_score(LR, X, y, cv=k)"
      ],
      "metadata": {
        "colab": {
          "base_uri": "https://localhost:8080/"
        },
        "id": "Cly8_4oYA8a_",
        "outputId": "88bf13da-d316-481e-8031-a04e2fa7c82c"
      },
      "execution_count": 9,
      "outputs": [
        {
          "output_type": "execute_result",
          "data": {
            "text/plain": [
              "array([0.96666667, 1.        , 0.93333333, 0.96666667, 1.        ])"
            ]
          },
          "metadata": {},
          "execution_count": 9
        }
      ]
    },
    {
      "cell_type": "markdown",
      "source": [
        "#### Confusion Metrics\n",
        "\n",
        "The confusion matrix is a table used to assess the performance of a classification model. It includes four categories:\n",
        "\n",
        "1. **True Positives (TP)**: Correctly predicted positive cases.\n",
        "2. **True Negatives (TN)**: Correctly predicted negative cases.\n",
        "3. **False Positives (FP)**: Incorrectly predicted positive cases.\n",
        "4. **False Negatives (FN)**: Incorrectly predicted negative cases.\n",
        "These elements help in evaluating a model's accuracy, precision, recall, and other performance metrics.\n",
        "\n",
        "![image.png](data:image/png;base64,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)\n",
        "\n",
        "https://commons.wikimedia.org/wiki/File:ConfusionMatrixRedBlue.png"
      ],
      "metadata": {
        "id": "FDrudhdOWsNL"
      }
    },
    {
      "cell_type": "code",
      "source": [
        "from sklearn.metrics import confusion_matrix\n",
        "\n",
        "y_pred = LR.predict(X_test)\n",
        "confusion_matrix(y_test, y_pred)"
      ],
      "metadata": {
        "colab": {
          "base_uri": "https://localhost:8080/"
        },
        "id": "mxS0fQMwVe-7",
        "outputId": "102e45d0-a904-44ed-c7d6-473985f33c5d"
      },
      "execution_count": 10,
      "outputs": [
        {
          "output_type": "execute_result",
          "data": {
            "text/plain": [
              "array([[10,  0,  0],\n",
              "       [ 0,  9,  0],\n",
              "       [ 0,  0, 11]])"
            ]
          },
          "metadata": {},
          "execution_count": 10
        }
      ]
    },
    {
      "cell_type": "markdown",
      "source": [
        "**NOTE:** The `roc_curve` function in scikit-learn is primarily designed for **binary classification** and calculates the **Receiver Operating Characteristic (ROC)** curve for binary classification problems. It cannot be used directly for multiclass classification.In our case, `roc_curve` can not be used for evaluation because our problem is multiclass classification."
      ],
      "metadata": {
        "id": "SNkwI52AZ2PP"
      }
    },
    {
      "cell_type": "code",
      "source": [
        "from sklearn.metrics import classification_report\n",
        "\n",
        "print(classification_report(y_test, pred))"
      ],
      "metadata": {
        "colab": {
          "base_uri": "https://localhost:8080/"
        },
        "id": "vMy7CbOdJWyV",
        "outputId": "f7c2871f-85a7-4a6a-ca13-657f1864639b"
      },
      "execution_count": 11,
      "outputs": [
        {
          "output_type": "stream",
          "name": "stdout",
          "text": [
            "              precision    recall  f1-score   support\n",
            "\n",
            "           0       1.00      1.00      1.00        10\n",
            "           1       1.00      1.00      1.00         9\n",
            "           2       1.00      1.00      1.00        11\n",
            "\n",
            "    accuracy                           1.00        30\n",
            "   macro avg       1.00      1.00      1.00        30\n",
            "weighted avg       1.00      1.00      1.00        30\n",
            "\n"
          ]
        }
      ]
    },
    {
      "cell_type": "code",
      "source": [
        "def LogisticReg(n_iter):\n",
        "  LR = LogisticRegression(max_iter=n_iter).fit(X_train, y_train)\n",
        "  pred = LR.predict(X_test)\n",
        "  accuracy = accuracy_score(y_test, pred)\n",
        "  print(f'Accuracy for max_iter = {n_iter} : {accuracy*100:0.2f} %')\n",
        "\n",
        "print('Logistic Regression:')\n",
        "for n_iter in range (100, 1000, 100):\n",
        "  LogisticReg(n_iter)"
      ],
      "metadata": {
        "colab": {
          "base_uri": "https://localhost:8080/"
        },
        "id": "jSPy__bn-rsL",
        "outputId": "afd9ca30-568e-4c37-c526-0938b748fcc8"
      },
      "execution_count": 12,
      "outputs": [
        {
          "output_type": "stream",
          "name": "stdout",
          "text": [
            "Logistic Regression:\n",
            "Accuracy for max_iter = 100 : 100.00 %\n",
            "Accuracy for max_iter = 200 : 100.00 %\n",
            "Accuracy for max_iter = 300 : 100.00 %\n",
            "Accuracy for max_iter = 400 : 100.00 %\n",
            "Accuracy for max_iter = 500 : 100.00 %\n",
            "Accuracy for max_iter = 600 : 100.00 %\n",
            "Accuracy for max_iter = 700 : 100.00 %\n",
            "Accuracy for max_iter = 800 : 100.00 %\n",
            "Accuracy for max_iter = 900 : 100.00 %\n"
          ]
        },
        {
          "output_type": "stream",
          "name": "stderr",
          "text": [
            "/usr/local/lib/python3.10/dist-packages/sklearn/linear_model/_logistic.py:458: ConvergenceWarning: lbfgs failed to converge (status=1):\n",
            "STOP: TOTAL NO. of ITERATIONS REACHED LIMIT.\n",
            "\n",
            "Increase the number of iterations (max_iter) or scale the data as shown in:\n",
            "    https://scikit-learn.org/stable/modules/preprocessing.html\n",
            "Please also refer to the documentation for alternative solver options:\n",
            "    https://scikit-learn.org/stable/modules/linear_model.html#logistic-regression\n",
            "  n_iter_i = _check_optimize_result(\n"
          ]
        }
      ]
    },
    {
      "cell_type": "markdown",
      "source": [
        "### Decision Tree"
      ],
      "metadata": {
        "id": "hdozuVV3Csdv"
      }
    },
    {
      "cell_type": "code",
      "source": [
        "from sklearn.tree import DecisionTreeClassifier\n",
        "\n",
        "DT = DecisionTreeClassifier(random_state=42).fit(X_train, y_train)"
      ],
      "metadata": {
        "id": "DrdGu9pzC5Bq"
      },
      "execution_count": 13,
      "outputs": []
    },
    {
      "cell_type": "code",
      "source": [
        "from sklearn.metrics import accuracy_score\n",
        "pred = DT.predict(X_test)\n",
        "accuracy = accuracy_score(y_test, pred)\n",
        "\n",
        "print(f'The accuracy for Decision Tree : {accuracy*100:0.2f} %')"
      ],
      "metadata": {
        "colab": {
          "base_uri": "https://localhost:8080/"
        },
        "id": "72P-0HaqC4yl",
        "outputId": "47ebf01c-4c9f-4491-ae37-a25087dd4d2f"
      },
      "execution_count": 14,
      "outputs": [
        {
          "output_type": "stream",
          "name": "stdout",
          "text": [
            "The accuracy for Decision Tree : 100.00 %\n"
          ]
        }
      ]
    },
    {
      "cell_type": "code",
      "source": [
        "from sklearn.metrics import classification_report\n",
        "\n",
        "print(classification_report(y_test, pred))"
      ],
      "metadata": {
        "colab": {
          "base_uri": "https://localhost:8080/"
        },
        "id": "udhlA5DsJtLK",
        "outputId": "62ef2899-420e-474b-893a-0712b714adee"
      },
      "execution_count": 15,
      "outputs": [
        {
          "output_type": "stream",
          "name": "stdout",
          "text": [
            "              precision    recall  f1-score   support\n",
            "\n",
            "           0       1.00      1.00      1.00        10\n",
            "           1       1.00      1.00      1.00         9\n",
            "           2       1.00      1.00      1.00        11\n",
            "\n",
            "    accuracy                           1.00        30\n",
            "   macro avg       1.00      1.00      1.00        30\n",
            "weighted avg       1.00      1.00      1.00        30\n",
            "\n"
          ]
        }
      ]
    },
    {
      "cell_type": "markdown",
      "source": [
        "### Random Forest Classifier"
      ],
      "metadata": {
        "id": "3XbcLPKIEK7A"
      }
    },
    {
      "cell_type": "code",
      "source": [
        "from sklearn.ensemble import RandomForestClassifier\n",
        "\n",
        "RF = RandomForestClassifier(n_estimators=100, random_state=42).fit(X_train, y_train)"
      ],
      "metadata": {
        "id": "A1hhfqdJEQNI"
      },
      "execution_count": 16,
      "outputs": []
    },
    {
      "cell_type": "code",
      "source": [
        "from sklearn.metrics import accuracy_score\n",
        "pred = RF.predict(X_test)\n",
        "accuracy = accuracy_score(y_test, pred)\n",
        "\n",
        "print(f'The accuracy for Random Forest : {accuracy*100:0.2f} %')"
      ],
      "metadata": {
        "colab": {
          "base_uri": "https://localhost:8080/"
        },
        "id": "zhnTvpw4EP8g",
        "outputId": "e92ec4d0-d16f-4bb5-b365-19a5be460df4"
      },
      "execution_count": 17,
      "outputs": [
        {
          "output_type": "stream",
          "name": "stdout",
          "text": [
            "The accuracy for Random Forest : 100.00 %\n"
          ]
        }
      ]
    },
    {
      "cell_type": "code",
      "source": [
        "from sklearn.metrics import classification_report\n",
        "\n",
        "print(classification_report(y_test, pred))"
      ],
      "metadata": {
        "colab": {
          "base_uri": "https://localhost:8080/"
        },
        "id": "DJ70g3q6Ju8B",
        "outputId": "e6a59202-8a57-47c8-e850-d8371756ac99"
      },
      "execution_count": 18,
      "outputs": [
        {
          "output_type": "stream",
          "name": "stdout",
          "text": [
            "              precision    recall  f1-score   support\n",
            "\n",
            "           0       1.00      1.00      1.00        10\n",
            "           1       1.00      1.00      1.00         9\n",
            "           2       1.00      1.00      1.00        11\n",
            "\n",
            "    accuracy                           1.00        30\n",
            "   macro avg       1.00      1.00      1.00        30\n",
            "weighted avg       1.00      1.00      1.00        30\n",
            "\n"
          ]
        }
      ]
    },
    {
      "cell_type": "code",
      "source": [
        "def RandomFor(n_est):\n",
        "  RF = RandomForestClassifier(n_estimators=n_est, random_state=42).fit(X_train, y_train)\n",
        "  pred = RF.predict(X_test)\n",
        "  accuracy = accuracy_score(y_test, pred)\n",
        "  print(f'Accuracy for n_estimators = {n_est} : {accuracy*100:0.2f} %')\n",
        "\n",
        "print('Random Forest Classifier:')\n",
        "for n_est in range (100, 1000, 100):\n",
        "  RandomFor(n_est)"
      ],
      "metadata": {
        "colab": {
          "base_uri": "https://localhost:8080/"
        },
        "id": "2Woenui7E9ju",
        "outputId": "247fdb56-bda6-48a1-a187-d714f3930c74"
      },
      "execution_count": 19,
      "outputs": [
        {
          "output_type": "stream",
          "name": "stdout",
          "text": [
            "Random Forest Classifier:\n",
            "Accuracy for n_estimators = 100 : 100.00 %\n",
            "Accuracy for n_estimators = 200 : 100.00 %\n",
            "Accuracy for n_estimators = 300 : 100.00 %\n",
            "Accuracy for n_estimators = 400 : 100.00 %\n",
            "Accuracy for n_estimators = 500 : 100.00 %\n",
            "Accuracy for n_estimators = 600 : 100.00 %\n",
            "Accuracy for n_estimators = 700 : 100.00 %\n",
            "Accuracy for n_estimators = 800 : 100.00 %\n",
            "Accuracy for n_estimators = 900 : 100.00 %\n"
          ]
        }
      ]
    },
    {
      "cell_type": "markdown",
      "source": [
        "### Support Vector Machine (SVM)"
      ],
      "metadata": {
        "id": "kjwCCsWbFqqj"
      }
    },
    {
      "cell_type": "code",
      "source": [
        "from sklearn.svm import SVC\n",
        "\n",
        "SV = SVC(random_state=42).fit(X_train, y_train)"
      ],
      "metadata": {
        "id": "pyJtfC_-FwsF"
      },
      "execution_count": 20,
      "outputs": []
    },
    {
      "cell_type": "code",
      "source": [
        "from sklearn.metrics import accuracy_score\n",
        "pred = SV.predict(X_test)\n",
        "accuracy = accuracy_score(y_test, pred)\n",
        "\n",
        "print(f'The accuracy for Support Vector Machine : {accuracy*100:0.2f} %')"
      ],
      "metadata": {
        "colab": {
          "base_uri": "https://localhost:8080/"
        },
        "id": "JKPZ38TzFwoi",
        "outputId": "bccfbe84-e6e5-4c0b-ba7a-e9d2efe62bb7"
      },
      "execution_count": 21,
      "outputs": [
        {
          "output_type": "stream",
          "name": "stdout",
          "text": [
            "The accuracy for Support Vector Machine : 100.00 %\n"
          ]
        }
      ]
    },
    {
      "cell_type": "code",
      "source": [
        "from sklearn.metrics import classification_report\n",
        "\n",
        "print(classification_report(y_test, pred))"
      ],
      "metadata": {
        "colab": {
          "base_uri": "https://localhost:8080/"
        },
        "id": "dqbzH_FnJv9C",
        "outputId": "2d1e5afb-bb63-4f3b-ce3b-455ea185db2c"
      },
      "execution_count": 22,
      "outputs": [
        {
          "output_type": "stream",
          "name": "stdout",
          "text": [
            "              precision    recall  f1-score   support\n",
            "\n",
            "           0       1.00      1.00      1.00        10\n",
            "           1       1.00      1.00      1.00         9\n",
            "           2       1.00      1.00      1.00        11\n",
            "\n",
            "    accuracy                           1.00        30\n",
            "   macro avg       1.00      1.00      1.00        30\n",
            "weighted avg       1.00      1.00      1.00        30\n",
            "\n"
          ]
        }
      ]
    },
    {
      "cell_type": "markdown",
      "source": [
        "### K-Nearest Neighbours"
      ],
      "metadata": {
        "id": "63bhRUlbGVM2"
      }
    },
    {
      "cell_type": "code",
      "source": [
        "from sklearn.neighbors import KNeighborsClassifier\n",
        "\n",
        "KNN = KNeighborsClassifier(n_neighbors=7).fit(X_train, y_train)"
      ],
      "metadata": {
        "id": "hao4bcuGGhv3"
      },
      "execution_count": 23,
      "outputs": []
    },
    {
      "cell_type": "code",
      "source": [
        "from sklearn.metrics import accuracy_score\n",
        "pred = KNN.predict(X_test)\n",
        "accuracy = accuracy_score(y_test, pred)\n",
        "\n",
        "print(f'The accuracy for K-nearest Neighbours for k = 5 : {accuracy*100:0.2f} %')"
      ],
      "metadata": {
        "colab": {
          "base_uri": "https://localhost:8080/"
        },
        "id": "XfczXNKZGhso",
        "outputId": "3629df50-ef04-4952-a263-9265083f9e70"
      },
      "execution_count": 24,
      "outputs": [
        {
          "output_type": "stream",
          "name": "stdout",
          "text": [
            "The accuracy for K-nearest Neighbours for k = 5 : 96.67 %\n"
          ]
        }
      ]
    },
    {
      "cell_type": "code",
      "source": [
        "from sklearn.metrics import classification_report\n",
        "\n",
        "print(classification_report(y_test, pred))"
      ],
      "metadata": {
        "colab": {
          "base_uri": "https://localhost:8080/"
        },
        "id": "op-JQ47bJyBI",
        "outputId": "67896727-88b5-402f-9fa1-c2ce7b39ff50"
      },
      "execution_count": 25,
      "outputs": [
        {
          "output_type": "stream",
          "name": "stdout",
          "text": [
            "              precision    recall  f1-score   support\n",
            "\n",
            "           0       1.00      1.00      1.00        10\n",
            "           1       1.00      0.89      0.94         9\n",
            "           2       0.92      1.00      0.96        11\n",
            "\n",
            "    accuracy                           0.97        30\n",
            "   macro avg       0.97      0.96      0.97        30\n",
            "weighted avg       0.97      0.97      0.97        30\n",
            "\n"
          ]
        }
      ]
    },
    {
      "cell_type": "code",
      "source": [
        "def KNear(n_neighbors):\n",
        "  KNN = KNeighborsClassifier(n_neighbors=n_neighbors).fit(X_train, y_train)\n",
        "  pred = KNN.predict(X_test)\n",
        "  accuracy = accuracy_score(y_test, pred)\n",
        "  print(f'Accuracy for K = {n_neighbors} : {accuracy*100:0.2f} %')\n",
        "\n",
        "print('K Nearest Neighbours:')\n",
        "for n_neighbors in range (1, 10):\n",
        "  KNear(n_neighbors)"
      ],
      "metadata": {
        "colab": {
          "base_uri": "https://localhost:8080/"
        },
        "id": "4Qk2dYp_HVI-",
        "outputId": "a731a991-d7e0-4cef-8b8d-338390e6341b"
      },
      "execution_count": 26,
      "outputs": [
        {
          "output_type": "stream",
          "name": "stdout",
          "text": [
            "K Nearest Neighbours:\n",
            "Accuracy for K = 1 : 100.00 %\n",
            "Accuracy for K = 2 : 100.00 %\n",
            "Accuracy for K = 3 : 100.00 %\n",
            "Accuracy for K = 4 : 100.00 %\n",
            "Accuracy for K = 5 : 100.00 %\n",
            "Accuracy for K = 6 : 100.00 %\n",
            "Accuracy for K = 7 : 96.67 %\n",
            "Accuracy for K = 8 : 100.00 %\n",
            "Accuracy for K = 9 : 100.00 %\n"
          ]
        }
      ]
    },
    {
      "cell_type": "markdown",
      "source": [
        "### Naive Bayes"
      ],
      "metadata": {
        "id": "9h6LjX9yIs2p"
      }
    },
    {
      "cell_type": "code",
      "source": [
        "from sklearn.naive_bayes import GaussianNB\n",
        "\n",
        "NB =  GaussianNB().fit(X_train, y_train)"
      ],
      "metadata": {
        "id": "c-DVEU1THYFg"
      },
      "execution_count": 27,
      "outputs": []
    },
    {
      "cell_type": "code",
      "source": [
        "from sklearn.metrics import accuracy_score\n",
        "pred = NB.predict(X_test)\n",
        "accuracy = accuracy_score(y_test, pred)\n",
        "\n",
        "print(f'The accuracy for Naive Bayes : {accuracy*100:0.2f} %')"
      ],
      "metadata": {
        "colab": {
          "base_uri": "https://localhost:8080/"
        },
        "id": "L5thG331HYCI",
        "outputId": "c1bebac4-192a-4f9b-8460-cd81202c2363"
      },
      "execution_count": 28,
      "outputs": [
        {
          "output_type": "stream",
          "name": "stdout",
          "text": [
            "The accuracy for Naive Bayes : 100.00 %\n"
          ]
        }
      ]
    },
    {
      "cell_type": "code",
      "source": [
        "from sklearn.metrics import classification_report\n",
        "\n",
        "print(classification_report(y_test, pred))"
      ],
      "metadata": {
        "colab": {
          "base_uri": "https://localhost:8080/"
        },
        "id": "LQ4BdRa0JzT4",
        "outputId": "64e93fbf-1a40-4af7-f5d3-17106af8b43e"
      },
      "execution_count": 29,
      "outputs": [
        {
          "output_type": "stream",
          "name": "stdout",
          "text": [
            "              precision    recall  f1-score   support\n",
            "\n",
            "           0       1.00      1.00      1.00        10\n",
            "           1       1.00      1.00      1.00         9\n",
            "           2       1.00      1.00      1.00        11\n",
            "\n",
            "    accuracy                           1.00        30\n",
            "   macro avg       1.00      1.00      1.00        30\n",
            "weighted avg       1.00      1.00      1.00        30\n",
            "\n"
          ]
        }
      ]
    },
    {
      "cell_type": "markdown",
      "source": [
        "All the models for classification in One Code"
      ],
      "metadata": {
        "id": "P-TnLWmnLD6R"
      }
    },
    {
      "cell_type": "code",
      "source": [
        "# Import necessary libraries\n",
        "from sklearn.datasets import load_iris\n",
        "from sklearn.model_selection import train_test_split\n",
        "from sklearn.linear_model import LogisticRegression\n",
        "from sklearn.tree import DecisionTreeClassifier\n",
        "from sklearn.ensemble import RandomForestClassifier\n",
        "from sklearn.svm import SVC\n",
        "from sklearn.neighbors import KNeighborsClassifier\n",
        "from sklearn.naive_bayes import GaussianNB\n",
        "from sklearn.metrics import accuracy_score, classification_report\n",
        "\n",
        "# Load the Iris dataset\n",
        "iris = load_iris()\n",
        "X, y = iris.data, iris.target\n",
        "\n",
        "# Split the data into training and testing sets\n",
        "X_train, X_test, y_train, y_test = train_test_split(X, y, test_size=0.3, random_state=42)\n",
        "\n",
        "# Initialize classifiers for each algorithm\n",
        "logistic_reg = LogisticRegression(max_iter=1000)\n",
        "decision_tree = DecisionTreeClassifier()\n",
        "random_forest = RandomForestClassifier()\n",
        "svm_classifier = SVC()\n",
        "knn_classifier = KNeighborsClassifier()\n",
        "naive_bayes = GaussianNB()\n",
        "\n",
        "# Define a list of classifiers for iteration\n",
        "classifiers = [\n",
        "    (\"Logistic Regression\", logistic_reg),\n",
        "    (\"Decision Tree\", decision_tree),\n",
        "    (\"Random Forest\", random_forest),\n",
        "    (\"Support Vector Machine\", svm_classifier),\n",
        "    (\"K-Nearest Neighbors\", knn_classifier),\n",
        "    (\"Naive Bayesian\", naive_bayes)\n",
        "]\n",
        "\n",
        "# Iterate through classifiers, fit, predict, and evaluate\n",
        "for name, classifier in classifiers:\n",
        "    classifier.fit(X_train, y_train)\n",
        "    y_pred = classifier.predict(X_test)\n",
        "    accuracy = accuracy_score(y_test, y_pred)\n",
        "\n",
        "    print(f\"Algorithm: {name}\")\n",
        "    print(f\"Accuracy: {accuracy:.2f}\")\n",
        "    print(\"Classification Report:\\n\", classification_report(y_test, y_pred))\n",
        "    print(\"--------------------------------------------------\")\n"
      ],
      "metadata": {
        "colab": {
          "base_uri": "https://localhost:8080/"
        },
        "id": "HW5viQjh8MCq",
        "outputId": "15f2810f-078f-4cd9-ba22-46dfa3f3c0fb"
      },
      "execution_count": 30,
      "outputs": [
        {
          "output_type": "stream",
          "name": "stdout",
          "text": [
            "Algorithm: Logistic Regression\n",
            "Accuracy: 1.00\n",
            "Classification Report:\n",
            "               precision    recall  f1-score   support\n",
            "\n",
            "           0       1.00      1.00      1.00        19\n",
            "           1       1.00      1.00      1.00        13\n",
            "           2       1.00      1.00      1.00        13\n",
            "\n",
            "    accuracy                           1.00        45\n",
            "   macro avg       1.00      1.00      1.00        45\n",
            "weighted avg       1.00      1.00      1.00        45\n",
            "\n",
            "--------------------------------------------------\n",
            "Algorithm: Decision Tree\n",
            "Accuracy: 1.00\n",
            "Classification Report:\n",
            "               precision    recall  f1-score   support\n",
            "\n",
            "           0       1.00      1.00      1.00        19\n",
            "           1       1.00      1.00      1.00        13\n",
            "           2       1.00      1.00      1.00        13\n",
            "\n",
            "    accuracy                           1.00        45\n",
            "   macro avg       1.00      1.00      1.00        45\n",
            "weighted avg       1.00      1.00      1.00        45\n",
            "\n",
            "--------------------------------------------------\n",
            "Algorithm: Random Forest\n",
            "Accuracy: 1.00\n",
            "Classification Report:\n",
            "               precision    recall  f1-score   support\n",
            "\n",
            "           0       1.00      1.00      1.00        19\n",
            "           1       1.00      1.00      1.00        13\n",
            "           2       1.00      1.00      1.00        13\n",
            "\n",
            "    accuracy                           1.00        45\n",
            "   macro avg       1.00      1.00      1.00        45\n",
            "weighted avg       1.00      1.00      1.00        45\n",
            "\n",
            "--------------------------------------------------\n",
            "Algorithm: Support Vector Machine\n",
            "Accuracy: 1.00\n",
            "Classification Report:\n",
            "               precision    recall  f1-score   support\n",
            "\n",
            "           0       1.00      1.00      1.00        19\n",
            "           1       1.00      1.00      1.00        13\n",
            "           2       1.00      1.00      1.00        13\n",
            "\n",
            "    accuracy                           1.00        45\n",
            "   macro avg       1.00      1.00      1.00        45\n",
            "weighted avg       1.00      1.00      1.00        45\n",
            "\n",
            "--------------------------------------------------\n",
            "Algorithm: K-Nearest Neighbors\n",
            "Accuracy: 1.00\n",
            "Classification Report:\n",
            "               precision    recall  f1-score   support\n",
            "\n",
            "           0       1.00      1.00      1.00        19\n",
            "           1       1.00      1.00      1.00        13\n",
            "           2       1.00      1.00      1.00        13\n",
            "\n",
            "    accuracy                           1.00        45\n",
            "   macro avg       1.00      1.00      1.00        45\n",
            "weighted avg       1.00      1.00      1.00        45\n",
            "\n",
            "--------------------------------------------------\n",
            "Algorithm: Naive Bayesian\n",
            "Accuracy: 0.98\n",
            "Classification Report:\n",
            "               precision    recall  f1-score   support\n",
            "\n",
            "           0       1.00      1.00      1.00        19\n",
            "           1       1.00      0.92      0.96        13\n",
            "           2       0.93      1.00      0.96        13\n",
            "\n",
            "    accuracy                           0.98        45\n",
            "   macro avg       0.98      0.97      0.97        45\n",
            "weighted avg       0.98      0.98      0.98        45\n",
            "\n",
            "--------------------------------------------------\n"
          ]
        }
      ]
    },
    {
      "cell_type": "markdown",
      "source": [
        "Saving the models"
      ],
      "metadata": {
        "id": "rJVbL9ApNejA"
      }
    },
    {
      "cell_type": "markdown",
      "source": [
        "## Regression\n",
        "\n",
        "In this section, we will comprehensively explore a range of regression algorithms using the **California housing dataset**. This dataset provides a real-world scenario to apply regression techniques. Our focus will be on the following regression algorithms:\n",
        "\n",
        "1. **Linear Regression:** Linear regression is a fundamental algorithm for predicting numerical values (continuous variables) by fitting a linear equation to the observed data. It is a simple yet powerful method widely used for regression tasks.\n",
        "\n",
        "2. **Support Vector Regressor (SVR):** Support Vector Regression is a regression technique that employs the principles of support vector machines. It is particularly effective for tasks where there may not be a linear relationship between the features and the target variable.\n",
        "\n",
        "3. **Random Forest Regressor:** The Random Forest Regressor is an ensemble learning algorithm that combines multiple decision trees to make predictions. It is known for its robustness, versatility, and ability to handle complex regression tasks.\n",
        "\n",
        "Link for dataset: https://www.kaggle.com/datasets/shibumohapatra/house-price"
      ],
      "metadata": {
        "id": "rCnHFeDSMfpS"
      }
    },
    {
      "cell_type": "code",
      "source": [
        "from sklearn.datasets import fetch_california_housing\n",
        "\n",
        "# Load the California Housing Prices dataset\n",
        "california_housing = fetch_california_housing()\n",
        "\n",
        "# Access the data and target\n",
        "X = california_housing.data\n",
        "y = california_housing.target\n",
        "X[:5]"
      ],
      "metadata": {
        "colab": {
          "base_uri": "https://localhost:8080/"
        },
        "id": "Cz1yYkoTxmeR",
        "outputId": "6f4b1eb1-7929-499a-fec6-93de2c2203a0"
      },
      "execution_count": 31,
      "outputs": [
        {
          "output_type": "execute_result",
          "data": {
            "text/plain": [
              "array([[ 8.32520000e+00,  4.10000000e+01,  6.98412698e+00,\n",
              "         1.02380952e+00,  3.22000000e+02,  2.55555556e+00,\n",
              "         3.78800000e+01, -1.22230000e+02],\n",
              "       [ 8.30140000e+00,  2.10000000e+01,  6.23813708e+00,\n",
              "         9.71880492e-01,  2.40100000e+03,  2.10984183e+00,\n",
              "         3.78600000e+01, -1.22220000e+02],\n",
              "       [ 7.25740000e+00,  5.20000000e+01,  8.28813559e+00,\n",
              "         1.07344633e+00,  4.96000000e+02,  2.80225989e+00,\n",
              "         3.78500000e+01, -1.22240000e+02],\n",
              "       [ 5.64310000e+00,  5.20000000e+01,  5.81735160e+00,\n",
              "         1.07305936e+00,  5.58000000e+02,  2.54794521e+00,\n",
              "         3.78500000e+01, -1.22250000e+02],\n",
              "       [ 3.84620000e+00,  5.20000000e+01,  6.28185328e+00,\n",
              "         1.08108108e+00,  5.65000000e+02,  2.18146718e+00,\n",
              "         3.78500000e+01, -1.22250000e+02]])"
            ]
          },
          "metadata": {},
          "execution_count": 31
        }
      ]
    },
    {
      "cell_type": "code",
      "source": [
        "from sklearn.model_selection import train_test_split\n",
        "\n",
        "X_train, X_test, y_train, y_test = train_test_split(X, y, test_size=0.2, random_state=42)\n",
        "X_train[:5]"
      ],
      "metadata": {
        "colab": {
          "base_uri": "https://localhost:8080/"
        },
        "id": "BDZqNPgTyZVa",
        "outputId": "116f24fc-0ac0-4735-97d4-c014a1fa0694"
      },
      "execution_count": 32,
      "outputs": [
        {
          "output_type": "execute_result",
          "data": {
            "text/plain": [
              "array([[ 3.25960000e+00,  3.30000000e+01,  5.01765650e+00,\n",
              "         1.00642055e+00,  2.30000000e+03,  3.69181380e+00,\n",
              "         3.27100000e+01, -1.17030000e+02],\n",
              "       [ 3.81250000e+00,  4.90000000e+01,  4.47354497e+00,\n",
              "         1.04100529e+00,  1.31400000e+03,  1.73809524e+00,\n",
              "         3.37700000e+01, -1.18160000e+02],\n",
              "       [ 4.15630000e+00,  4.00000000e+00,  5.64583333e+00,\n",
              "         9.85119048e-01,  9.15000000e+02,  2.72321429e+00,\n",
              "         3.46600000e+01, -1.20480000e+02],\n",
              "       [ 1.94250000e+00,  3.60000000e+01,  4.00281690e+00,\n",
              "         1.03380282e+00,  1.41800000e+03,  3.99436620e+00,\n",
              "         3.26900000e+01, -1.17110000e+02],\n",
              "       [ 3.55420000e+00,  4.30000000e+01,  6.26842105e+00,\n",
              "         1.13421053e+00,  8.74000000e+02,  2.30000000e+00,\n",
              "         3.67800000e+01, -1.19800000e+02]])"
            ]
          },
          "metadata": {},
          "execution_count": 32
        }
      ]
    },
    {
      "cell_type": "code",
      "source": [
        "y_train[:5]"
      ],
      "metadata": {
        "colab": {
          "base_uri": "https://localhost:8080/"
        },
        "id": "4LKTSDjAyZRu",
        "outputId": "a6bb8713-10c7-44ca-bd19-2536b8d58b1e"
      },
      "execution_count": 33,
      "outputs": [
        {
          "output_type": "execute_result",
          "data": {
            "text/plain": [
              "array([1.03 , 3.821, 1.726, 0.934, 0.965])"
            ]
          },
          "metadata": {},
          "execution_count": 33
        }
      ]
    },
    {
      "cell_type": "markdown",
      "source": [
        "### Linear Regression"
      ],
      "metadata": {
        "id": "ylolJWFTB80S"
      }
    },
    {
      "cell_type": "code",
      "source": [
        "from sklearn.linear_model import LinearRegression\n",
        "\n",
        "LR = LinearRegression().fit(X_train, y_train)"
      ],
      "metadata": {
        "id": "wSyoG8M1yZOU"
      },
      "execution_count": 34,
      "outputs": []
    },
    {
      "cell_type": "code",
      "source": [
        "from sklearn.metrics import mean_squared_error, mean_absolute_error, r2_score\n",
        "\n",
        "pred = LR.predict(X_test)\n",
        "\n",
        "mse = mean_squared_error(y_test, pred)\n",
        "mae = mean_absolute_error(y_test, pred)\n",
        "r2 = r2_score(y_test, pred)\n",
        "\n",
        "print(f\"Algorithm: Linear Regression\")\n",
        "print(f\"Mean Squared Error (MSE): {mse:.2f}\")\n",
        "print(f\"Mean Absolute Error (MAE): {mae:.2f}\")\n",
        "print(f\"R-squared (R2) Score: {r2:.2f}\")"
      ],
      "metadata": {
        "colab": {
          "base_uri": "https://localhost:8080/"
        },
        "id": "ySWyDVhuCxwc",
        "outputId": "d2b86523-73b2-41aa-d224-9a15d307f516"
      },
      "execution_count": 35,
      "outputs": [
        {
          "output_type": "stream",
          "name": "stdout",
          "text": [
            "Algorithm: Linear Regression\n",
            "Mean Squared Error (MSE): 0.56\n",
            "Mean Absolute Error (MAE): 0.53\n",
            "R-squared (R2) Score: 0.58\n"
          ]
        }
      ]
    },
    {
      "cell_type": "markdown",
      "source": [
        "### Support Vector Reggressor"
      ],
      "metadata": {
        "id": "A50HfvpnIFS7"
      }
    },
    {
      "cell_type": "code",
      "source": [
        "from sklearn.svm import SVR\n",
        "\n",
        "SV = SVR().fit(X_train, y_train)"
      ],
      "metadata": {
        "id": "gKv5czjkCxp4"
      },
      "execution_count": 36,
      "outputs": []
    },
    {
      "cell_type": "code",
      "source": [
        "from sklearn.metrics import mean_squared_error, mean_absolute_error, r2_score\n",
        "\n",
        "pred = SV.predict(X_test)\n",
        "\n",
        "mse = mean_squared_error(y_test, pred)\n",
        "mae = mean_absolute_error(y_test, pred)\n",
        "r2 = r2_score(y_test, pred)\n",
        "\n",
        "print(f\"Algorithm: Support Vector Regressor\")\n",
        "print(f\"Mean Squared Error (MSE): {mse:.2f}\")\n",
        "print(f\"Mean Absolute Error (MAE): {mae:.2f}\")\n",
        "print(f\"R-squared (R2) Score: {r2:.2f}\")"
      ],
      "metadata": {
        "colab": {
          "base_uri": "https://localhost:8080/"
        },
        "id": "6zl-uoCrIgmQ",
        "outputId": "a0e41d4c-9f85-42c9-aa13-b1f517efc6a0"
      },
      "execution_count": 37,
      "outputs": [
        {
          "output_type": "stream",
          "name": "stdout",
          "text": [
            "Algorithm: Support Vector Regressor\n",
            "Mean Squared Error (MSE): 1.33\n",
            "Mean Absolute Error (MAE): 0.86\n",
            "R-squared (R2) Score: -0.02\n"
          ]
        }
      ]
    },
    {
      "cell_type": "markdown",
      "source": [
        "### Random Forest Regressor"
      ],
      "metadata": {
        "id": "8c4zCl5bktc3"
      }
    },
    {
      "cell_type": "code",
      "source": [
        "from sklearn.ensemble import RandomForestRegressor\n",
        "\n",
        "RF = RandomForestRegressor(n_estimators=100, random_state=42).fit(X_train, y_train)"
      ],
      "metadata": {
        "id": "UFWZJQdhkxMs"
      },
      "execution_count": 38,
      "outputs": []
    },
    {
      "cell_type": "code",
      "source": [
        "from sklearn.metrics import mean_squared_error, mean_absolute_error, r2_score\n",
        "\n",
        "pred = RF.predict(X_test)\n",
        "\n",
        "mse = mean_squared_error(y_test, pred)\n",
        "mae = mean_absolute_error(y_test, pred)\n",
        "r2 = r2_score(y_test, pred)\n",
        "\n",
        "print(\"Algorithm: Random Forest Regressor\")\n",
        "print(f\"Mean Squared Error (MSE): {mse:.2f}\")\n",
        "print(f\"Mean Absolute Error (MAE): {mae:.2f}\")\n",
        "print(f\"R-squared (R2) Score: {r2:.2f}\")"
      ],
      "metadata": {
        "colab": {
          "base_uri": "https://localhost:8080/"
        },
        "id": "gstK2UVkkxFi",
        "outputId": "65158a51-7c43-4faf-a6a2-d694ce7b89e3"
      },
      "execution_count": 39,
      "outputs": [
        {
          "output_type": "stream",
          "name": "stdout",
          "text": [
            "Algorithm: Random Forest Regressor\n",
            "Mean Squared Error (MSE): 0.26\n",
            "Mean Absolute Error (MAE): 0.33\n",
            "R-squared (R2) Score: 0.81\n"
          ]
        }
      ]
    },
    {
      "cell_type": "markdown",
      "source": [
        "All in one Code for Regression Algorithms"
      ],
      "metadata": {
        "id": "RHKAWGRGmkXq"
      }
    },
    {
      "cell_type": "code",
      "source": [
        "# Import necessary libraries\n",
        "from sklearn.datasets import fetch_california_housing\n",
        "from sklearn.model_selection import train_test_split\n",
        "from sklearn.linear_model import LinearRegression\n",
        "from sklearn.svm import SVR\n",
        "from sklearn.ensemble import RandomForestRegressor\n",
        "from sklearn.metrics import mean_squared_error, mean_absolute_error, r2_score\n",
        "\n",
        "# Load the California Housing Prices dataset\n",
        "california_housing = fetch_california_housing()\n",
        "X, y = california_housing.data, california_housing.target\n",
        "\n",
        "# Split the data into training and testing sets\n",
        "X_train, X_test, y_train, y_test = train_test_split(X, y, test_size=0.2, random_state=42)\n",
        "\n",
        "# Initialize regression models\n",
        "linear_reg = LinearRegression()\n",
        "svr_reg = SVR()\n",
        "rf_reg = RandomForestRegressor(n_estimators=100, random_state=42)\n",
        "\n",
        "# Define a list of regressors for iteration\n",
        "regressors = [\n",
        "    (\"Linear Regression\", linear_reg),\n",
        "    (\"Support Vector Regressor\", svr_reg),\n",
        "    (\"Random Forest Regressor\", rf_reg)\n",
        "]\n",
        "\n",
        "# Iterate through regressors, fit, predict, and evaluate\n",
        "for name, regressor in regressors:\n",
        "    regressor.fit(X_train, y_train)\n",
        "    y_pred = regressor.predict(X_test)\n",
        "\n",
        "    mse = mean_squared_error(y_test, y_pred)\n",
        "    mae = mean_absolute_error(y_test, y_pred)\n",
        "    r2 = r2_score(y_test, y_pred)\n",
        "\n",
        "    print(f\"Algorithm: {name}\")\n",
        "    print(f\"Mean Squared Error (MSE): {mse:.2f}\")\n",
        "    print(f\"Mean Absolute Error (MAE): {mae:.2f}\")\n",
        "    print(f\"R-squared (R2) Score: {r2:.2f}\")\n",
        "    print(\"--------------------------------------------------\")"
      ],
      "metadata": {
        "colab": {
          "base_uri": "https://localhost:8080/"
        },
        "id": "r04KELrdkxCQ",
        "outputId": "54b206e8-9733-4b11-bb1c-312864c7c19f"
      },
      "execution_count": 40,
      "outputs": [
        {
          "output_type": "stream",
          "name": "stdout",
          "text": [
            "Algorithm: Linear Regression\n",
            "Mean Squared Error (MSE): 0.56\n",
            "Mean Absolute Error (MAE): 0.53\n",
            "R-squared (R2) Score: 0.58\n",
            "--------------------------------------------------\n",
            "Algorithm: Support Vector Regressor\n",
            "Mean Squared Error (MSE): 1.33\n",
            "Mean Absolute Error (MAE): 0.86\n",
            "R-squared (R2) Score: -0.02\n",
            "--------------------------------------------------\n",
            "Algorithm: Random Forest Regressor\n",
            "Mean Squared Error (MSE): 0.26\n",
            "Mean Absolute Error (MAE): 0.33\n",
            "R-squared (R2) Score: 0.81\n",
            "--------------------------------------------------\n"
          ]
        }
      ]
    },
    {
      "cell_type": "markdown",
      "source": [
        "## Improving the  model (Hyperparameter Tuning)\n",
        "\n",
        "Hyperparameters are essential configuration settings for machine learning models that are not learned from the data but are set before the training process begins. They play a crucial role in determining the model's performance and behavior. Properly tuning these hyperparameters is crucial for optimizing a model's performance. Let's briefly discuss the need to tune hyperparameters in reference to the provided text and code.\n",
        "\n",
        "There are three methods for hyperparameter tuning in Python:\n",
        "\n",
        "1. **Manually Trying out different parameters:** This involves manually selecting and trying different hyperparameter values and assessing the model's performance. It's a time-consuming and often inefficient approach but can be useful for understanding the impact of hyperparameters on the model's performance.\n",
        "\n",
        "2. **RandomizedSearchCV:** RandomizedSearchCV is a technique that automates the hyperparameter tuning process by searching through a predefined range of hyperparameters. It randomly samples a subset of the hyperparameter space and evaluates the model's performance, making it more efficient than manual tuning. This method helps find good hyperparameters without trying every possible combination.\n",
        "\n",
        "3. **GridSearchCV:** GridSearchCV is another automated hyperparameter tuning technique that systematically explores all possible combinations of hyperparameters within predefined ranges. While it's more comprehensive and thorough than RandomizedSearchCV, it can be computationally expensive for a large hyperparameter space."
      ],
      "metadata": {
        "id": "YiORUXJzQ-ua"
      }
    },
    {
      "cell_type": "markdown",
      "source": [
        "The code `Model.get_params()` shows the hyperparameters for a given model. For example: The code below shows hyperparameters for Random Forest Regressor."
      ],
      "metadata": {
        "id": "9B0rD2ZvUppZ"
      }
    },
    {
      "cell_type": "code",
      "source": [
        "RF.get_params()"
      ],
      "metadata": {
        "colab": {
          "base_uri": "https://localhost:8080/"
        },
        "id": "9r0IdLhsQ-EA",
        "outputId": "4b48a560-40bd-471c-d0e8-6d00d07c81f5"
      },
      "execution_count": 41,
      "outputs": [
        {
          "output_type": "execute_result",
          "data": {
            "text/plain": [
              "{'bootstrap': True,\n",
              " 'ccp_alpha': 0.0,\n",
              " 'criterion': 'squared_error',\n",
              " 'max_depth': None,\n",
              " 'max_features': 1.0,\n",
              " 'max_leaf_nodes': None,\n",
              " 'max_samples': None,\n",
              " 'min_impurity_decrease': 0.0,\n",
              " 'min_samples_leaf': 1,\n",
              " 'min_samples_split': 2,\n",
              " 'min_weight_fraction_leaf': 0.0,\n",
              " 'n_estimators': 100,\n",
              " 'n_jobs': None,\n",
              " 'oob_score': False,\n",
              " 'random_state': 42,\n",
              " 'verbose': 0,\n",
              " 'warm_start': False}"
            ]
          },
          "metadata": {},
          "execution_count": 41
        }
      ]
    },
    {
      "cell_type": "markdown",
      "source": [
        "the method`evaluate` will print and return metric parameters."
      ],
      "metadata": {
        "id": "S_22Ebzcd0VX"
      }
    },
    {
      "cell_type": "code",
      "source": [
        "def evaluate(y_test, pred):\n",
        "  mse = mean_squared_error(y_test, pred)\n",
        "  mae = mean_absolute_error(y_test, pred)\n",
        "  r2 = r2_score(y_test, pred)\n",
        "  print(f\"Mean Squared Error (MSE): {mse:.2f}\")\n",
        "  print(f\"Mean Absolute Error (MAE): {mae:.2f}\")\n",
        "  print(f\"R-squared (R2) Score: {r2:.2f}\")\n",
        "  return mse, mae, r2"
      ],
      "metadata": {
        "id": "2meuppBXaX6e"
      },
      "execution_count": 42,
      "outputs": []
    },
    {
      "cell_type": "markdown",
      "source": [
        "### Manually testing hyperparameters"
      ],
      "metadata": {
        "id": "h5gyYUo_VEE0"
      }
    },
    {
      "cell_type": "code",
      "source": [
        "def RForR(n_est):\n",
        "  RF = RandomForestRegressor(n_estimators=n_est, random_state=42).fit(X_train, y_train)\n",
        "  pred = RF.predict(X_test)\n",
        "  mse = mean_squared_error(y_test, pred)\n",
        "  mae = mean_absolute_error(y_test, pred)\n",
        "  r2 = r2_score(y_test, pred)\n",
        "  print(f\"Number of Estimators = {n_est}\")\n",
        "  print(f\"Mean Squared Error (MSE): {mse:.2f}\")\n",
        "  print(f\"Mean Absolute Error (MAE): {mae:.2f}\")\n",
        "  print(f\"R-squared (R2) Score: {r2:.2f}\")\n",
        "  print(\"--------------------------------------------------\")\n",
        "\n",
        "print(\"Algorithm: Random Forest Regressor\")\n",
        "for n_est in range (100, 1000, 100):\n",
        "  RForR(n_est)"
      ],
      "metadata": {
        "colab": {
          "base_uri": "https://localhost:8080/"
        },
        "id": "TsLTlwYpmzxk",
        "outputId": "d923fcf2-0cb5-4b9e-bc8b-c8e92239d7e4"
      },
      "execution_count": 43,
      "outputs": [
        {
          "output_type": "stream",
          "name": "stdout",
          "text": [
            "Algorithm: Random Forest Regressor\n",
            "Number of Estimators = 100\n",
            "Mean Squared Error (MSE): 0.26\n",
            "Mean Absolute Error (MAE): 0.33\n",
            "R-squared (R2) Score: 0.81\n",
            "--------------------------------------------------\n",
            "Number of Estimators = 200\n",
            "Mean Squared Error (MSE): 0.25\n",
            "Mean Absolute Error (MAE): 0.33\n",
            "R-squared (R2) Score: 0.81\n",
            "--------------------------------------------------\n",
            "Number of Estimators = 300\n",
            "Mean Squared Error (MSE): 0.25\n",
            "Mean Absolute Error (MAE): 0.33\n",
            "R-squared (R2) Score: 0.81\n",
            "--------------------------------------------------\n",
            "Number of Estimators = 400\n",
            "Mean Squared Error (MSE): 0.25\n",
            "Mean Absolute Error (MAE): 0.33\n",
            "R-squared (R2) Score: 0.81\n",
            "--------------------------------------------------\n",
            "Number of Estimators = 500\n",
            "Mean Squared Error (MSE): 0.25\n",
            "Mean Absolute Error (MAE): 0.33\n",
            "R-squared (R2) Score: 0.81\n",
            "--------------------------------------------------\n",
            "Number of Estimators = 600\n",
            "Mean Squared Error (MSE): 0.25\n",
            "Mean Absolute Error (MAE): 0.33\n",
            "R-squared (R2) Score: 0.81\n",
            "--------------------------------------------------\n",
            "Number of Estimators = 700\n",
            "Mean Squared Error (MSE): 0.25\n",
            "Mean Absolute Error (MAE): 0.33\n",
            "R-squared (R2) Score: 0.81\n",
            "--------------------------------------------------\n",
            "Number of Estimators = 800\n",
            "Mean Squared Error (MSE): 0.25\n",
            "Mean Absolute Error (MAE): 0.33\n",
            "R-squared (R2) Score: 0.81\n",
            "--------------------------------------------------\n",
            "Number of Estimators = 900\n",
            "Mean Squared Error (MSE): 0.25\n",
            "Mean Absolute Error (MAE): 0.33\n",
            "R-squared (R2) Score: 0.81\n",
            "--------------------------------------------------\n"
          ]
        }
      ]
    },
    {
      "cell_type": "code",
      "source": [
        "manual_metric = evaluate(y_test, pred)"
      ],
      "metadata": {
        "colab": {
          "base_uri": "https://localhost:8080/"
        },
        "id": "duB34jbCdXG5",
        "outputId": "23340ec9-5316-487e-b5b3-5aac36dca176"
      },
      "execution_count": 44,
      "outputs": [
        {
          "output_type": "stream",
          "name": "stdout",
          "text": [
            "Mean Squared Error (MSE): 0.26\n",
            "Mean Absolute Error (MAE): 0.33\n",
            "R-squared (R2) Score: 0.81\n"
          ]
        }
      ]
    },
    {
      "cell_type": "markdown",
      "source": [
        "### RandimizedSearchCV"
      ],
      "metadata": {
        "id": "Nu5oKThuVxka"
      }
    },
    {
      "cell_type": "code",
      "source": [
        "grid = {'n_estimators':[100,200,500,800,1000,1500],\n",
        "        'max_depth':[None, 10, 30],\n",
        "        'max_features':[1.0, 'sqrt'],\n",
        "        'min_samples_split':[2,4,8],\n",
        "        'min_samples_leaf':[1,2,4]}\n",
        "grid"
      ],
      "metadata": {
        "colab": {
          "base_uri": "https://localhost:8080/"
        },
        "id": "ahsNCVr-VxNj",
        "outputId": "ed8f0e9b-7376-4c9c-b5c2-d0b246a9622e"
      },
      "execution_count": 45,
      "outputs": [
        {
          "output_type": "execute_result",
          "data": {
            "text/plain": [
              "{'n_estimators': [100, 200, 500, 800, 1000, 1500],\n",
              " 'max_depth': [None, 10, 30],\n",
              " 'max_features': [1.0, 'sqrt'],\n",
              " 'min_samples_split': [2, 4, 8],\n",
              " 'min_samples_leaf': [1, 2, 4]}"
            ]
          },
          "metadata": {},
          "execution_count": 45
        }
      ]
    },
    {
      "cell_type": "code",
      "source": [
        "from sklearn.model_selection import RandomizedSearchCV\n",
        "import numpy as np\n",
        "\n",
        "np.random.seed(42)\n",
        "\n",
        "rs_RF = RandomizedSearchCV(estimator=RF,\n",
        "                           param_distributions=grid,\n",
        "                           n_iter=15,\n",
        "                           cv=5)\n",
        "\n",
        "rs_RF.fit(X_train,y_train)"
      ],
      "metadata": {
        "colab": {
          "base_uri": "https://localhost:8080/",
          "height": 117
        },
        "id": "DRdSzFRfVxI9",
        "outputId": "89ec41ca-4b5d-48f0-e68a-c6daf1919b2a"
      },
      "execution_count": 46,
      "outputs": [
        {
          "output_type": "execute_result",
          "data": {
            "text/plain": [
              "RandomizedSearchCV(cv=5, estimator=RandomForestRegressor(random_state=42),\n",
              "                   n_iter=15,\n",
              "                   param_distributions={'max_depth': [None, 10, 30],\n",
              "                                        'max_features': [1.0, 'sqrt'],\n",
              "                                        'min_samples_leaf': [1, 2, 4],\n",
              "                                        'min_samples_split': [2, 4, 8],\n",
              "                                        'n_estimators': [100, 200, 500, 800,\n",
              "                                                         1000, 1500]})"
            ],
            "text/html": [
              "<style>#sk-container-id-1 {color: black;background-color: white;}#sk-container-id-1 pre{padding: 0;}#sk-container-id-1 div.sk-toggleable {background-color: white;}#sk-container-id-1 label.sk-toggleable__label {cursor: pointer;display: block;width: 100%;margin-bottom: 0;padding: 0.3em;box-sizing: border-box;text-align: center;}#sk-container-id-1 label.sk-toggleable__label-arrow:before {content: \"▸\";float: left;margin-right: 0.25em;color: #696969;}#sk-container-id-1 label.sk-toggleable__label-arrow:hover:before {color: black;}#sk-container-id-1 div.sk-estimator:hover label.sk-toggleable__label-arrow:before {color: black;}#sk-container-id-1 div.sk-toggleable__content {max-height: 0;max-width: 0;overflow: hidden;text-align: left;background-color: #f0f8ff;}#sk-container-id-1 div.sk-toggleable__content pre {margin: 0.2em;color: black;border-radius: 0.25em;background-color: #f0f8ff;}#sk-container-id-1 input.sk-toggleable__control:checked~div.sk-toggleable__content {max-height: 200px;max-width: 100%;overflow: auto;}#sk-container-id-1 input.sk-toggleable__control:checked~label.sk-toggleable__label-arrow:before {content: \"▾\";}#sk-container-id-1 div.sk-estimator input.sk-toggleable__control:checked~label.sk-toggleable__label {background-color: #d4ebff;}#sk-container-id-1 div.sk-label input.sk-toggleable__control:checked~label.sk-toggleable__label {background-color: #d4ebff;}#sk-container-id-1 input.sk-hidden--visually {border: 0;clip: rect(1px 1px 1px 1px);clip: rect(1px, 1px, 1px, 1px);height: 1px;margin: -1px;overflow: hidden;padding: 0;position: absolute;width: 1px;}#sk-container-id-1 div.sk-estimator {font-family: monospace;background-color: #f0f8ff;border: 1px dotted black;border-radius: 0.25em;box-sizing: border-box;margin-bottom: 0.5em;}#sk-container-id-1 div.sk-estimator:hover {background-color: #d4ebff;}#sk-container-id-1 div.sk-parallel-item::after {content: \"\";width: 100%;border-bottom: 1px solid gray;flex-grow: 1;}#sk-container-id-1 div.sk-label:hover label.sk-toggleable__label {background-color: #d4ebff;}#sk-container-id-1 div.sk-serial::before {content: \"\";position: absolute;border-left: 1px solid gray;box-sizing: border-box;top: 0;bottom: 0;left: 50%;z-index: 0;}#sk-container-id-1 div.sk-serial {display: flex;flex-direction: column;align-items: center;background-color: white;padding-right: 0.2em;padding-left: 0.2em;position: relative;}#sk-container-id-1 div.sk-item {position: relative;z-index: 1;}#sk-container-id-1 div.sk-parallel {display: flex;align-items: stretch;justify-content: center;background-color: white;position: relative;}#sk-container-id-1 div.sk-item::before, #sk-container-id-1 div.sk-parallel-item::before {content: \"\";position: absolute;border-left: 1px solid gray;box-sizing: border-box;top: 0;bottom: 0;left: 50%;z-index: -1;}#sk-container-id-1 div.sk-parallel-item {display: flex;flex-direction: column;z-index: 1;position: relative;background-color: white;}#sk-container-id-1 div.sk-parallel-item:first-child::after {align-self: flex-end;width: 50%;}#sk-container-id-1 div.sk-parallel-item:last-child::after {align-self: flex-start;width: 50%;}#sk-container-id-1 div.sk-parallel-item:only-child::after {width: 0;}#sk-container-id-1 div.sk-dashed-wrapped {border: 1px dashed gray;margin: 0 0.4em 0.5em 0.4em;box-sizing: border-box;padding-bottom: 0.4em;background-color: white;}#sk-container-id-1 div.sk-label label {font-family: monospace;font-weight: bold;display: inline-block;line-height: 1.2em;}#sk-container-id-1 div.sk-label-container {text-align: center;}#sk-container-id-1 div.sk-container {/* jupyter's `normalize.less` sets `[hidden] { display: none; }` but bootstrap.min.css set `[hidden] { display: none !important; }` so we also need the `!important` here to be able to override the default hidden behavior on the sphinx rendered scikit-learn.org. See: https://github.com/scikit-learn/scikit-learn/issues/21755 */display: inline-block !important;position: relative;}#sk-container-id-1 div.sk-text-repr-fallback {display: none;}</style><div id=\"sk-container-id-1\" class=\"sk-top-container\"><div class=\"sk-text-repr-fallback\"><pre>RandomizedSearchCV(cv=5, estimator=RandomForestRegressor(random_state=42),\n",
              "                   n_iter=15,\n",
              "                   param_distributions={&#x27;max_depth&#x27;: [None, 10, 30],\n",
              "                                        &#x27;max_features&#x27;: [1.0, &#x27;sqrt&#x27;],\n",
              "                                        &#x27;min_samples_leaf&#x27;: [1, 2, 4],\n",
              "                                        &#x27;min_samples_split&#x27;: [2, 4, 8],\n",
              "                                        &#x27;n_estimators&#x27;: [100, 200, 500, 800,\n",
              "                                                         1000, 1500]})</pre><b>In a Jupyter environment, please rerun this cell to show the HTML representation or trust the notebook. <br />On GitHub, the HTML representation is unable to render, please try loading this page with nbviewer.org.</b></div><div class=\"sk-container\" hidden><div class=\"sk-item sk-dashed-wrapped\"><div class=\"sk-label-container\"><div class=\"sk-label sk-toggleable\"><input class=\"sk-toggleable__control sk-hidden--visually\" id=\"sk-estimator-id-1\" type=\"checkbox\" ><label for=\"sk-estimator-id-1\" class=\"sk-toggleable__label sk-toggleable__label-arrow\">RandomizedSearchCV</label><div class=\"sk-toggleable__content\"><pre>RandomizedSearchCV(cv=5, estimator=RandomForestRegressor(random_state=42),\n",
              "                   n_iter=15,\n",
              "                   param_distributions={&#x27;max_depth&#x27;: [None, 10, 30],\n",
              "                                        &#x27;max_features&#x27;: [1.0, &#x27;sqrt&#x27;],\n",
              "                                        &#x27;min_samples_leaf&#x27;: [1, 2, 4],\n",
              "                                        &#x27;min_samples_split&#x27;: [2, 4, 8],\n",
              "                                        &#x27;n_estimators&#x27;: [100, 200, 500, 800,\n",
              "                                                         1000, 1500]})</pre></div></div></div><div class=\"sk-parallel\"><div class=\"sk-parallel-item\"><div class=\"sk-item\"><div class=\"sk-label-container\"><div class=\"sk-label sk-toggleable\"><input class=\"sk-toggleable__control sk-hidden--visually\" id=\"sk-estimator-id-2\" type=\"checkbox\" ><label for=\"sk-estimator-id-2\" class=\"sk-toggleable__label sk-toggleable__label-arrow\">estimator: RandomForestRegressor</label><div class=\"sk-toggleable__content\"><pre>RandomForestRegressor(random_state=42)</pre></div></div></div><div class=\"sk-serial\"><div class=\"sk-item\"><div class=\"sk-estimator sk-toggleable\"><input class=\"sk-toggleable__control sk-hidden--visually\" id=\"sk-estimator-id-3\" type=\"checkbox\" ><label for=\"sk-estimator-id-3\" class=\"sk-toggleable__label sk-toggleable__label-arrow\">RandomForestRegressor</label><div class=\"sk-toggleable__content\"><pre>RandomForestRegressor(random_state=42)</pre></div></div></div></div></div></div></div></div></div></div>"
            ]
          },
          "metadata": {},
          "execution_count": 46
        }
      ]
    },
    {
      "cell_type": "code",
      "source": [
        "rs_RF.best_params_"
      ],
      "metadata": {
        "colab": {
          "base_uri": "https://localhost:8080/"
        },
        "id": "AVbHd9p7Q9xQ",
        "outputId": "c8e3ac8c-492d-495f-c7a4-1921b56b0e76"
      },
      "execution_count": 47,
      "outputs": [
        {
          "output_type": "execute_result",
          "data": {
            "text/plain": [
              "{'n_estimators': 800,\n",
              " 'min_samples_split': 2,\n",
              " 'min_samples_leaf': 1,\n",
              " 'max_features': 1.0,\n",
              " 'max_depth': 30}"
            ]
          },
          "metadata": {},
          "execution_count": 47
        }
      ]
    },
    {
      "cell_type": "code",
      "source": [
        "rs_metric = evaluate(y_test, rs_RF.predict(X_test))"
      ],
      "metadata": {
        "colab": {
          "base_uri": "https://localhost:8080/"
        },
        "id": "vTq1Uto8ZV4x",
        "outputId": "0706c764-ccaf-4e52-fa1b-836bcaba7577"
      },
      "execution_count": 48,
      "outputs": [
        {
          "output_type": "stream",
          "name": "stdout",
          "text": [
            "Mean Squared Error (MSE): 0.25\n",
            "Mean Absolute Error (MAE): 0.32\n",
            "R-squared (R2) Score: 0.81\n"
          ]
        }
      ]
    },
    {
      "cell_type": "markdown",
      "source": [
        "### GridSearchCV"
      ],
      "metadata": {
        "id": "H0t-xpocbEwC"
      }
    },
    {
      "cell_type": "code",
      "source": [
        "grid_2 = {'n_estimators':[100,200,500],\n",
        "        'max_depth':[None],\n",
        "        'max_features':[1.0, 'sqrt'],\n",
        "        'min_samples_split':[6],\n",
        "        'min_samples_leaf':[1,2]}\n",
        "grid"
      ],
      "metadata": {
        "id": "RD4_DFDKKozK",
        "colab": {
          "base_uri": "https://localhost:8080/"
        },
        "outputId": "575327ae-2443-405b-db4d-74f6476108bc"
      },
      "execution_count": 49,
      "outputs": [
        {
          "output_type": "execute_result",
          "data": {
            "text/plain": [
              "{'n_estimators': [100, 200, 500, 800, 1000, 1500],\n",
              " 'max_depth': [None, 10, 30],\n",
              " 'max_features': [1.0, 'sqrt'],\n",
              " 'min_samples_split': [2, 4, 8],\n",
              " 'min_samples_leaf': [1, 2, 4]}"
            ]
          },
          "metadata": {},
          "execution_count": 49
        }
      ]
    },
    {
      "cell_type": "code",
      "source": [
        "from sklearn.model_selection import GridSearchCV\n",
        "\n",
        "np.random.seed(42)\n",
        "\n",
        "gs_RF = GridSearchCV(estimator=RF,\n",
        "                     param_grid=grid_2,\n",
        "                     cv=5)\n",
        "\n",
        "gs_RF.fit(X_train,y_train)"
      ],
      "metadata": {
        "colab": {
          "base_uri": "https://localhost:8080/",
          "height": 117
        },
        "id": "CWnysNbNbDOF",
        "outputId": "c39faf38-4f92-4f6f-acf0-409c561e7f60"
      },
      "execution_count": 50,
      "outputs": [
        {
          "output_type": "execute_result",
          "data": {
            "text/plain": [
              "GridSearchCV(cv=5, estimator=RandomForestRegressor(random_state=42),\n",
              "             param_grid={'max_depth': [None], 'max_features': [1.0, 'sqrt'],\n",
              "                         'min_samples_leaf': [1, 2], 'min_samples_split': [6],\n",
              "                         'n_estimators': [100, 200, 500]})"
            ],
            "text/html": [
              "<style>#sk-container-id-2 {color: black;background-color: white;}#sk-container-id-2 pre{padding: 0;}#sk-container-id-2 div.sk-toggleable {background-color: white;}#sk-container-id-2 label.sk-toggleable__label {cursor: pointer;display: block;width: 100%;margin-bottom: 0;padding: 0.3em;box-sizing: border-box;text-align: center;}#sk-container-id-2 label.sk-toggleable__label-arrow:before {content: \"▸\";float: left;margin-right: 0.25em;color: #696969;}#sk-container-id-2 label.sk-toggleable__label-arrow:hover:before {color: black;}#sk-container-id-2 div.sk-estimator:hover label.sk-toggleable__label-arrow:before {color: black;}#sk-container-id-2 div.sk-toggleable__content {max-height: 0;max-width: 0;overflow: hidden;text-align: left;background-color: #f0f8ff;}#sk-container-id-2 div.sk-toggleable__content pre {margin: 0.2em;color: black;border-radius: 0.25em;background-color: #f0f8ff;}#sk-container-id-2 input.sk-toggleable__control:checked~div.sk-toggleable__content {max-height: 200px;max-width: 100%;overflow: auto;}#sk-container-id-2 input.sk-toggleable__control:checked~label.sk-toggleable__label-arrow:before {content: \"▾\";}#sk-container-id-2 div.sk-estimator input.sk-toggleable__control:checked~label.sk-toggleable__label {background-color: #d4ebff;}#sk-container-id-2 div.sk-label input.sk-toggleable__control:checked~label.sk-toggleable__label {background-color: #d4ebff;}#sk-container-id-2 input.sk-hidden--visually {border: 0;clip: rect(1px 1px 1px 1px);clip: rect(1px, 1px, 1px, 1px);height: 1px;margin: -1px;overflow: hidden;padding: 0;position: absolute;width: 1px;}#sk-container-id-2 div.sk-estimator {font-family: monospace;background-color: #f0f8ff;border: 1px dotted black;border-radius: 0.25em;box-sizing: border-box;margin-bottom: 0.5em;}#sk-container-id-2 div.sk-estimator:hover {background-color: #d4ebff;}#sk-container-id-2 div.sk-parallel-item::after {content: \"\";width: 100%;border-bottom: 1px solid gray;flex-grow: 1;}#sk-container-id-2 div.sk-label:hover label.sk-toggleable__label {background-color: #d4ebff;}#sk-container-id-2 div.sk-serial::before {content: \"\";position: absolute;border-left: 1px solid gray;box-sizing: border-box;top: 0;bottom: 0;left: 50%;z-index: 0;}#sk-container-id-2 div.sk-serial {display: flex;flex-direction: column;align-items: center;background-color: white;padding-right: 0.2em;padding-left: 0.2em;position: relative;}#sk-container-id-2 div.sk-item {position: relative;z-index: 1;}#sk-container-id-2 div.sk-parallel {display: flex;align-items: stretch;justify-content: center;background-color: white;position: relative;}#sk-container-id-2 div.sk-item::before, #sk-container-id-2 div.sk-parallel-item::before {content: \"\";position: absolute;border-left: 1px solid gray;box-sizing: border-box;top: 0;bottom: 0;left: 50%;z-index: -1;}#sk-container-id-2 div.sk-parallel-item {display: flex;flex-direction: column;z-index: 1;position: relative;background-color: white;}#sk-container-id-2 div.sk-parallel-item:first-child::after {align-self: flex-end;width: 50%;}#sk-container-id-2 div.sk-parallel-item:last-child::after {align-self: flex-start;width: 50%;}#sk-container-id-2 div.sk-parallel-item:only-child::after {width: 0;}#sk-container-id-2 div.sk-dashed-wrapped {border: 1px dashed gray;margin: 0 0.4em 0.5em 0.4em;box-sizing: border-box;padding-bottom: 0.4em;background-color: white;}#sk-container-id-2 div.sk-label label {font-family: monospace;font-weight: bold;display: inline-block;line-height: 1.2em;}#sk-container-id-2 div.sk-label-container {text-align: center;}#sk-container-id-2 div.sk-container {/* jupyter's `normalize.less` sets `[hidden] { display: none; }` but bootstrap.min.css set `[hidden] { display: none !important; }` so we also need the `!important` here to be able to override the default hidden behavior on the sphinx rendered scikit-learn.org. See: https://github.com/scikit-learn/scikit-learn/issues/21755 */display: inline-block !important;position: relative;}#sk-container-id-2 div.sk-text-repr-fallback {display: none;}</style><div id=\"sk-container-id-2\" class=\"sk-top-container\"><div class=\"sk-text-repr-fallback\"><pre>GridSearchCV(cv=5, estimator=RandomForestRegressor(random_state=42),\n",
              "             param_grid={&#x27;max_depth&#x27;: [None], &#x27;max_features&#x27;: [1.0, &#x27;sqrt&#x27;],\n",
              "                         &#x27;min_samples_leaf&#x27;: [1, 2], &#x27;min_samples_split&#x27;: [6],\n",
              "                         &#x27;n_estimators&#x27;: [100, 200, 500]})</pre><b>In a Jupyter environment, please rerun this cell to show the HTML representation or trust the notebook. <br />On GitHub, the HTML representation is unable to render, please try loading this page with nbviewer.org.</b></div><div class=\"sk-container\" hidden><div class=\"sk-item sk-dashed-wrapped\"><div class=\"sk-label-container\"><div class=\"sk-label sk-toggleable\"><input class=\"sk-toggleable__control sk-hidden--visually\" id=\"sk-estimator-id-4\" type=\"checkbox\" ><label for=\"sk-estimator-id-4\" class=\"sk-toggleable__label sk-toggleable__label-arrow\">GridSearchCV</label><div class=\"sk-toggleable__content\"><pre>GridSearchCV(cv=5, estimator=RandomForestRegressor(random_state=42),\n",
              "             param_grid={&#x27;max_depth&#x27;: [None], &#x27;max_features&#x27;: [1.0, &#x27;sqrt&#x27;],\n",
              "                         &#x27;min_samples_leaf&#x27;: [1, 2], &#x27;min_samples_split&#x27;: [6],\n",
              "                         &#x27;n_estimators&#x27;: [100, 200, 500]})</pre></div></div></div><div class=\"sk-parallel\"><div class=\"sk-parallel-item\"><div class=\"sk-item\"><div class=\"sk-label-container\"><div class=\"sk-label sk-toggleable\"><input class=\"sk-toggleable__control sk-hidden--visually\" id=\"sk-estimator-id-5\" type=\"checkbox\" ><label for=\"sk-estimator-id-5\" class=\"sk-toggleable__label sk-toggleable__label-arrow\">estimator: RandomForestRegressor</label><div class=\"sk-toggleable__content\"><pre>RandomForestRegressor(random_state=42)</pre></div></div></div><div class=\"sk-serial\"><div class=\"sk-item\"><div class=\"sk-estimator sk-toggleable\"><input class=\"sk-toggleable__control sk-hidden--visually\" id=\"sk-estimator-id-6\" type=\"checkbox\" ><label for=\"sk-estimator-id-6\" class=\"sk-toggleable__label sk-toggleable__label-arrow\">RandomForestRegressor</label><div class=\"sk-toggleable__content\"><pre>RandomForestRegressor(random_state=42)</pre></div></div></div></div></div></div></div></div></div></div>"
            ]
          },
          "metadata": {},
          "execution_count": 50
        }
      ]
    },
    {
      "cell_type": "code",
      "source": [
        "gs_RF.best_params_"
      ],
      "metadata": {
        "id": "tTa_377cZVrb",
        "colab": {
          "base_uri": "https://localhost:8080/"
        },
        "outputId": "62dc5410-8993-4627-9a72-f8a6fcfd2757"
      },
      "execution_count": 51,
      "outputs": [
        {
          "output_type": "execute_result",
          "data": {
            "text/plain": [
              "{'max_depth': None,\n",
              " 'max_features': 'sqrt',\n",
              " 'min_samples_leaf': 1,\n",
              " 'min_samples_split': 6,\n",
              " 'n_estimators': 500}"
            ]
          },
          "metadata": {},
          "execution_count": 51
        }
      ]
    },
    {
      "cell_type": "code",
      "source": [
        "gs_metric = evaluate(y_test, gs_RF.predict(X_test))"
      ],
      "metadata": {
        "id": "KJ9Jj1naZVf3",
        "colab": {
          "base_uri": "https://localhost:8080/"
        },
        "outputId": "eb52f602-002c-49f5-9b00-8fc5aa279fa5"
      },
      "execution_count": 52,
      "outputs": [
        {
          "output_type": "stream",
          "name": "stdout",
          "text": [
            "Mean Squared Error (MSE): 0.25\n",
            "Mean Absolute Error (MAE): 0.33\n",
            "R-squared (R2) Score: 0.81\n"
          ]
        }
      ]
    },
    {
      "cell_type": "code",
      "source": [
        "import pandas as pd\n",
        "import matplotlib.pyplot as plt\n",
        "\n",
        "metrics = pd.DataFrame({'Manual':manual_metric,\n",
        "                        'RandomizedSerchCV':rs_metric,\n",
        "                        'GridSearch':gs_metric})\n",
        "ax = metrics.plot(kind='bar')\n",
        "\n",
        "labels = ['MSE', 'MAE', 'R Squared']\n",
        "\n",
        "# Set the x-axis labels\n",
        "ax.set_xticks(range(len(labels)))\n",
        "ax.set_xticklabels(labels)\n",
        "\n",
        "ax.set_xlabel('Metrics')\n",
        "ax.set_ylabel('Values')\n",
        "ax.set_title('Comparison of Metrics')\n",
        "ax.legend(title='Methods')"
      ],
      "metadata": {
        "id": "AxEgAE4MZVTv",
        "colab": {
          "base_uri": "https://localhost:8080/",
          "height": 602
        },
        "outputId": "02e4fb94-a5f7-44de-83cd-14381a2feb0a"
      },
      "execution_count": 86,
      "outputs": [
        {
          "output_type": "stream",
          "name": "stderr",
          "text": [
            "/usr/local/lib/python3.10/dist-packages/ipykernel/ipkernel.py:283: DeprecationWarning: `should_run_async` will not call `transform_cell` automatically in the future. Please pass the result to `transformed_cell` argument and any exception that happen during thetransform in `preprocessing_exc_tuple` in IPython 7.17 and above.\n",
            "  and should_run_async(code)\n"
          ]
        },
        {
          "output_type": "execute_result",
          "data": {
            "text/plain": [
              "<matplotlib.legend.Legend at 0x7e738dd3bb20>"
            ]
          },
          "metadata": {},
          "execution_count": 86
        },
        {
          "output_type": "display_data",
          "data": {
            "text/plain": [
              "<Figure size 640x480 with 1 Axes>"
            ],
            "image/png": "[encoded data removed]"
          },
          "metadata": {}
        }
      ]
    },
    {
      "cell_type": "markdown",
      "source": [
        "# Unsupervised Learning\n",
        "\n",
        "**Unsupervised Learning:** In unsupervised learning, the algorithm is given data without explicit instructions on what to do with it. It aims to discover patterns, relationships, or structures within the data. Common subparts include:\n",
        "\n",
        "1. **Clustering:** Clustering algorithms group similar data points together. K-Means, Hierarchical Clustering, and DBSCAN are commonly used for clustering.\n",
        "\n",
        "2. **Association:** Association rule mining focuses on discovering patterns in data, particularly in transactional databases. It identifies relationships between items, such as market basket analysis, which helps in understanding customer behavior and product associations.\n",
        "\n",
        "3. **Topic Modeling:** Topic modeling is a subfield of unsupervised learning, primarily used in natural language processing (NLP). It involves the discovery of topics within a collection of documents. Latent Dirichlet Allocation (LDA) and Non-Negative Matrix Factorization (NMF) are popular algorithms for topic modeling. **(Not Covered)**\n",
        "\n",
        "**NOTE:** In unsupervised learning, there are no target labels or features because the model learns solely from the data itself."
      ],
      "metadata": {
        "id": "K1HEiHrWMH4C"
      }
    },
    {
      "cell_type": "markdown",
      "source": [
        "## Clusturing\n",
        "\n",
        "In our quest for learning and understanding clustering algorithms, we will explore and apply these techniques to the **Mall Customer Segmentation Data dataset**. This dataset offers valuable insights into customer behavior and preferences. Our objective is to unravel patterns and group customers into meaningful segments using the following clustering algorithms:\n",
        "\n",
        "1. **K-Means Clustering:** K-Means is one of the most popular and intuitive clustering methods. It aims to partition the dataset into K distinct, non-overlapping clusters, where each data point belongs to the cluster with the nearest mean. K-Means is known for its simplicity and efficiency.\n",
        "\n",
        "2. **Hierarchical Clustering:** Hierarchical clustering creates a tree of clusters, also known as a dendrogram. It allows us to explore relationships at multiple levels of granularity. We can cut the dendrogram at different heights to obtain different numbers of clusters. This technique is excellent for visualizing the hierarchy of data.\n",
        "\n",
        "3. **DBScan (Density-Based Spatial Clustering of Applications with Noise):** DBScan is a density-based clustering algorithm. It groups data points based on their density, which allows for the discovery of clusters of arbitrary shapes. DBScan is particularly useful when dealing with clusters of varying sizes and irregular shapes.\n",
        "\n",
        "Link for dataset: https://www.kaggle.com/datasets/vjchoudhary7/customer-segmentation-tutorial-in-python"
      ],
      "metadata": {
        "id": "Pe3p7Lb8M44K"
      }
    },
    {
      "cell_type": "code",
      "source": [
        "import pandas as pd\n",
        "\n",
        "df = pd.read_csv('Mall_Customers.csv')\n",
        "df.head()"
      ],
      "metadata": {
        "id": "bZOM-AyqKwp8",
        "colab": {
          "base_uri": "https://localhost:8080/",
          "height": 206
        },
        "outputId": "66e705ef-5412-4380-e25c-f51fcda6ff1b"
      },
      "execution_count": 55,
      "outputs": [
        {
          "output_type": "execute_result",
          "data": {
            "text/plain": [
              "   CustomerID  Gender  Age  Annual Income (k$)  Spending Score (1-100)\n",
              "0           1    Male   19                  15                      39\n",
              "1           2    Male   21                  15                      81\n",
              "2           3  Female   20                  16                       6\n",
              "3           4  Female   23                  16                      77\n",
              "4           5  Female   31                  17                      40"
            ],
            "text/html": [
              "\n",
              "  <div id=\"df-3512aaed-280b-4a15-95c1-c4a4bb8bd629\" class=\"colab-df-container\">\n",
              "    <div>\n",
              "<style scoped>\n",
              "    .dataframe tbody tr th:only-of-type {\n",
              "        vertical-align: middle;\n",
              "    }\n",
              "\n",
              "    .dataframe tbody tr th {\n",
              "        vertical-align: top;\n",
              "    }\n",
              "\n",
              "    .dataframe thead th {\n",
              "        text-align: right;\n",
              "    }\n",
              "</style>\n",
              "<table border=\"1\" class=\"dataframe\">\n",
              "  <thead>\n",
              "    <tr style=\"text-align: right;\">\n",
              "      <th></th>\n",
              "      <th>CustomerID</th>\n",
              "      <th>Gender</th>\n",
              "      <th>Age</th>\n",
              "      <th>Annual Income (k$)</th>\n",
              "      <th>Spending Score (1-100)</th>\n",
              "    </tr>\n",
              "  </thead>\n",
              "  <tbody>\n",
              "    <tr>\n",
              "      <th>0</th>\n",
              "      <td>1</td>\n",
              "      <td>Male</td>\n",
              "      <td>19</td>\n",
              "      <td>15</td>\n",
              "      <td>39</td>\n",
              "    </tr>\n",
              "    <tr>\n",
              "      <th>1</th>\n",
              "      <td>2</td>\n",
              "      <td>Male</td>\n",
              "      <td>21</td>\n",
              "      <td>15</td>\n",
              "      <td>81</td>\n",
              "    </tr>\n",
              "    <tr>\n",
              "      <th>2</th>\n",
              "      <td>3</td>\n",
              "      <td>Female</td>\n",
              "      <td>20</td>\n",
              "      <td>16</td>\n",
              "      <td>6</td>\n",
              "    </tr>\n",
              "    <tr>\n",
              "      <th>3</th>\n",
              "      <td>4</td>\n",
              "      <td>Female</td>\n",
              "      <td>23</td>\n",
              "      <td>16</td>\n",
              "      <td>77</td>\n",
              "    </tr>\n",
              "    <tr>\n",
              "      <th>4</th>\n",
              "      <td>5</td>\n",
              "      <td>Female</td>\n",
              "      <td>31</td>\n",
              "      <td>17</td>\n",
              "      <td>40</td>\n",
              "    </tr>\n",
              "  </tbody>\n",
              "</table>\n",
              "</div>\n",
              "    <div class=\"colab-df-buttons\">\n",
              "\n",
              "  <div class=\"colab-df-container\">\n",
              "    <button class=\"colab-df-convert\" onclick=\"convertToInteractive('df-3512aaed-280b-4a15-95c1-c4a4bb8bd629')\"\n",
              "            title=\"Convert this dataframe to an interactive table.\"\n",
              "            style=\"display:none;\">\n",
              "\n",
              "  <svg xmlns=\"http://www.w3.org/2000/svg\" height=\"24px\" viewBox=\"0 -960 960 960\">\n",
              "    <path d=\"M120-120v-720h720v720H120Zm60-500h600v-160H180v160Zm220 220h160v-160H400v160Zm0 220h160v-160H400v160ZM180-400h160v-160H180v160Zm440 0h160v-160H620v160ZM180-180h160v-160H180v160Zm440 0h160v-160H620v160Z\"/>\n",
              "  </svg>\n",
              "    </button>\n",
              "\n",
              "  <style>\n",
              "    .colab-df-container {\n",
              "      display:flex;\n",
              "      gap: 12px;\n",
              "    }\n",
              "\n",
              "    .colab-df-convert {\n",
              "      background-color: #E8F0FE;\n",
              "      border: none;\n",
              "      border-radius: 50%;\n",
              "      cursor: pointer;\n",
              "      display: none;\n",
              "      fill: #1967D2;\n",
              "      height: 32px;\n",
              "      padding: 0 0 0 0;\n",
              "      width: 32px;\n",
              "    }\n",
              "\n",
              "    .colab-df-convert:hover {\n",
              "      background-color: #E2EBFA;\n",
              "      box-shadow: 0px 1px 2px rgba(60, 64, 67, 0.3), 0px 1px 3px 1px rgba(60, 64, 67, 0.15);\n",
              "      fill: #174EA6;\n",
              "    }\n",
              "\n",
              "    .colab-df-buttons div {\n",
              "      margin-bottom: 4px;\n",
              "    }\n",
              "\n",
              "    [theme=dark] .colab-df-convert {\n",
              "      background-color: #3B4455;\n",
              "      fill: #D2E3FC;\n",
              "    }\n",
              "\n",
              "    [theme=dark] .colab-df-convert:hover {\n",
              "      background-color: #434B5C;\n",
              "      box-shadow: 0px 1px 3px 1px rgba(0, 0, 0, 0.15);\n",
              "      filter: drop-shadow(0px 1px 2px rgba(0, 0, 0, 0.3));\n",
              "      fill: #FFFFFF;\n",
              "    }\n",
              "  </style>\n",
              "\n",
              "    <script>\n",
              "      const buttonEl =\n",
              "        document.querySelector('#df-3512aaed-280b-4a15-95c1-c4a4bb8bd629 button.colab-df-convert');\n",
              "      buttonEl.style.display =\n",
              "        google.colab.kernel.accessAllowed ? 'block' : 'none';\n",
              "\n",
              "      async function convertToInteractive(key) {\n",
              "        const element = document.querySelector('#df-3512aaed-280b-4a15-95c1-c4a4bb8bd629');\n",
              "        const dataTable =\n",
              "          await google.colab.kernel.invokeFunction('convertToInteractive',\n",
              "                                                    [key], {});\n",
              "        if (!dataTable) return;\n",
              "\n",
              "        const docLinkHtml = 'Like what you see? Visit the ' +\n",
              "          '<a target=\"_blank\" href=https://colab.research.google.com/notebooks/data_table.ipynb>data table notebook</a>'\n",
              "          + ' to learn more about interactive tables.';\n",
              "        element.innerHTML = '';\n",
              "        dataTable['output_type'] = 'display_data';\n",
              "        await google.colab.output.renderOutput(dataTable, element);\n",
              "        const docLink = document.createElement('div');\n",
              "        docLink.innerHTML = docLinkHtml;\n",
              "        element.appendChild(docLink);\n",
              "      }\n",
              "    </script>\n",
              "  </div>\n",
              "\n",
              "\n",
              "<div id=\"df-45a1e58a-d581-42c4-ba47-70e688031b25\">\n",
              "  <button class=\"colab-df-quickchart\" onclick=\"quickchart('df-45a1e58a-d581-42c4-ba47-70e688031b25')\"\n",
              "            title=\"Suggest charts.\"\n",
              "            style=\"display:none;\">\n",
              "\n",
              "<svg xmlns=\"http://www.w3.org/2000/svg\" height=\"24px\"viewBox=\"0 0 24 24\"\n",
              "     width=\"24px\">\n",
              "    <g>\n",
              "        <path d=\"M19 3H5c-1.1 0-2 .9-2 2v14c0 1.1.9 2 2 2h14c1.1 0 2-.9 2-2V5c0-1.1-.9-2-2-2zM9 17H7v-7h2v7zm4 0h-2V7h2v10zm4 0h-2v-4h2v4z\"/>\n",
              "    </g>\n",
              "</svg>\n",
              "  </button>\n",
              "\n",
              "<style>\n",
              "  .colab-df-quickchart {\n",
              "      --bg-color: #E8F0FE;\n",
              "      --fill-color: #1967D2;\n",
              "      --hover-bg-color: #E2EBFA;\n",
              "      --hover-fill-color: #174EA6;\n",
              "      --disabled-fill-color: #AAA;\n",
              "      --disabled-bg-color: #DDD;\n",
              "  }\n",
              "\n",
              "  [theme=dark] .colab-df-quickchart {\n",
              "      --bg-color: #3B4455;\n",
              "      --fill-color: #D2E3FC;\n",
              "      --hover-bg-color: #434B5C;\n",
              "      --hover-fill-color: #FFFFFF;\n",
              "      --disabled-bg-color: #3B4455;\n",
              "      --disabled-fill-color: #666;\n",
              "  }\n",
              "\n",
              "  .colab-df-quickchart {\n",
              "    background-color: var(--bg-color);\n",
              "    border: none;\n",
              "    border-radius: 50%;\n",
              "    cursor: pointer;\n",
              "    display: none;\n",
              "    fill: var(--fill-color);\n",
              "    height: 32px;\n",
              "    padding: 0;\n",
              "    width: 32px;\n",
              "  }\n",
              "\n",
              "  .colab-df-quickchart:hover {\n",
              "    background-color: var(--hover-bg-color);\n",
              "    box-shadow: 0 1px 2px rgba(60, 64, 67, 0.3), 0 1px 3px 1px rgba(60, 64, 67, 0.15);\n",
              "    fill: var(--button-hover-fill-color);\n",
              "  }\n",
              "\n",
              "  .colab-df-quickchart-complete:disabled,\n",
              "  .colab-df-quickchart-complete:disabled:hover {\n",
              "    background-color: var(--disabled-bg-color);\n",
              "    fill: var(--disabled-fill-color);\n",
              "    box-shadow: none;\n",
              "  }\n",
              "\n",
              "  .colab-df-spinner {\n",
              "    border: 2px solid var(--fill-color);\n",
              "    border-color: transparent;\n",
              "    border-bottom-color: var(--fill-color);\n",
              "    animation:\n",
              "      spin 1s steps(1) infinite;\n",
              "  }\n",
              "\n",
              "  @keyframes spin {\n",
              "    0% {\n",
              "      border-color: transparent;\n",
              "      border-bottom-color: var(--fill-color);\n",
              "      border-left-color: var(--fill-color);\n",
              "    }\n",
              "    20% {\n",
              "      border-color: transparent;\n",
              "      border-left-color: var(--fill-color);\n",
              "      border-top-color: var(--fill-color);\n",
              "    }\n",
              "    30% {\n",
              "      border-color: transparent;\n",
              "      border-left-color: var(--fill-color);\n",
              "      border-top-color: var(--fill-color);\n",
              "      border-right-color: var(--fill-color);\n",
              "    }\n",
              "    40% {\n",
              "      border-color: transparent;\n",
              "      border-right-color: var(--fill-color);\n",
              "      border-top-color: var(--fill-color);\n",
              "    }\n",
              "    60% {\n",
              "      border-color: transparent;\n",
              "      border-right-color: var(--fill-color);\n",
              "    }\n",
              "    80% {\n",
              "      border-color: transparent;\n",
              "      border-right-color: var(--fill-color);\n",
              "      border-bottom-color: var(--fill-color);\n",
              "    }\n",
              "    90% {\n",
              "      border-color: transparent;\n",
              "      border-bottom-color: var(--fill-color);\n",
              "    }\n",
              "  }\n",
              "</style>\n",
              "\n",
              "  <script>\n",
              "    async function quickchart(key) {\n",
              "      const quickchartButtonEl =\n",
              "        document.querySelector('#' + key + ' button');\n",
              "      quickchartButtonEl.disabled = true;  // To prevent multiple clicks.\n",
              "      quickchartButtonEl.classList.add('colab-df-spinner');\n",
              "      try {\n",
              "        const charts = await google.colab.kernel.invokeFunction(\n",
              "            'suggestCharts', [key], {});\n",
              "      } catch (error) {\n",
              "        console.error('Error during call to suggestCharts:', error);\n",
              "      }\n",
              "      quickchartButtonEl.classList.remove('colab-df-spinner');\n",
              "      quickchartButtonEl.classList.add('colab-df-quickchart-complete');\n",
              "    }\n",
              "    (() => {\n",
              "      let quickchartButtonEl =\n",
              "        document.querySelector('#df-45a1e58a-d581-42c4-ba47-70e688031b25 button');\n",
              "      quickchartButtonEl.style.display =\n",
              "        google.colab.kernel.accessAllowed ? 'block' : 'none';\n",
              "    })();\n",
              "  </script>\n",
              "</div>\n",
              "    </div>\n",
              "  </div>\n"
            ]
          },
          "metadata": {},
          "execution_count": 55
        }
      ]
    },
    {
      "cell_type": "code",
      "source": [
        "import matplotlib.pyplot as plt\n",
        "\n",
        "X = df[['Annual Income (k$)','Spending Score (1-100)']]\n",
        "plt.scatter(X['Annual Income (k$)'], X['Spending Score (1-100)'])"
      ],
      "metadata": {
        "id": "CqWVmZM9B0Qb",
        "colab": {
          "base_uri": "https://localhost:8080/",
          "height": 447
        },
        "outputId": "53c75cb0-9d95-4613-a9c6-4450289c3414"
      },
      "execution_count": 56,
      "outputs": [
        {
          "output_type": "execute_result",
          "data": {
            "text/plain": [
              "<matplotlib.collections.PathCollection at 0x7e73df5b7c40>"
            ]
          },
          "metadata": {},
          "execution_count": 56
        },
        {
          "output_type": "display_data",
          "data": {
            "text/plain": [
              "<Figure size 640x480 with 1 Axes>"
            ],
            "image/png": "[encoded data removed]"
          },
          "metadata": {}
        }
      ]
    },
    {
      "cell_type": "code",
      "source": [
        "from sklearn.preprocessing import StandardScaler\n",
        "\n",
        "scaler = StandardScaler()\n",
        "X_scaled = scaler.fit_transform(X)\n",
        "X_scaled[:5]"
      ],
      "metadata": {
        "id": "FyRh02hgB0OU",
        "colab": {
          "base_uri": "https://localhost:8080/"
        },
        "outputId": "ad1d8a5b-918f-4e69-d2d3-840284a3007c"
      },
      "execution_count": 57,
      "outputs": [
        {
          "output_type": "execute_result",
          "data": {
            "text/plain": [
              "array([[-1.73899919, -0.43480148],\n",
              "       [-1.73899919,  1.19570407],\n",
              "       [-1.70082976, -1.71591298],\n",
              "       [-1.70082976,  1.04041783],\n",
              "       [-1.66266033, -0.39597992]])"
            ]
          },
          "metadata": {},
          "execution_count": 57
        }
      ]
    },
    {
      "cell_type": "markdown",
      "source": [
        "### K-Means Clustering"
      ],
      "metadata": {
        "id": "h0HV2zUtUZu6"
      }
    },
    {
      "cell_type": "code",
      "source": [
        "from sklearn.cluster import KMeans\n",
        "\n",
        "KM = KMeans(n_clusters=3, random_state=42)"
      ],
      "metadata": {
        "id": "hBZ4tj4lB0KO"
      },
      "execution_count": 58,
      "outputs": []
    },
    {
      "cell_type": "code",
      "source": [
        "from sklearn.metrics import silhouette_score\n",
        "\n",
        "labels = KM.fit_predict(X_scaled)\n",
        "score = silhouette_score(X_scaled, labels)\n",
        "print(f\"K-Means Silhouette Score: {score:.2f}\")"
      ],
      "metadata": {
        "id": "sAbCeA_MTmid",
        "colab": {
          "base_uri": "https://localhost:8080/"
        },
        "outputId": "6910a6e7-38b0-4dd9-ed4c-b6d0c8424010"
      },
      "execution_count": 59,
      "outputs": [
        {
          "output_type": "stream",
          "name": "stdout",
          "text": [
            "K-Means Silhouette Score: 0.47\n"
          ]
        },
        {
          "output_type": "stream",
          "name": "stderr",
          "text": [
            "/usr/local/lib/python3.10/dist-packages/sklearn/cluster/_kmeans.py:870: FutureWarning: The default value of `n_init` will change from 10 to 'auto' in 1.4. Set the value of `n_init` explicitly to suppress the warning\n",
            "  warnings.warn(\n"
          ]
        }
      ]
    },
    {
      "cell_type": "markdown",
      "source": [
        "We can eliminate any intervening warnings in the output snippet by utilizing the following code:"
      ],
      "metadata": {
        "id": "d8nc3RdRxUdC"
      }
    },
    {
      "cell_type": "code",
      "source": [
        "import warnings\n",
        "\n",
        "# Ignore all warnings\n",
        "warnings.filterwarnings(\"ignore\")"
      ],
      "metadata": {
        "id": "mpBvw_u8V2dw"
      },
      "execution_count": 60,
      "outputs": []
    },
    {
      "cell_type": "markdown",
      "source": [
        "This code snippet effectively suppresses any warnings that might appear during program execution, ensuring a cleaner and more focused output."
      ],
      "metadata": {
        "id": "o_xpRrALyDCK"
      }
    },
    {
      "cell_type": "code",
      "source": [
        "def kmeans(n_clusters):\n",
        "  KM = KMeans(n_clusters=n_clusters, random_state=42,)\n",
        "  labels = KM.fit_predict(X_scaled)\n",
        "  score = silhouette_score(X_scaled, labels)\n",
        "  print(f\"Score for {n_clusters} clusters : {score:.2f}\")\n",
        "\n",
        "print(\"Algorithm: K Means\")\n",
        "for n_clusters in range (2, 11):\n",
        "  kmeans(n_clusters)"
      ],
      "metadata": {
        "id": "kwOgjIF5U1qK",
        "colab": {
          "base_uri": "https://localhost:8080/"
        },
        "outputId": "512922a9-03ac-4929-8656-c719d612b98e"
      },
      "execution_count": 61,
      "outputs": [
        {
          "output_type": "stream",
          "name": "stdout",
          "text": [
            "Algorithm: K Means\n",
            "Score for 2 clusters : 0.31\n",
            "Score for 3 clusters : 0.47\n",
            "Score for 4 clusters : 0.49\n",
            "Score for 5 clusters : 0.55\n",
            "Score for 6 clusters : 0.54\n",
            "Score for 7 clusters : 0.53\n",
            "Score for 8 clusters : 0.46\n",
            "Score for 9 clusters : 0.46\n",
            "Score for 10 clusters : 0.45\n"
          ]
        }
      ]
    },
    {
      "cell_type": "markdown",
      "source": [
        "### Hierarchical Clusturing"
      ],
      "metadata": {
        "id": "BvT_XQsIUfMM"
      }
    },
    {
      "cell_type": "code",
      "source": [
        "from sklearn.cluster import AgglomerativeClustering\n",
        "\n",
        "HC = AgglomerativeClustering(n_clusters=3)"
      ],
      "metadata": {
        "id": "5mwtPJcnTmfB"
      },
      "execution_count": 62,
      "outputs": []
    },
    {
      "cell_type": "code",
      "source": [
        "from sklearn.metrics import silhouette_score\n",
        "\n",
        "labels = HC.fit_predict(X_scaled)\n",
        "score = silhouette_score(X_scaled, labels)\n",
        "print(f\"Hierarchical Silhouette Score: {score:.2f}\")"
      ],
      "metadata": {
        "id": "_RuZilGoTmOB",
        "colab": {
          "base_uri": "https://localhost:8080/"
        },
        "outputId": "56102b91-75fd-485f-93ef-7c2283bc9aa2"
      },
      "execution_count": 63,
      "outputs": [
        {
          "output_type": "stream",
          "name": "stdout",
          "text": [
            "Hierarchical Silhouette Score: 0.46\n"
          ]
        }
      ]
    },
    {
      "cell_type": "code",
      "source": [
        "def Hierarchical(n_clusters):\n",
        "  HC = AgglomerativeClustering(n_clusters=n_clusters)\n",
        "  labels = HC.fit_predict(X_scaled)\n",
        "  score = silhouette_score(X_scaled, labels)\n",
        "  print(f\"Score for {n_clusters} clusters : {score:.2f}\")\n",
        "\n",
        "print(\"Algorithm: Hierarchical Clustering\")\n",
        "for n_clusters in range (2, 11):\n",
        "  Hierarchical(n_clusters)"
      ],
      "metadata": {
        "id": "PyROqPrtWVNZ",
        "colab": {
          "base_uri": "https://localhost:8080/"
        },
        "outputId": "edd22b5f-55ac-41a7-c9f9-215b6ad0d555"
      },
      "execution_count": 64,
      "outputs": [
        {
          "output_type": "stream",
          "name": "stdout",
          "text": [
            "Algorithm: Hierarchical Clustering\n",
            "Score for 2 clusters : 0.38\n",
            "Score for 3 clusters : 0.46\n",
            "Score for 4 clusters : 0.49\n",
            "Score for 5 clusters : 0.55\n",
            "Score for 6 clusters : 0.54\n",
            "Score for 7 clusters : 0.52\n",
            "Score for 8 clusters : 0.43\n",
            "Score for 9 clusters : 0.44\n",
            "Score for 10 clusters : 0.43\n"
          ]
        }
      ]
    },
    {
      "cell_type": "markdown",
      "source": [
        "### DBSCAN"
      ],
      "metadata": {
        "id": "NG1kJSw0W8Qx"
      }
    },
    {
      "cell_type": "code",
      "source": [
        "from sklearn.cluster import DBSCAN\n",
        "\n",
        "DB = DBSCAN(eps=0.5, min_samples=5)"
      ],
      "metadata": {
        "id": "yTTRBaJcW1do"
      },
      "execution_count": 65,
      "outputs": []
    },
    {
      "cell_type": "code",
      "source": [
        "from sklearn.metrics import silhouette_score\n",
        "\n",
        "labels = DB.fit_predict(X_scaled)\n",
        "score = silhouette_score(X_scaled, labels)\n",
        "print(f\"DBScan Silhouette Score: {score:.2f}\")"
      ],
      "metadata": {
        "id": "TMlO0FstW1aQ",
        "colab": {
          "base_uri": "https://localhost:8080/"
        },
        "outputId": "58e3a0be-a141-4c4b-aa91-a43d4918b228"
      },
      "execution_count": 66,
      "outputs": [
        {
          "output_type": "stream",
          "name": "stdout",
          "text": [
            "DBScan Silhouette Score: 0.35\n"
          ]
        }
      ]
    },
    {
      "cell_type": "code",
      "source": [
        "def dbscan(samples):\n",
        "  DB = DBSCAN(eps=0.5, min_samples=samples)\n",
        "  labels = DB.fit_predict(X_scaled)\n",
        "  score = silhouette_score(X_scaled, labels)\n",
        "  print(f\"Score for {samples} min_samples : {score:.2f}\")\n",
        "\n",
        "print(\"Algorithm: DBScan Clustering\")\n",
        "for samples in range (2, 11):\n",
        "  dbscan(samples)"
      ],
      "metadata": {
        "id": "NlJnlEswWysw",
        "colab": {
          "base_uri": "https://localhost:8080/"
        },
        "outputId": "4f6d621a-350d-4c2f-b12b-8498f46df7ac"
      },
      "execution_count": 67,
      "outputs": [
        {
          "output_type": "stream",
          "name": "stdout",
          "text": [
            "Algorithm: DBScan Clustering\n",
            "Score for 2 min_samples : 0.27\n",
            "Score for 3 min_samples : 0.36\n",
            "Score for 4 min_samples : 0.35\n",
            "Score for 5 min_samples : 0.35\n",
            "Score for 6 min_samples : 0.36\n",
            "Score for 7 min_samples : 0.35\n",
            "Score for 8 min_samples : 0.35\n",
            "Score for 9 min_samples : 0.32\n",
            "Score for 10 min_samples : 0.41\n"
          ]
        }
      ]
    },
    {
      "cell_type": "markdown",
      "source": [
        "All in one code for Clusturing Algorithms"
      ],
      "metadata": {
        "id": "AD2fQPo1YQ8H"
      }
    },
    {
      "cell_type": "code",
      "source": [
        "# Import necessary libraries\n",
        "import pandas as pd\n",
        "import numpy as np\n",
        "import matplotlib.pyplot as plt\n",
        "from sklearn.cluster import KMeans, AgglomerativeClustering, DBSCAN\n",
        "from sklearn.preprocessing import StandardScaler\n",
        "from sklearn.metrics import silhouette_score\n",
        "\n",
        "# Load the Mall Customer Segmentation Data dataset (replace with the actual file path)\n",
        "data = pd.read_csv(\"Mall_Customers.csv\")\n",
        "\n",
        "# Select features for clustering (e.g., Annual Income and Spending Score)\n",
        "X = data[['Annual Income (k$)', 'Spending Score (1-100)']]\n",
        "\n",
        "# Standardize the features\n",
        "scaler = StandardScaler()\n",
        "X_scaled = scaler.fit_transform(X)\n",
        "\n",
        "# Initialize clustering models\n",
        "kmeans = KMeans(n_clusters=5, random_state=42)\n",
        "hierarchical = AgglomerativeClustering(n_clusters=5)\n",
        "dbscan = DBSCAN(eps=0.5, min_samples=10)\n",
        "\n",
        "# Fit the models to the data\n",
        "kmeans_labels = kmeans.fit_predict(X_scaled)\n",
        "hierarchical_labels = hierarchical.fit_predict(X_scaled)\n",
        "dbscan_labels = dbscan.fit_predict(X_scaled)\n",
        "\n",
        "# Evaluate clustering using Silhouette Score\n",
        "kmeans_score = silhouette_score(X_scaled, kmeans_labels)\n",
        "hierarchical_score = silhouette_score(X_scaled, hierarchical_labels)\n",
        "dbscan_score = silhouette_score(X_scaled, dbscan_labels)\n",
        "\n",
        "print(f\"K-Means Silhouette Score: {kmeans_score:.2f}\")\n",
        "print(f\"Hierarchical Silhouette Score: {hierarchical_score:.2f}\")\n",
        "print(f\"DBSCAN Silhouette Score: {dbscan_score:.2f}\")\n",
        "\n",
        "# Plot the clustering results\n",
        "plt.figure(figsize=(12, 4))\n",
        "\n",
        "plt.subplot(131)\n",
        "plt.scatter(X_scaled[:, 0], X_scaled[:, 1], c=kmeans_labels, cmap='viridis')\n",
        "plt.title('K-Means Clustering')\n",
        "\n",
        "plt.subplot(132)\n",
        "plt.scatter(X_scaled[:, 0], X_scaled[:, 1], c=hierarchical_labels, cmap='viridis')\n",
        "plt.title('Hierarchical Clustering')\n",
        "\n",
        "plt.subplot(133)\n",
        "plt.scatter(X_scaled[:, 0], X_scaled[:, 1], c=dbscan_labels, cmap='viridis')\n",
        "plt.title('DBSCAN Clustering')\n",
        "\n",
        "plt.show()"
      ],
      "metadata": {
        "id": "0x6oW6sbYQbg",
        "colab": {
          "base_uri": "https://localhost:8080/",
          "height": 443
        },
        "outputId": "f3853820-1592-450a-851d-fae826c521f8"
      },
      "execution_count": 68,
      "outputs": [
        {
          "output_type": "stream",
          "name": "stdout",
          "text": [
            "K-Means Silhouette Score: 0.55\n",
            "Hierarchical Silhouette Score: 0.55\n",
            "DBSCAN Silhouette Score: 0.41\n"
          ]
        },
        {
          "output_type": "display_data",
          "data": {
            "text/plain": [
              "<Figure size 1200x400 with 3 Axes>"
            ],
            "image/png": "[encoded data removed]"
          },
          "metadata": {}
        }
      ]
    },
    {
      "cell_type": "markdown",
      "source": [
        "## Association\n",
        "\n",
        "In our exploration of association algorithms, we will focus on applying association algorithm to the **Online Retail Data Set**. Our primary algorithm for association rule mining in this context is Apriori.\n",
        "\n",
        "**Apriori:** Apriori is a widely used association rule mining algorithm that identifies relationships between items in transactional data. It helps uncover patterns such as \"if a customer buys product A, they are likely to purchase product B as well.\" The Apriori algorithm relies on support, confidence, and lift metrics to identify significant itemsets and association rules.\n",
        "\n",
        "Link for dataset: https://www.kaggle.com/datasets/puneetbhaya/online-retail"
      ],
      "metadata": {
        "id": "zD7urrIjM33R"
      }
    },
    {
      "cell_type": "markdown",
      "source": [
        "### Apiori Algorithm"
      ],
      "metadata": {
        "id": "UbG2NUsUlrkI"
      }
    },
    {
      "cell_type": "code",
      "source": [
        "import pandas as pd\n",
        "from mlxtend.frequent_patterns import apriori\n",
        "from mlxtend.frequent_patterns import association_rules\n",
        "\n",
        "# Load the Online Retail Data Set (replace with the actual file path)\n",
        "data = pd.read_excel(\"Online Retail.xlsx\")\n",
        "\n",
        "# Data preprocessing: Remove spaces in descriptions\n",
        "data['Description'] = data['Description'].str.strip()\n",
        "\n",
        "# Convert 'InvoiceNo' to strings\n",
        "data['InvoiceNo'] = data['InvoiceNo'].astype(str)\n",
        "\n",
        "# Filter out rows with credit transactions\n",
        "data = data[~data['InvoiceNo'].str.contains('C')]\n",
        "\n",
        "# One-hot encoding to create a transaction dataset\n",
        "basket = (data.groupby(['InvoiceNo', 'Description'])['Quantity']\n",
        "          .sum().unstack().reset_index().fillna(0)\n",
        "          .set_index('InvoiceNo'))\n",
        "\n",
        "# Convert item quantities to binary values (0 or 1)\n",
        "def encode_units(x):\n",
        "    if x <= 0:\n",
        "        return 0\n",
        "    if x >= 1:\n",
        "        return 1\n",
        "\n",
        "basket_sets = basket.applymap(encode_units)\n",
        "\n",
        "# Apply Apriori algorithm to find frequent itemsets\n",
        "frequent_itemsets = apriori(basket_sets, min_support=0.03, use_colnames=True)\n",
        "\n",
        "# Find association rules\n",
        "association_rules = association_rules(frequent_itemsets, metric=\"lift\", min_threshold=1.0)\n",
        "\n",
        "# Display the top association rules\n",
        "print(association_rules.sort_values(by='lift', ascending=False).head())\n"
      ],
      "metadata": {
        "id": "KH2NHnZiNURt",
        "colab": {
          "base_uri": "https://localhost:8080/"
        },
        "outputId": "a13a6051-62ad-412d-8123-93b62c6bf506"
      },
      "execution_count": 69,
      "outputs": [
        {
          "output_type": "stream",
          "name": "stderr",
          "text": [
            "/usr/local/lib/python3.10/dist-packages/mlxtend/frequent_patterns/fpcommon.py:110: DeprecationWarning: DataFrames with non-bool types result in worse computationalperformance and their support might be discontinued in the future.Please use a DataFrame with bool type\n",
            "  warnings.warn(\n"
          ]
        },
        {
          "output_type": "stream",
          "name": "stdout",
          "text": [
            "                         antecedents                        consequents  \\\n",
            "2   (PINK REGENCY TEACUP AND SAUCER)  (GREEN REGENCY TEACUP AND SAUCER)   \n",
            "3  (GREEN REGENCY TEACUP AND SAUCER)   (PINK REGENCY TEACUP AND SAUCER)   \n",
            "4  (ROSES REGENCY TEACUP AND SAUCER)  (GREEN REGENCY TEACUP AND SAUCER)   \n",
            "5  (GREEN REGENCY TEACUP AND SAUCER)  (ROSES REGENCY TEACUP AND SAUCER)   \n",
            "0       (ALARM CLOCK BAKELIKE GREEN)         (ALARM CLOCK BAKELIKE RED)   \n",
            "\n",
            "   antecedent support  consequent support   support  confidence       lift  \\\n",
            "2            0.037168            0.049250  0.030715    0.826371  16.778990   \n",
            "3            0.049250            0.037168  0.030715    0.623645  16.778990   \n",
            "4            0.051725            0.049250  0.037265    0.720450  14.628335   \n",
            "5            0.049250            0.051725  0.037265    0.756650  14.628335   \n",
            "0            0.047552            0.050997  0.031054    0.653061  12.805841   \n",
            "\n",
            "   leverage  conviction  zhangs_metric  \n",
            "2  0.028884    5.475746       0.976704  \n",
            "3  0.028884    2.558310       0.989116  \n",
            "4  0.034718    3.401004       0.982457  \n",
            "5  0.034718    3.896758       0.979900  \n",
            "0  0.028629    2.735361       0.967938  \n"
          ]
        }
      ]
    },
    {
      "cell_type": "code",
      "source": [
        "import pandas as pd\n",
        "\n",
        "student_data = [\n",
        "  [1, 15],\n",
        "  [2, 11],\n",
        "  [3, 11],\n",
        "  [4, 20]\n",
        "]\n",
        "\n",
        "df = pd.DataFrame(student_data, columns=['student_id', 'age'])"
      ],
      "metadata": {
        "id": "6Bgrsrzq5TRL",
        "colab": {
          "base_uri": "https://localhost:8080/"
        },
        "outputId": "532d2c27-c889-4bdd-bd7c-82fc826b9637"
      },
      "execution_count": 70,
      "outputs": [
        {
          "output_type": "stream",
          "name": "stderr",
          "text": [
            "/usr/local/lib/python3.10/dist-packages/ipykernel/ipkernel.py:283: DeprecationWarning: `should_run_async` will not call `transform_cell` automatically in the future. Please pass the result to `transformed_cell` argument and any exception that happen during thetransform in `preprocessing_exc_tuple` in IPython 7.17 and above.\n",
            "  and should_run_async(code)\n"
          ]
        }
      ]
    },
    {
      "cell_type": "code",
      "source": [
        "df"
      ],
      "metadata": {
        "id": "qdRtvGu96ekJ",
        "colab": {
          "base_uri": "https://localhost:8080/",
          "height": 229
        },
        "outputId": "4e3b01fd-4b39-463a-cb41-c61e410cf338"
      },
      "execution_count": 71,
      "outputs": [
        {
          "output_type": "stream",
          "name": "stderr",
          "text": [
            "/usr/local/lib/python3.10/dist-packages/ipykernel/ipkernel.py:283: DeprecationWarning: `should_run_async` will not call `transform_cell` automatically in the future. Please pass the result to `transformed_cell` argument and any exception that happen during thetransform in `preprocessing_exc_tuple` in IPython 7.17 and above.\n",
            "  and should_run_async(code)\n"
          ]
        },
        {
          "output_type": "execute_result",
          "data": {
            "text/plain": [
              "   student_id  age\n",
              "0           1   15\n",
              "1           2   11\n",
              "2           3   11\n",
              "3           4   20"
            ],
            "text/html": [
              "\n",
              "  <div id=\"df-d8fcb633-2323-4c96-9ecf-e9949a365b86\" class=\"colab-df-container\">\n",
              "    <div>\n",
              "<style scoped>\n",
              "    .dataframe tbody tr th:only-of-type {\n",
              "        vertical-align: middle;\n",
              "    }\n",
              "\n",
              "    .dataframe tbody tr th {\n",
              "        vertical-align: top;\n",
              "    }\n",
              "\n",
              "    .dataframe thead th {\n",
              "        text-align: right;\n",
              "    }\n",
              "</style>\n",
              "<table border=\"1\" class=\"dataframe\">\n",
              "  <thead>\n",
              "    <tr style=\"text-align: right;\">\n",
              "      <th></th>\n",
              "      <th>student_id</th>\n",
              "      <th>age</th>\n",
              "    </tr>\n",
              "  </thead>\n",
              "  <tbody>\n",
              "    <tr>\n",
              "      <th>0</th>\n",
              "      <td>1</td>\n",
              "      <td>15</td>\n",
              "    </tr>\n",
              "    <tr>\n",
              "      <th>1</th>\n",
              "      <td>2</td>\n",
              "      <td>11</td>\n",
              "    </tr>\n",
              "    <tr>\n",
              "      <th>2</th>\n",
              "      <td>3</td>\n",
              "      <td>11</td>\n",
              "    </tr>\n",
              "    <tr>\n",
              "      <th>3</th>\n",
              "      <td>4</td>\n",
              "      <td>20</td>\n",
              "    </tr>\n",
              "  </tbody>\n",
              "</table>\n",
              "</div>\n",
              "    <div class=\"colab-df-buttons\">\n",
              "\n",
              "  <div class=\"colab-df-container\">\n",
              "    <button class=\"colab-df-convert\" onclick=\"convertToInteractive('df-d8fcb633-2323-4c96-9ecf-e9949a365b86')\"\n",
              "            title=\"Convert this dataframe to an interactive table.\"\n",
              "            style=\"display:none;\">\n",
              "\n",
              "  <svg xmlns=\"http://www.w3.org/2000/svg\" height=\"24px\" viewBox=\"0 -960 960 960\">\n",
              "    <path d=\"M120-120v-720h720v720H120Zm60-500h600v-160H180v160Zm220 220h160v-160H400v160Zm0 220h160v-160H400v160ZM180-400h160v-160H180v160Zm440 0h160v-160H620v160ZM180-180h160v-160H180v160Zm440 0h160v-160H620v160Z\"/>\n",
              "  </svg>\n",
              "    </button>\n",
              "\n",
              "  <style>\n",
              "    .colab-df-container {\n",
              "      display:flex;\n",
              "      gap: 12px;\n",
              "    }\n",
              "\n",
              "    .colab-df-convert {\n",
              "      background-color: #E8F0FE;\n",
              "      border: none;\n",
              "      border-radius: 50%;\n",
              "      cursor: pointer;\n",
              "      display: none;\n",
              "      fill: #1967D2;\n",
              "      height: 32px;\n",
              "      padding: 0 0 0 0;\n",
              "      width: 32px;\n",
              "    }\n",
              "\n",
              "    .colab-df-convert:hover {\n",
              "      background-color: #E2EBFA;\n",
              "      box-shadow: 0px 1px 2px rgba(60, 64, 67, 0.3), 0px 1px 3px 1px rgba(60, 64, 67, 0.15);\n",
              "      fill: #174EA6;\n",
              "    }\n",
              "\n",
              "    .colab-df-buttons div {\n",
              "      margin-bottom: 4px;\n",
              "    }\n",
              "\n",
              "    [theme=dark] .colab-df-convert {\n",
              "      background-color: #3B4455;\n",
              "      fill: #D2E3FC;\n",
              "    }\n",
              "\n",
              "    [theme=dark] .colab-df-convert:hover {\n",
              "      background-color: #434B5C;\n",
              "      box-shadow: 0px 1px 3px 1px rgba(0, 0, 0, 0.15);\n",
              "      filter: drop-shadow(0px 1px 2px rgba(0, 0, 0, 0.3));\n",
              "      fill: #FFFFFF;\n",
              "    }\n",
              "  </style>\n",
              "\n",
              "    <script>\n",
              "      const buttonEl =\n",
              "        document.querySelector('#df-d8fcb633-2323-4c96-9ecf-e9949a365b86 button.colab-df-convert');\n",
              "      buttonEl.style.display =\n",
              "        google.colab.kernel.accessAllowed ? 'block' : 'none';\n",
              "\n",
              "      async function convertToInteractive(key) {\n",
              "        const element = document.querySelector('#df-d8fcb633-2323-4c96-9ecf-e9949a365b86');\n",
              "        const dataTable =\n",
              "          await google.colab.kernel.invokeFunction('convertToInteractive',\n",
              "                                                    [key], {});\n",
              "        if (!dataTable) return;\n",
              "\n",
              "        const docLinkHtml = 'Like what you see? Visit the ' +\n",
              "          '<a target=\"_blank\" href=https://colab.research.google.com/notebooks/data_table.ipynb>data table notebook</a>'\n",
              "          + ' to learn more about interactive tables.';\n",
              "        element.innerHTML = '';\n",
              "        dataTable['output_type'] = 'display_data';\n",
              "        await google.colab.output.renderOutput(dataTable, element);\n",
              "        const docLink = document.createElement('div');\n",
              "        docLink.innerHTML = docLinkHtml;\n",
              "        element.appendChild(docLink);\n",
              "      }\n",
              "    </script>\n",
              "  </div>\n",
              "\n",
              "\n",
              "<div id=\"df-fde4b517-c8d0-4e47-b748-a12f2cb9df58\">\n",
              "  <button class=\"colab-df-quickchart\" onclick=\"quickchart('df-fde4b517-c8d0-4e47-b748-a12f2cb9df58')\"\n",
              "            title=\"Suggest charts.\"\n",
              "            style=\"display:none;\">\n",
              "\n",
              "<svg xmlns=\"http://www.w3.org/2000/svg\" height=\"24px\"viewBox=\"0 0 24 24\"\n",
              "     width=\"24px\">\n",
              "    <g>\n",
              "        <path d=\"M19 3H5c-1.1 0-2 .9-2 2v14c0 1.1.9 2 2 2h14c1.1 0 2-.9 2-2V5c0-1.1-.9-2-2-2zM9 17H7v-7h2v7zm4 0h-2V7h2v10zm4 0h-2v-4h2v4z\"/>\n",
              "    </g>\n",
              "</svg>\n",
              "  </button>\n",
              "\n",
              "<style>\n",
              "  .colab-df-quickchart {\n",
              "      --bg-color: #E8F0FE;\n",
              "      --fill-color: #1967D2;\n",
              "      --hover-bg-color: #E2EBFA;\n",
              "      --hover-fill-color: #174EA6;\n",
              "      --disabled-fill-color: #AAA;\n",
              "      --disabled-bg-color: #DDD;\n",
              "  }\n",
              "\n",
              "  [theme=dark] .colab-df-quickchart {\n",
              "      --bg-color: #3B4455;\n",
              "      --fill-color: #D2E3FC;\n",
              "      --hover-bg-color: #434B5C;\n",
              "      --hover-fill-color: #FFFFFF;\n",
              "      --disabled-bg-color: #3B4455;\n",
              "      --disabled-fill-color: #666;\n",
              "  }\n",
              "\n",
              "  .colab-df-quickchart {\n",
              "    background-color: var(--bg-color);\n",
              "    border: none;\n",
              "    border-radius: 50%;\n",
              "    cursor: pointer;\n",
              "    display: none;\n",
              "    fill: var(--fill-color);\n",
              "    height: 32px;\n",
              "    padding: 0;\n",
              "    width: 32px;\n",
              "  }\n",
              "\n",
              "  .colab-df-quickchart:hover {\n",
              "    background-color: var(--hover-bg-color);\n",
              "    box-shadow: 0 1px 2px rgba(60, 64, 67, 0.3), 0 1px 3px 1px rgba(60, 64, 67, 0.15);\n",
              "    fill: var(--button-hover-fill-color);\n",
              "  }\n",
              "\n",
              "  .colab-df-quickchart-complete:disabled,\n",
              "  .colab-df-quickchart-complete:disabled:hover {\n",
              "    background-color: var(--disabled-bg-color);\n",
              "    fill: var(--disabled-fill-color);\n",
              "    box-shadow: none;\n",
              "  }\n",
              "\n",
              "  .colab-df-spinner {\n",
              "    border: 2px solid var(--fill-color);\n",
              "    border-color: transparent;\n",
              "    border-bottom-color: var(--fill-color);\n",
              "    animation:\n",
              "      spin 1s steps(1) infinite;\n",
              "  }\n",
              "\n",
              "  @keyframes spin {\n",
              "    0% {\n",
              "      border-color: transparent;\n",
              "      border-bottom-color: var(--fill-color);\n",
              "      border-left-color: var(--fill-color);\n",
              "    }\n",
              "    20% {\n",
              "      border-color: transparent;\n",
              "      border-left-color: var(--fill-color);\n",
              "      border-top-color: var(--fill-color);\n",
              "    }\n",
              "    30% {\n",
              "      border-color: transparent;\n",
              "      border-left-color: var(--fill-color);\n",
              "      border-top-color: var(--fill-color);\n",
              "      border-right-color: var(--fill-color);\n",
              "    }\n",
              "    40% {\n",
              "      border-color: transparent;\n",
              "      border-right-color: var(--fill-color);\n",
              "      border-top-color: var(--fill-color);\n",
              "    }\n",
              "    60% {\n",
              "      border-color: transparent;\n",
              "      border-right-color: var(--fill-color);\n",
              "    }\n",
              "    80% {\n",
              "      border-color: transparent;\n",
              "      border-right-color: var(--fill-color);\n",
              "      border-bottom-color: var(--fill-color);\n",
              "    }\n",
              "    90% {\n",
              "      border-color: transparent;\n",
              "      border-bottom-color: var(--fill-color);\n",
              "    }\n",
              "  }\n",
              "</style>\n",
              "\n",
              "  <script>\n",
              "    async function quickchart(key) {\n",
              "      const quickchartButtonEl =\n",
              "        document.querySelector('#' + key + ' button');\n",
              "      quickchartButtonEl.disabled = true;  // To prevent multiple clicks.\n",
              "      quickchartButtonEl.classList.add('colab-df-spinner');\n",
              "      try {\n",
              "        const charts = await google.colab.kernel.invokeFunction(\n",
              "            'suggestCharts', [key], {});\n",
              "      } catch (error) {\n",
              "        console.error('Error during call to suggestCharts:', error);\n",
              "      }\n",
              "      quickchartButtonEl.classList.remove('colab-df-spinner');\n",
              "      quickchartButtonEl.classList.add('colab-df-quickchart-complete');\n",
              "    }\n",
              "    (() => {\n",
              "      let quickchartButtonEl =\n",
              "        document.querySelector('#df-fde4b517-c8d0-4e47-b748-a12f2cb9df58 button');\n",
              "      quickchartButtonEl.style.display =\n",
              "        google.colab.kernel.accessAllowed ? 'block' : 'none';\n",
              "    })();\n",
              "  </script>\n",
              "</div>\n",
              "    </div>\n",
              "  </div>\n"
            ]
          },
          "metadata": {},
          "execution_count": 71
        }
      ]
    },
    {
      "cell_type": "code",
      "source": [
        "df.shape"
      ],
      "metadata": {
        "id": "FOBeSSvZ6fLD",
        "colab": {
          "base_uri": "https://localhost:8080/"
        },
        "outputId": "01dcaba7-75b7-4a39-fdb2-070dda29c781"
      },
      "execution_count": 72,
      "outputs": [
        {
          "output_type": "stream",
          "name": "stderr",
          "text": [
            "/usr/local/lib/python3.10/dist-packages/ipykernel/ipkernel.py:283: DeprecationWarning: `should_run_async` will not call `transform_cell` automatically in the future. Please pass the result to `transformed_cell` argument and any exception that happen during thetransform in `preprocessing_exc_tuple` in IPython 7.17 and above.\n",
            "  and should_run_async(code)\n"
          ]
        },
        {
          "output_type": "execute_result",
          "data": {
            "text/plain": [
              "(4, 2)"
            ]
          },
          "metadata": {},
          "execution_count": 72
        }
      ]
    },
    {
      "cell_type": "code",
      "source": [
        "df = [['Piper', 4548],\n",
        " ['Grace', 28150],\n",
        "  ['Georgia', 1103]]"
      ],
      "metadata": {
        "id": "k4GYixqP8UeR",
        "colab": {
          "base_uri": "https://localhost:8080/"
        },
        "outputId": "93726e36-87e0-499e-fabb-3c7ee24cb202"
      },
      "execution_count": 73,
      "outputs": [
        {
          "output_type": "stream",
          "name": "stderr",
          "text": [
            "/usr/local/lib/python3.10/dist-packages/ipykernel/ipkernel.py:283: DeprecationWarning: `should_run_async` will not call `transform_cell` automatically in the future. Please pass the result to `transformed_cell` argument and any exception that happen during thetransform in `preprocessing_exc_tuple` in IPython 7.17 and above.\n",
            "  and should_run_async(code)\n"
          ]
        }
      ]
    },
    {
      "cell_type": "code",
      "source": [
        "df1 = pd.DataFrame(df, columns=['name', 'salary'])"
      ],
      "metadata": {
        "id": "XF79jmKV-Zk7",
        "colab": {
          "base_uri": "https://localhost:8080/"
        },
        "outputId": "c1b455ff-764b-4e63-9660-71f0d1f014d7"
      },
      "execution_count": 74,
      "outputs": [
        {
          "output_type": "stream",
          "name": "stderr",
          "text": [
            "/usr/local/lib/python3.10/dist-packages/ipykernel/ipkernel.py:283: DeprecationWarning: `should_run_async` will not call `transform_cell` automatically in the future. Please pass the result to `transformed_cell` argument and any exception that happen during thetransform in `preprocessing_exc_tuple` in IPython 7.17 and above.\n",
            "  and should_run_async(code)\n"
          ]
        }
      ]
    },
    {
      "cell_type": "code",
      "source": [
        "# x = df1['salary']*2\n",
        "# x\n",
        "df1['bonus'] = df1['salary'] * 2"
      ],
      "metadata": {
        "id": "JEvbJ0jt-uyu",
        "colab": {
          "base_uri": "https://localhost:8080/"
        },
        "outputId": "9847987b-a3e4-4f04-e208-b0c71a919ffa"
      },
      "execution_count": 75,
      "outputs": [
        {
          "output_type": "stream",
          "name": "stderr",
          "text": [
            "/usr/local/lib/python3.10/dist-packages/ipykernel/ipkernel.py:283: DeprecationWarning: `should_run_async` will not call `transform_cell` automatically in the future. Please pass the result to `transformed_cell` argument and any exception that happen during thetransform in `preprocessing_exc_tuple` in IPython 7.17 and above.\n",
            "  and should_run_async(code)\n"
          ]
        }
      ]
    },
    {
      "cell_type": "code",
      "source": [
        "from pandas._libs.tslibs.offsets import CustomBusinessDay\n",
        "customers1 = [\n",
        "    [1, 'Ella', 'emily@example.com'],\n",
        "    [2, 'David', 'michael@example.com'],\n",
        "    [3, 'Zachary', 'sarah@example.com'],\n",
        "    [4, 'Alice', 'john@example.com'],\n",
        "    [5, 'Finn', 'john@example.com'],\n",
        "    [6, 'Violet', 'alice@example.com']\n",
        "]\n",
        "\n",
        "customers = pd.DataFrame(customers1, columns=['customer_id','name','email'])\n",
        "customers.dropna(subset=['email'], inplace=True)\n",
        "customers"
      ],
      "metadata": {
        "id": "2Enutq2u-16D",
        "colab": {
          "base_uri": "https://localhost:8080/",
          "height": 292
        },
        "outputId": "6b2a3f23-30e8-48ae-a7d4-041547bb752a"
      },
      "execution_count": 76,
      "outputs": [
        {
          "output_type": "stream",
          "name": "stderr",
          "text": [
            "/usr/local/lib/python3.10/dist-packages/ipykernel/ipkernel.py:283: DeprecationWarning: `should_run_async` will not call `transform_cell` automatically in the future. Please pass the result to `transformed_cell` argument and any exception that happen during thetransform in `preprocessing_exc_tuple` in IPython 7.17 and above.\n",
            "  and should_run_async(code)\n"
          ]
        },
        {
          "output_type": "execute_result",
          "data": {
            "text/plain": [
              "   customer_id     name                email\n",
              "0            1     Ella    emily@example.com\n",
              "1            2    David  michael@example.com\n",
              "2            3  Zachary    sarah@example.com\n",
              "3            4    Alice     john@example.com\n",
              "4            5     Finn     john@example.com\n",
              "5            6   Violet    alice@example.com"
            ],
            "text/html": [
              "\n",
              "  <div id=\"df-f5c97ec1-f3f4-4135-941f-651fb21eacca\" class=\"colab-df-container\">\n",
              "    <div>\n",
              "<style scoped>\n",
              "    .dataframe tbody tr th:only-of-type {\n",
              "        vertical-align: middle;\n",
              "    }\n",
              "\n",
              "    .dataframe tbody tr th {\n",
              "        vertical-align: top;\n",
              "    }\n",
              "\n",
              "    .dataframe thead th {\n",
              "        text-align: right;\n",
              "    }\n",
              "</style>\n",
              "<table border=\"1\" class=\"dataframe\">\n",
              "  <thead>\n",
              "    <tr style=\"text-align: right;\">\n",
              "      <th></th>\n",
              "      <th>customer_id</th>\n",
              "      <th>name</th>\n",
              "      <th>email</th>\n",
              "    </tr>\n",
              "  </thead>\n",
              "  <tbody>\n",
              "    <tr>\n",
              "      <th>0</th>\n",
              "      <td>1</td>\n",
              "      <td>Ella</td>\n",
              "      <td>emily@example.com</td>\n",
              "    </tr>\n",
              "    <tr>\n",
              "      <th>1</th>\n",
              "      <td>2</td>\n",
              "      <td>David</td>\n",
              "      <td>michael@example.com</td>\n",
              "    </tr>\n",
              "    <tr>\n",
              "      <th>2</th>\n",
              "      <td>3</td>\n",
              "      <td>Zachary</td>\n",
              "      <td>sarah@example.com</td>\n",
              "    </tr>\n",
              "    <tr>\n",
              "      <th>3</th>\n",
              "      <td>4</td>\n",
              "      <td>Alice</td>\n",
              "      <td>john@example.com</td>\n",
              "    </tr>\n",
              "    <tr>\n",
              "      <th>4</th>\n",
              "      <td>5</td>\n",
              "      <td>Finn</td>\n",
              "      <td>john@example.com</td>\n",
              "    </tr>\n",
              "    <tr>\n",
              "      <th>5</th>\n",
              "      <td>6</td>\n",
              "      <td>Violet</td>\n",
              "      <td>alice@example.com</td>\n",
              "    </tr>\n",
              "  </tbody>\n",
              "</table>\n",
              "</div>\n",
              "    <div class=\"colab-df-buttons\">\n",
              "\n",
              "  <div class=\"colab-df-container\">\n",
              "    <button class=\"colab-df-convert\" onclick=\"convertToInteractive('df-f5c97ec1-f3f4-4135-941f-651fb21eacca')\"\n",
              "            title=\"Convert this dataframe to an interactive table.\"\n",
              "            style=\"display:none;\">\n",
              "\n",
              "  <svg xmlns=\"http://www.w3.org/2000/svg\" height=\"24px\" viewBox=\"0 -960 960 960\">\n",
              "    <path d=\"M120-120v-720h720v720H120Zm60-500h600v-160H180v160Zm220 220h160v-160H400v160Zm0 220h160v-160H400v160ZM180-400h160v-160H180v160Zm440 0h160v-160H620v160ZM180-180h160v-160H180v160Zm440 0h160v-160H620v160Z\"/>\n",
              "  </svg>\n",
              "    </button>\n",
              "\n",
              "  <style>\n",
              "    .colab-df-container {\n",
              "      display:flex;\n",
              "      gap: 12px;\n",
              "    }\n",
              "\n",
              "    .colab-df-convert {\n",
              "      background-color: #E8F0FE;\n",
              "      border: none;\n",
              "      border-radius: 50%;\n",
              "      cursor: pointer;\n",
              "      display: none;\n",
              "      fill: #1967D2;\n",
              "      height: 32px;\n",
              "      padding: 0 0 0 0;\n",
              "      width: 32px;\n",
              "    }\n",
              "\n",
              "    .colab-df-convert:hover {\n",
              "      background-color: #E2EBFA;\n",
              "      box-shadow: 0px 1px 2px rgba(60, 64, 67, 0.3), 0px 1px 3px 1px rgba(60, 64, 67, 0.15);\n",
              "      fill: #174EA6;\n",
              "    }\n",
              "\n",
              "    .colab-df-buttons div {\n",
              "      margin-bottom: 4px;\n",
              "    }\n",
              "\n",
              "    [theme=dark] .colab-df-convert {\n",
              "      background-color: #3B4455;\n",
              "      fill: #D2E3FC;\n",
              "    }\n",
              "\n",
              "    [theme=dark] .colab-df-convert:hover {\n",
              "      background-color: #434B5C;\n",
              "      box-shadow: 0px 1px 3px 1px rgba(0, 0, 0, 0.15);\n",
              "      filter: drop-shadow(0px 1px 2px rgba(0, 0, 0, 0.3));\n",
              "      fill: #FFFFFF;\n",
              "    }\n",
              "  </style>\n",
              "\n",
              "    <script>\n",
              "      const buttonEl =\n",
              "        document.querySelector('#df-f5c97ec1-f3f4-4135-941f-651fb21eacca button.colab-df-convert');\n",
              "      buttonEl.style.display =\n",
              "        google.colab.kernel.accessAllowed ? 'block' : 'none';\n",
              "\n",
              "      async function convertToInteractive(key) {\n",
              "        const element = document.querySelector('#df-f5c97ec1-f3f4-4135-941f-651fb21eacca');\n",
              "        const dataTable =\n",
              "          await google.colab.kernel.invokeFunction('convertToInteractive',\n",
              "                                                    [key], {});\n",
              "        if (!dataTable) return;\n",
              "\n",
              "        const docLinkHtml = 'Like what you see? Visit the ' +\n",
              "          '<a target=\"_blank\" href=https://colab.research.google.com/notebooks/data_table.ipynb>data table notebook</a>'\n",
              "          + ' to learn more about interactive tables.';\n",
              "        element.innerHTML = '';\n",
              "        dataTable['output_type'] = 'display_data';\n",
              "        await google.colab.output.renderOutput(dataTable, element);\n",
              "        const docLink = document.createElement('div');\n",
              "        docLink.innerHTML = docLinkHtml;\n",
              "        element.appendChild(docLink);\n",
              "      }\n",
              "    </script>\n",
              "  </div>\n",
              "\n",
              "\n",
              "<div id=\"df-fabef21e-e6d5-43fd-b862-f1c9a5c54e00\">\n",
              "  <button class=\"colab-df-quickchart\" onclick=\"quickchart('df-fabef21e-e6d5-43fd-b862-f1c9a5c54e00')\"\n",
              "            title=\"Suggest charts.\"\n",
              "            style=\"display:none;\">\n",
              "\n",
              "<svg xmlns=\"http://www.w3.org/2000/svg\" height=\"24px\"viewBox=\"0 0 24 24\"\n",
              "     width=\"24px\">\n",
              "    <g>\n",
              "        <path d=\"M19 3H5c-1.1 0-2 .9-2 2v14c0 1.1.9 2 2 2h14c1.1 0 2-.9 2-2V5c0-1.1-.9-2-2-2zM9 17H7v-7h2v7zm4 0h-2V7h2v10zm4 0h-2v-4h2v4z\"/>\n",
              "    </g>\n",
              "</svg>\n",
              "  </button>\n",
              "\n",
              "<style>\n",
              "  .colab-df-quickchart {\n",
              "      --bg-color: #E8F0FE;\n",
              "      --fill-color: #1967D2;\n",
              "      --hover-bg-color: #E2EBFA;\n",
              "      --hover-fill-color: #174EA6;\n",
              "      --disabled-fill-color: #AAA;\n",
              "      --disabled-bg-color: #DDD;\n",
              "  }\n",
              "\n",
              "  [theme=dark] .colab-df-quickchart {\n",
              "      --bg-color: #3B4455;\n",
              "      --fill-color: #D2E3FC;\n",
              "      --hover-bg-color: #434B5C;\n",
              "      --hover-fill-color: #FFFFFF;\n",
              "      --disabled-bg-color: #3B4455;\n",
              "      --disabled-fill-color: #666;\n",
              "  }\n",
              "\n",
              "  .colab-df-quickchart {\n",
              "    background-color: var(--bg-color);\n",
              "    border: none;\n",
              "    border-radius: 50%;\n",
              "    cursor: pointer;\n",
              "    display: none;\n",
              "    fill: var(--fill-color);\n",
              "    height: 32px;\n",
              "    padding: 0;\n",
              "    width: 32px;\n",
              "  }\n",
              "\n",
              "  .colab-df-quickchart:hover {\n",
              "    background-color: var(--hover-bg-color);\n",
              "    box-shadow: 0 1px 2px rgba(60, 64, 67, 0.3), 0 1px 3px 1px rgba(60, 64, 67, 0.15);\n",
              "    fill: var(--button-hover-fill-color);\n",
              "  }\n",
              "\n",
              "  .colab-df-quickchart-complete:disabled,\n",
              "  .colab-df-quickchart-complete:disabled:hover {\n",
              "    background-color: var(--disabled-bg-color);\n",
              "    fill: var(--disabled-fill-color);\n",
              "    box-shadow: none;\n",
              "  }\n",
              "\n",
              "  .colab-df-spinner {\n",
              "    border: 2px solid var(--fill-color);\n",
              "    border-color: transparent;\n",
              "    border-bottom-color: var(--fill-color);\n",
              "    animation:\n",
              "      spin 1s steps(1) infinite;\n",
              "  }\n",
              "\n",
              "  @keyframes spin {\n",
              "    0% {\n",
              "      border-color: transparent;\n",
              "      border-bottom-color: var(--fill-color);\n",
              "      border-left-color: var(--fill-color);\n",
              "    }\n",
              "    20% {\n",
              "      border-color: transparent;\n",
              "      border-left-color: var(--fill-color);\n",
              "      border-top-color: var(--fill-color);\n",
              "    }\n",
              "    30% {\n",
              "      border-color: transparent;\n",
              "      border-left-color: var(--fill-color);\n",
              "      border-top-color: var(--fill-color);\n",
              "      border-right-color: var(--fill-color);\n",
              "    }\n",
              "    40% {\n",
              "      border-color: transparent;\n",
              "      border-right-color: var(--fill-color);\n",
              "      border-top-color: var(--fill-color);\n",
              "    }\n",
              "    60% {\n",
              "      border-color: transparent;\n",
              "      border-right-color: var(--fill-color);\n",
              "    }\n",
              "    80% {\n",
              "      border-color: transparent;\n",
              "      border-right-color: var(--fill-color);\n",
              "      border-bottom-color: var(--fill-color);\n",
              "    }\n",
              "    90% {\n",
              "      border-color: transparent;\n",
              "      border-bottom-color: var(--fill-color);\n",
              "    }\n",
              "  }\n",
              "</style>\n",
              "\n",
              "  <script>\n",
              "    async function quickchart(key) {\n",
              "      const quickchartButtonEl =\n",
              "        document.querySelector('#' + key + ' button');\n",
              "      quickchartButtonEl.disabled = true;  // To prevent multiple clicks.\n",
              "      quickchartButtonEl.classList.add('colab-df-spinner');\n",
              "      try {\n",
              "        const charts = await google.colab.kernel.invokeFunction(\n",
              "            'suggestCharts', [key], {});\n",
              "      } catch (error) {\n",
              "        console.error('Error during call to suggestCharts:', error);\n",
              "      }\n",
              "      quickchartButtonEl.classList.remove('colab-df-spinner');\n",
              "      quickchartButtonEl.classList.add('colab-df-quickchart-complete');\n",
              "    }\n",
              "    (() => {\n",
              "      let quickchartButtonEl =\n",
              "        document.querySelector('#df-fabef21e-e6d5-43fd-b862-f1c9a5c54e00 button');\n",
              "      quickchartButtonEl.style.display =\n",
              "        google.colab.kernel.accessAllowed ? 'block' : 'none';\n",
              "    })();\n",
              "  </script>\n",
              "</div>\n",
              "    </div>\n",
              "  </div>\n"
            ]
          },
          "metadata": {},
          "execution_count": 76
        }
      ]
    },
    {
      "cell_type": "code",
      "source": [
        "customers['customer_id'] = customers['customer_id'] * 2\n",
        "customers"
      ],
      "metadata": {
        "id": "4KVOZLUHA_qF",
        "colab": {
          "base_uri": "https://localhost:8080/",
          "height": 292
        },
        "outputId": "af2f13b3-396b-4006-c4fd-edfb76f8486c"
      },
      "execution_count": 77,
      "outputs": [
        {
          "output_type": "stream",
          "name": "stderr",
          "text": [
            "/usr/local/lib/python3.10/dist-packages/ipykernel/ipkernel.py:283: DeprecationWarning: `should_run_async` will not call `transform_cell` automatically in the future. Please pass the result to `transformed_cell` argument and any exception that happen during thetransform in `preprocessing_exc_tuple` in IPython 7.17 and above.\n",
            "  and should_run_async(code)\n"
          ]
        },
        {
          "output_type": "execute_result",
          "data": {
            "text/plain": [
              "   customer_id     name                email\n",
              "0            2     Ella    emily@example.com\n",
              "1            4    David  michael@example.com\n",
              "2            6  Zachary    sarah@example.com\n",
              "3            8    Alice     john@example.com\n",
              "4           10     Finn     john@example.com\n",
              "5           12   Violet    alice@example.com"
            ],
            "text/html": [
              "\n",
              "  <div id=\"df-4114d8eb-745b-4b2d-b944-a84676ec02c4\" class=\"colab-df-container\">\n",
              "    <div>\n",
              "<style scoped>\n",
              "    .dataframe tbody tr th:only-of-type {\n",
              "        vertical-align: middle;\n",
              "    }\n",
              "\n",
              "    .dataframe tbody tr th {\n",
              "        vertical-align: top;\n",
              "    }\n",
              "\n",
              "    .dataframe thead th {\n",
              "        text-align: right;\n",
              "    }\n",
              "</style>\n",
              "<table border=\"1\" class=\"dataframe\">\n",
              "  <thead>\n",
              "    <tr style=\"text-align: right;\">\n",
              "      <th></th>\n",
              "      <th>customer_id</th>\n",
              "      <th>name</th>\n",
              "      <th>email</th>\n",
              "    </tr>\n",
              "  </thead>\n",
              "  <tbody>\n",
              "    <tr>\n",
              "      <th>0</th>\n",
              "      <td>2</td>\n",
              "      <td>Ella</td>\n",
              "      <td>emily@example.com</td>\n",
              "    </tr>\n",
              "    <tr>\n",
              "      <th>1</th>\n",
              "      <td>4</td>\n",
              "      <td>David</td>\n",
              "      <td>michael@example.com</td>\n",
              "    </tr>\n",
              "    <tr>\n",
              "      <th>2</th>\n",
              "      <td>6</td>\n",
              "      <td>Zachary</td>\n",
              "      <td>sarah@example.com</td>\n",
              "    </tr>\n",
              "    <tr>\n",
              "      <th>3</th>\n",
              "      <td>8</td>\n",
              "      <td>Alice</td>\n",
              "      <td>john@example.com</td>\n",
              "    </tr>\n",
              "    <tr>\n",
              "      <th>4</th>\n",
              "      <td>10</td>\n",
              "      <td>Finn</td>\n",
              "      <td>john@example.com</td>\n",
              "    </tr>\n",
              "    <tr>\n",
              "      <th>5</th>\n",
              "      <td>12</td>\n",
              "      <td>Violet</td>\n",
              "      <td>alice@example.com</td>\n",
              "    </tr>\n",
              "  </tbody>\n",
              "</table>\n",
              "</div>\n",
              "    <div class=\"colab-df-buttons\">\n",
              "\n",
              "  <div class=\"colab-df-container\">\n",
              "    <button class=\"colab-df-convert\" onclick=\"convertToInteractive('df-4114d8eb-745b-4b2d-b944-a84676ec02c4')\"\n",
              "            title=\"Convert this dataframe to an interactive table.\"\n",
              "            style=\"display:none;\">\n",
              "\n",
              "  <svg xmlns=\"http://www.w3.org/2000/svg\" height=\"24px\" viewBox=\"0 -960 960 960\">\n",
              "    <path d=\"M120-120v-720h720v720H120Zm60-500h600v-160H180v160Zm220 220h160v-160H400v160Zm0 220h160v-160H400v160ZM180-400h160v-160H180v160Zm440 0h160v-160H620v160ZM180-180h160v-160H180v160Zm440 0h160v-160H620v160Z\"/>\n",
              "  </svg>\n",
              "    </button>\n",
              "\n",
              "  <style>\n",
              "    .colab-df-container {\n",
              "      display:flex;\n",
              "      gap: 12px;\n",
              "    }\n",
              "\n",
              "    .colab-df-convert {\n",
              "      background-color: #E8F0FE;\n",
              "      border: none;\n",
              "      border-radius: 50%;\n",
              "      cursor: pointer;\n",
              "      display: none;\n",
              "      fill: #1967D2;\n",
              "      height: 32px;\n",
              "      padding: 0 0 0 0;\n",
              "      width: 32px;\n",
              "    }\n",
              "\n",
              "    .colab-df-convert:hover {\n",
              "      background-color: #E2EBFA;\n",
              "      box-shadow: 0px 1px 2px rgba(60, 64, 67, 0.3), 0px 1px 3px 1px rgba(60, 64, 67, 0.15);\n",
              "      fill: #174EA6;\n",
              "    }\n",
              "\n",
              "    .colab-df-buttons div {\n",
              "      margin-bottom: 4px;\n",
              "    }\n",
              "\n",
              "    [theme=dark] .colab-df-convert {\n",
              "      background-color: #3B4455;\n",
              "      fill: #D2E3FC;\n",
              "    }\n",
              "\n",
              "    [theme=dark] .colab-df-convert:hover {\n",
              "      background-color: #434B5C;\n",
              "      box-shadow: 0px 1px 3px 1px rgba(0, 0, 0, 0.15);\n",
              "      filter: drop-shadow(0px 1px 2px rgba(0, 0, 0, 0.3));\n",
              "      fill: #FFFFFF;\n",
              "    }\n",
              "  </style>\n",
              "\n",
              "    <script>\n",
              "      const buttonEl =\n",
              "        document.querySelector('#df-4114d8eb-745b-4b2d-b944-a84676ec02c4 button.colab-df-convert');\n",
              "      buttonEl.style.display =\n",
              "        google.colab.kernel.accessAllowed ? 'block' : 'none';\n",
              "\n",
              "      async function convertToInteractive(key) {\n",
              "        const element = document.querySelector('#df-4114d8eb-745b-4b2d-b944-a84676ec02c4');\n",
              "        const dataTable =\n",
              "          await google.colab.kernel.invokeFunction('convertToInteractive',\n",
              "                                                    [key], {});\n",
              "        if (!dataTable) return;\n",
              "\n",
              "        const docLinkHtml = 'Like what you see? Visit the ' +\n",
              "          '<a target=\"_blank\" href=https://colab.research.google.com/notebooks/data_table.ipynb>data table notebook</a>'\n",
              "          + ' to learn more about interactive tables.';\n",
              "        element.innerHTML = '';\n",
              "        dataTable['output_type'] = 'display_data';\n",
              "        await google.colab.output.renderOutput(dataTable, element);\n",
              "        const docLink = document.createElement('div');\n",
              "        docLink.innerHTML = docLinkHtml;\n",
              "        element.appendChild(docLink);\n",
              "      }\n",
              "    </script>\n",
              "  </div>\n",
              "\n",
              "\n",
              "<div id=\"df-c16ff9d1-bfb9-4232-a04a-438cb6ba1839\">\n",
              "  <button class=\"colab-df-quickchart\" onclick=\"quickchart('df-c16ff9d1-bfb9-4232-a04a-438cb6ba1839')\"\n",
              "            title=\"Suggest charts.\"\n",
              "            style=\"display:none;\">\n",
              "\n",
              "<svg xmlns=\"http://www.w3.org/2000/svg\" height=\"24px\"viewBox=\"0 0 24 24\"\n",
              "     width=\"24px\">\n",
              "    <g>\n",
              "        <path d=\"M19 3H5c-1.1 0-2 .9-2 2v14c0 1.1.9 2 2 2h14c1.1 0 2-.9 2-2V5c0-1.1-.9-2-2-2zM9 17H7v-7h2v7zm4 0h-2V7h2v10zm4 0h-2v-4h2v4z\"/>\n",
              "    </g>\n",
              "</svg>\n",
              "  </button>\n",
              "\n",
              "<style>\n",
              "  .colab-df-quickchart {\n",
              "      --bg-color: #E8F0FE;\n",
              "      --fill-color: #1967D2;\n",
              "      --hover-bg-color: #E2EBFA;\n",
              "      --hover-fill-color: #174EA6;\n",
              "      --disabled-fill-color: #AAA;\n",
              "      --disabled-bg-color: #DDD;\n",
              "  }\n",
              "\n",
              "  [theme=dark] .colab-df-quickchart {\n",
              "      --bg-color: #3B4455;\n",
              "      --fill-color: #D2E3FC;\n",
              "      --hover-bg-color: #434B5C;\n",
              "      --hover-fill-color: #FFFFFF;\n",
              "      --disabled-bg-color: #3B4455;\n",
              "      --disabled-fill-color: #666;\n",
              "  }\n",
              "\n",
              "  .colab-df-quickchart {\n",
              "    background-color: var(--bg-color);\n",
              "    border: none;\n",
              "    border-radius: 50%;\n",
              "    cursor: pointer;\n",
              "    display: none;\n",
              "    fill: var(--fill-color);\n",
              "    height: 32px;\n",
              "    padding: 0;\n",
              "    width: 32px;\n",
              "  }\n",
              "\n",
              "  .colab-df-quickchart:hover {\n",
              "    background-color: var(--hover-bg-color);\n",
              "    box-shadow: 0 1px 2px rgba(60, 64, 67, 0.3), 0 1px 3px 1px rgba(60, 64, 67, 0.15);\n",
              "    fill: var(--button-hover-fill-color);\n",
              "  }\n",
              "\n",
              "  .colab-df-quickchart-complete:disabled,\n",
              "  .colab-df-quickchart-complete:disabled:hover {\n",
              "    background-color: var(--disabled-bg-color);\n",
              "    fill: var(--disabled-fill-color);\n",
              "    box-shadow: none;\n",
              "  }\n",
              "\n",
              "  .colab-df-spinner {\n",
              "    border: 2px solid var(--fill-color);\n",
              "    border-color: transparent;\n",
              "    border-bottom-color: var(--fill-color);\n",
              "    animation:\n",
              "      spin 1s steps(1) infinite;\n",
              "  }\n",
              "\n",
              "  @keyframes spin {\n",
              "    0% {\n",
              "      border-color: transparent;\n",
              "      border-bottom-color: var(--fill-color);\n",
              "      border-left-color: var(--fill-color);\n",
              "    }\n",
              "    20% {\n",
              "      border-color: transparent;\n",
              "      border-left-color: var(--fill-color);\n",
              "      border-top-color: var(--fill-color);\n",
              "    }\n",
              "    30% {\n",
              "      border-color: transparent;\n",
              "      border-left-color: var(--fill-color);\n",
              "      border-top-color: var(--fill-color);\n",
              "      border-right-color: var(--fill-color);\n",
              "    }\n",
              "    40% {\n",
              "      border-color: transparent;\n",
              "      border-right-color: var(--fill-color);\n",
              "      border-top-color: var(--fill-color);\n",
              "    }\n",
              "    60% {\n",
              "      border-color: transparent;\n",
              "      border-right-color: var(--fill-color);\n",
              "    }\n",
              "    80% {\n",
              "      border-color: transparent;\n",
              "      border-right-color: var(--fill-color);\n",
              "      border-bottom-color: var(--fill-color);\n",
              "    }\n",
              "    90% {\n",
              "      border-color: transparent;\n",
              "      border-bottom-color: var(--fill-color);\n",
              "    }\n",
              "  }\n",
              "</style>\n",
              "\n",
              "  <script>\n",
              "    async function quickchart(key) {\n",
              "      const quickchartButtonEl =\n",
              "        document.querySelector('#' + key + ' button');\n",
              "      quickchartButtonEl.disabled = true;  // To prevent multiple clicks.\n",
              "      quickchartButtonEl.classList.add('colab-df-spinner');\n",
              "      try {\n",
              "        const charts = await google.colab.kernel.invokeFunction(\n",
              "            'suggestCharts', [key], {});\n",
              "      } catch (error) {\n",
              "        console.error('Error during call to suggestCharts:', error);\n",
              "      }\n",
              "      quickchartButtonEl.classList.remove('colab-df-spinner');\n",
              "      quickchartButtonEl.classList.add('colab-df-quickchart-complete');\n",
              "    }\n",
              "    (() => {\n",
              "      let quickchartButtonEl =\n",
              "        document.querySelector('#df-c16ff9d1-bfb9-4232-a04a-438cb6ba1839 button');\n",
              "      quickchartButtonEl.style.display =\n",
              "        google.colab.kernel.accessAllowed ? 'block' : 'none';\n",
              "    })();\n",
              "  </script>\n",
              "</div>\n",
              "    </div>\n",
              "  </div>\n"
            ]
          },
          "metadata": {},
          "execution_count": 77
        }
      ]
    },
    {
      "cell_type": "code",
      "source": [
        "customers1 = customers[['customer_id','email']]"
      ],
      "metadata": {
        "id": "dKAUZgn3DSv0",
        "colab": {
          "base_uri": "https://localhost:8080/"
        },
        "outputId": "89c4fe0f-dacb-4c71-9d62-8f68b845ab01"
      },
      "execution_count": 78,
      "outputs": [
        {
          "output_type": "stream",
          "name": "stderr",
          "text": [
            "/usr/local/lib/python3.10/dist-packages/ipykernel/ipkernel.py:283: DeprecationWarning: `should_run_async` will not call `transform_cell` automatically in the future. Please pass the result to `transformed_cell` argument and any exception that happen during thetransform in `preprocessing_exc_tuple` in IPython 7.17 and above.\n",
            "  and should_run_async(code)\n"
          ]
        }
      ]
    },
    {
      "cell_type": "code",
      "source": [
        "customers1"
      ],
      "metadata": {
        "id": "yynSlW2vKLiy",
        "colab": {
          "base_uri": "https://localhost:8080/",
          "height": 292
        },
        "outputId": "b6ab4a72-11b6-4153-dda4-f9f79555618b"
      },
      "execution_count": 79,
      "outputs": [
        {
          "output_type": "stream",
          "name": "stderr",
          "text": [
            "/usr/local/lib/python3.10/dist-packages/ipykernel/ipkernel.py:283: DeprecationWarning: `should_run_async` will not call `transform_cell` automatically in the future. Please pass the result to `transformed_cell` argument and any exception that happen during thetransform in `preprocessing_exc_tuple` in IPython 7.17 and above.\n",
            "  and should_run_async(code)\n"
          ]
        },
        {
          "output_type": "execute_result",
          "data": {
            "text/plain": [
              "   customer_id                email\n",
              "0            2    emily@example.com\n",
              "1            4  michael@example.com\n",
              "2            6    sarah@example.com\n",
              "3            8     john@example.com\n",
              "4           10     john@example.com\n",
              "5           12    alice@example.com"
            ],
            "text/html": [
              "\n",
              "  <div id=\"df-dbbbef86-218c-4cf6-a981-6afdf0fa2484\" class=\"colab-df-container\">\n",
              "    <div>\n",
              "<style scoped>\n",
              "    .dataframe tbody tr th:only-of-type {\n",
              "        vertical-align: middle;\n",
              "    }\n",
              "\n",
              "    .dataframe tbody tr th {\n",
              "        vertical-align: top;\n",
              "    }\n",
              "\n",
              "    .dataframe thead th {\n",
              "        text-align: right;\n",
              "    }\n",
              "</style>\n",
              "<table border=\"1\" class=\"dataframe\">\n",
              "  <thead>\n",
              "    <tr style=\"text-align: right;\">\n",
              "      <th></th>\n",
              "      <th>customer_id</th>\n",
              "      <th>email</th>\n",
              "    </tr>\n",
              "  </thead>\n",
              "  <tbody>\n",
              "    <tr>\n",
              "      <th>0</th>\n",
              "      <td>2</td>\n",
              "      <td>emily@example.com</td>\n",
              "    </tr>\n",
              "    <tr>\n",
              "      <th>1</th>\n",
              "      <td>4</td>\n",
              "      <td>michael@example.com</td>\n",
              "    </tr>\n",
              "    <tr>\n",
              "      <th>2</th>\n",
              "      <td>6</td>\n",
              "      <td>sarah@example.com</td>\n",
              "    </tr>\n",
              "    <tr>\n",
              "      <th>3</th>\n",
              "      <td>8</td>\n",
              "      <td>john@example.com</td>\n",
              "    </tr>\n",
              "    <tr>\n",
              "      <th>4</th>\n",
              "      <td>10</td>\n",
              "      <td>john@example.com</td>\n",
              "    </tr>\n",
              "    <tr>\n",
              "      <th>5</th>\n",
              "      <td>12</td>\n",
              "      <td>alice@example.com</td>\n",
              "    </tr>\n",
              "  </tbody>\n",
              "</table>\n",
              "</div>\n",
              "    <div class=\"colab-df-buttons\">\n",
              "\n",
              "  <div class=\"colab-df-container\">\n",
              "    <button class=\"colab-df-convert\" onclick=\"convertToInteractive('df-dbbbef86-218c-4cf6-a981-6afdf0fa2484')\"\n",
              "            title=\"Convert this dataframe to an interactive table.\"\n",
              "            style=\"display:none;\">\n",
              "\n",
              "  <svg xmlns=\"http://www.w3.org/2000/svg\" height=\"24px\" viewBox=\"0 -960 960 960\">\n",
              "    <path d=\"M120-120v-720h720v720H120Zm60-500h600v-160H180v160Zm220 220h160v-160H400v160Zm0 220h160v-160H400v160ZM180-400h160v-160H180v160Zm440 0h160v-160H620v160ZM180-180h160v-160H180v160Zm440 0h160v-160H620v160Z\"/>\n",
              "  </svg>\n",
              "    </button>\n",
              "\n",
              "  <style>\n",
              "    .colab-df-container {\n",
              "      display:flex;\n",
              "      gap: 12px;\n",
              "    }\n",
              "\n",
              "    .colab-df-convert {\n",
              "      background-color: #E8F0FE;\n",
              "      border: none;\n",
              "      border-radius: 50%;\n",
              "      cursor: pointer;\n",
              "      display: none;\n",
              "      fill: #1967D2;\n",
              "      height: 32px;\n",
              "      padding: 0 0 0 0;\n",
              "      width: 32px;\n",
              "    }\n",
              "\n",
              "    .colab-df-convert:hover {\n",
              "      background-color: #E2EBFA;\n",
              "      box-shadow: 0px 1px 2px rgba(60, 64, 67, 0.3), 0px 1px 3px 1px rgba(60, 64, 67, 0.15);\n",
              "      fill: #174EA6;\n",
              "    }\n",
              "\n",
              "    .colab-df-buttons div {\n",
              "      margin-bottom: 4px;\n",
              "    }\n",
              "\n",
              "    [theme=dark] .colab-df-convert {\n",
              "      background-color: #3B4455;\n",
              "      fill: #D2E3FC;\n",
              "    }\n",
              "\n",
              "    [theme=dark] .colab-df-convert:hover {\n",
              "      background-color: #434B5C;\n",
              "      box-shadow: 0px 1px 3px 1px rgba(0, 0, 0, 0.15);\n",
              "      filter: drop-shadow(0px 1px 2px rgba(0, 0, 0, 0.3));\n",
              "      fill: #FFFFFF;\n",
              "    }\n",
              "  </style>\n",
              "\n",
              "    <script>\n",
              "      const buttonEl =\n",
              "        document.querySelector('#df-dbbbef86-218c-4cf6-a981-6afdf0fa2484 button.colab-df-convert');\n",
              "      buttonEl.style.display =\n",
              "        google.colab.kernel.accessAllowed ? 'block' : 'none';\n",
              "\n",
              "      async function convertToInteractive(key) {\n",
              "        const element = document.querySelector('#df-dbbbef86-218c-4cf6-a981-6afdf0fa2484');\n",
              "        const dataTable =\n",
              "          await google.colab.kernel.invokeFunction('convertToInteractive',\n",
              "                                                    [key], {});\n",
              "        if (!dataTable) return;\n",
              "\n",
              "        const docLinkHtml = 'Like what you see? Visit the ' +\n",
              "          '<a target=\"_blank\" href=https://colab.research.google.com/notebooks/data_table.ipynb>data table notebook</a>'\n",
              "          + ' to learn more about interactive tables.';\n",
              "        element.innerHTML = '';\n",
              "        dataTable['output_type'] = 'display_data';\n",
              "        await google.colab.output.renderOutput(dataTable, element);\n",
              "        const docLink = document.createElement('div');\n",
              "        docLink.innerHTML = docLinkHtml;\n",
              "        element.appendChild(docLink);\n",
              "      }\n",
              "    </script>\n",
              "  </div>\n",
              "\n",
              "\n",
              "<div id=\"df-90b739ad-0cb0-4194-a9ca-c403c0d8ef63\">\n",
              "  <button class=\"colab-df-quickchart\" onclick=\"quickchart('df-90b739ad-0cb0-4194-a9ca-c403c0d8ef63')\"\n",
              "            title=\"Suggest charts.\"\n",
              "            style=\"display:none;\">\n",
              "\n",
              "<svg xmlns=\"http://www.w3.org/2000/svg\" height=\"24px\"viewBox=\"0 0 24 24\"\n",
              "     width=\"24px\">\n",
              "    <g>\n",
              "        <path d=\"M19 3H5c-1.1 0-2 .9-2 2v14c0 1.1.9 2 2 2h14c1.1 0 2-.9 2-2V5c0-1.1-.9-2-2-2zM9 17H7v-7h2v7zm4 0h-2V7h2v10zm4 0h-2v-4h2v4z\"/>\n",
              "    </g>\n",
              "</svg>\n",
              "  </button>\n",
              "\n",
              "<style>\n",
              "  .colab-df-quickchart {\n",
              "      --bg-color: #E8F0FE;\n",
              "      --fill-color: #1967D2;\n",
              "      --hover-bg-color: #E2EBFA;\n",
              "      --hover-fill-color: #174EA6;\n",
              "      --disabled-fill-color: #AAA;\n",
              "      --disabled-bg-color: #DDD;\n",
              "  }\n",
              "\n",
              "  [theme=dark] .colab-df-quickchart {\n",
              "      --bg-color: #3B4455;\n",
              "      --fill-color: #D2E3FC;\n",
              "      --hover-bg-color: #434B5C;\n",
              "      --hover-fill-color: #FFFFFF;\n",
              "      --disabled-bg-color: #3B4455;\n",
              "      --disabled-fill-color: #666;\n",
              "  }\n",
              "\n",
              "  .colab-df-quickchart {\n",
              "    background-color: var(--bg-color);\n",
              "    border: none;\n",
              "    border-radius: 50%;\n",
              "    cursor: pointer;\n",
              "    display: none;\n",
              "    fill: var(--fill-color);\n",
              "    height: 32px;\n",
              "    padding: 0;\n",
              "    width: 32px;\n",
              "  }\n",
              "\n",
              "  .colab-df-quickchart:hover {\n",
              "    background-color: var(--hover-bg-color);\n",
              "    box-shadow: 0 1px 2px rgba(60, 64, 67, 0.3), 0 1px 3px 1px rgba(60, 64, 67, 0.15);\n",
              "    fill: var(--button-hover-fill-color);\n",
              "  }\n",
              "\n",
              "  .colab-df-quickchart-complete:disabled,\n",
              "  .colab-df-quickchart-complete:disabled:hover {\n",
              "    background-color: var(--disabled-bg-color);\n",
              "    fill: var(--disabled-fill-color);\n",
              "    box-shadow: none;\n",
              "  }\n",
              "\n",
              "  .colab-df-spinner {\n",
              "    border: 2px solid var(--fill-color);\n",
              "    border-color: transparent;\n",
              "    border-bottom-color: var(--fill-color);\n",
              "    animation:\n",
              "      spin 1s steps(1) infinite;\n",
              "  }\n",
              "\n",
              "  @keyframes spin {\n",
              "    0% {\n",
              "      border-color: transparent;\n",
              "      border-bottom-color: var(--fill-color);\n",
              "      border-left-color: var(--fill-color);\n",
              "    }\n",
              "    20% {\n",
              "      border-color: transparent;\n",
              "      border-left-color: var(--fill-color);\n",
              "      border-top-color: var(--fill-color);\n",
              "    }\n",
              "    30% {\n",
              "      border-color: transparent;\n",
              "      border-left-color: var(--fill-color);\n",
              "      border-top-color: var(--fill-color);\n",
              "      border-right-color: var(--fill-color);\n",
              "    }\n",
              "    40% {\n",
              "      border-color: transparent;\n",
              "      border-right-color: var(--fill-color);\n",
              "      border-top-color: var(--fill-color);\n",
              "    }\n",
              "    60% {\n",
              "      border-color: transparent;\n",
              "      border-right-color: var(--fill-color);\n",
              "    }\n",
              "    80% {\n",
              "      border-color: transparent;\n",
              "      border-right-color: var(--fill-color);\n",
              "      border-bottom-color: var(--fill-color);\n",
              "    }\n",
              "    90% {\n",
              "      border-color: transparent;\n",
              "      border-bottom-color: var(--fill-color);\n",
              "    }\n",
              "  }\n",
              "</style>\n",
              "\n",
              "  <script>\n",
              "    async function quickchart(key) {\n",
              "      const quickchartButtonEl =\n",
              "        document.querySelector('#' + key + ' button');\n",
              "      quickchartButtonEl.disabled = true;  // To prevent multiple clicks.\n",
              "      quickchartButtonEl.classList.add('colab-df-spinner');\n",
              "      try {\n",
              "        const charts = await google.colab.kernel.invokeFunction(\n",
              "            'suggestCharts', [key], {});\n",
              "      } catch (error) {\n",
              "        console.error('Error during call to suggestCharts:', error);\n",
              "      }\n",
              "      quickchartButtonEl.classList.remove('colab-df-spinner');\n",
              "      quickchartButtonEl.classList.add('colab-df-quickchart-complete');\n",
              "    }\n",
              "    (() => {\n",
              "      let quickchartButtonEl =\n",
              "        document.querySelector('#df-90b739ad-0cb0-4194-a9ca-c403c0d8ef63 button');\n",
              "      quickchartButtonEl.style.display =\n",
              "        google.colab.kernel.accessAllowed ? 'block' : 'none';\n",
              "    })();\n",
              "  </script>\n",
              "</div>\n",
              "    </div>\n",
              "  </div>\n"
            ]
          },
          "metadata": {},
          "execution_count": 79
        }
      ]
    },
    {
      "cell_type": "markdown",
      "source": [
        "# Saving The Models\n",
        "\n",
        "Both `pickle` and `joblib` are Python libraries used for serializing (saving) and deserializing (loading) Python objects, including machine learning models. They allow you to save your model to a file so that you can reuse it later without having to retrain the model. While both libraries serve a similar purpose, there are some differences between them, and `joblib` is often preferred for saving and loading machine learning models."
      ],
      "metadata": {
        "id": "KVsgFSDTN760"
      }
    },
    {
      "cell_type": "markdown",
      "source": [
        "## Pickle\n",
        "\n",
        "* `pickle` is a standard library module in Python that provides a way to serialize and deserialize Python objects.\n",
        "* It can save a wide range of Python objects, including custom classes, functions, and more.\n",
        "* `pickle` is convenient for many use cases and is a built-in module, so you don't need to install any additional libraries to use it.\n",
        "* However, it can be relatively slow when serializing large data structures, and the resulting files may be larger."
      ],
      "metadata": {
        "id": "Q50sEKAaMSrm"
      }
    },
    {
      "cell_type": "code",
      "source": [
        "import pickle as pkl\n",
        "\n",
        "pkl.dump(logistic_reg,open('Logistic_Regression.pkl','wb'))"
      ],
      "metadata": {
        "id": "GNI4vh9cL7eN",
        "colab": {
          "base_uri": "https://localhost:8080/"
        },
        "outputId": "c72708a7-d654-4ebf-b51d-8723b7a7ea62"
      },
      "execution_count": 80,
      "outputs": [
        {
          "output_type": "stream",
          "name": "stderr",
          "text": [
            "/usr/local/lib/python3.10/dist-packages/ipykernel/ipkernel.py:283: DeprecationWarning: `should_run_async` will not call `transform_cell` automatically in the future. Please pass the result to `transformed_cell` argument and any exception that happen during thetransform in `preprocessing_exc_tuple` in IPython 7.17 and above.\n",
            "  and should_run_async(code)\n"
          ]
        }
      ]
    },
    {
      "cell_type": "markdown",
      "source": [
        "## Joblib\n",
        "\n",
        "* `joblib` is a library that extends `pickle` and is specifically designed for efficiently saving and loading Python objects, especially NumPy arrays and scikit-learn models.\n",
        "* It is optimized for performance and memory usage, making it more suitable for machine learning models that often involve large arrays or complex data structures.\n",
        "* `joblib` is often recommended for saving and loading scikit-learn machine learning models because it is more efficient in terms of both time and space compared to `pickle`."
      ],
      "metadata": {
        "id": "Usmmd5JGMbML"
      }
    },
    {
      "cell_type": "code",
      "source": [
        "from joblib import dump,load\n",
        "\n",
        "dump(logistic_reg, filename='Logistic_Regression.joblib')"
      ],
      "metadata": {
        "id": "kBfTAf79Ma2Q",
        "colab": {
          "base_uri": "https://localhost:8080/"
        },
        "outputId": "93a0af06-00a1-4412-bd85-f356fe7f5fd5"
      },
      "execution_count": 81,
      "outputs": [
        {
          "output_type": "stream",
          "name": "stderr",
          "text": [
            "/usr/local/lib/python3.10/dist-packages/ipykernel/ipkernel.py:283: DeprecationWarning: `should_run_async` will not call `transform_cell` automatically in the future. Please pass the result to `transformed_cell` argument and any exception that happen during thetransform in `preprocessing_exc_tuple` in IPython 7.17 and above.\n",
            "  and should_run_async(code)\n"
          ]
        },
        {
          "output_type": "execute_result",
          "data": {
            "text/plain": [
              "['Logistic_Regression.joblib']"
            ]
          },
          "metadata": {},
          "execution_count": 81
        }
      ]
    },
    {
      "cell_type": "code",
      "source": [
        "# Classification Algorithms\n",
        "dump(decision_tree,filename='Decision_Tree.joblib')\n",
        "dump(random_forest,filename='Random_Forest_classifier.joblib')\n",
        "dump(svm_classifier,filename='Support_vector_classifier.joblib')\n",
        "dump(knn_classifier,filename='KNN_Classifier.joblib')\n",
        "dump(naive_bayes,filename='Naive_Bayes.joblib')\n",
        "\n",
        "# Regression Algorithms\n",
        "dump(linear_reg,filename='Linear_Regression.joblib')\n",
        "dump(svr_reg,filename='Support_vector_regressor.joblib')\n",
        "dump(rf_reg,filename='Random_Forest_Regressor.joblib')\n",
        "\n",
        "# Tuned Models (Random Forest Regressor)\n",
        "dump(rs_RF,filename='RF_RandomSearchCV.joblib')\n",
        "dump(gs_RF,filename='RF_GridSearchCV.joblib')"
      ],
      "metadata": {
        "id": "9oKgF2uUOGCA",
        "colab": {
          "base_uri": "https://localhost:8080/"
        },
        "outputId": "fb50e08a-b16a-4ed1-8566-aa3fd9326029"
      },
      "execution_count": 82,
      "outputs": [
        {
          "output_type": "stream",
          "name": "stderr",
          "text": [
            "/usr/local/lib/python3.10/dist-packages/ipykernel/ipkernel.py:283: DeprecationWarning: `should_run_async` will not call `transform_cell` automatically in the future. Please pass the result to `transformed_cell` argument and any exception that happen during thetransform in `preprocessing_exc_tuple` in IPython 7.17 and above.\n",
            "  and should_run_async(code)\n"
          ]
        },
        {
          "output_type": "execute_result",
          "data": {
            "text/plain": [
              "['RF_GridSearchCV.joblib']"
            ]
          },
          "metadata": {},
          "execution_count": 82
        }
      ]
    },
    {
      "cell_type": "code",
      "source": [
        "# Clusturing Algorithms\n",
        "dump(kmeans,filename='K-Means.joblib')\n",
        "dump(hierarchical,filename='Hierarchical_Clusturing.joblib')\n",
        "dump(dbscan,filename='DBScan.joblib')"
      ],
      "metadata": {
        "id": "8-LPX3L5T1ki",
        "colab": {
          "base_uri": "https://localhost:8080/"
        },
        "outputId": "8b375a64-7ab4-4da0-d4f6-13d1cc022320"
      },
      "execution_count": 83,
      "outputs": [
        {
          "output_type": "stream",
          "name": "stderr",
          "text": [
            "/usr/local/lib/python3.10/dist-packages/ipykernel/ipkernel.py:283: DeprecationWarning: `should_run_async` will not call `transform_cell` automatically in the future. Please pass the result to `transformed_cell` argument and any exception that happen during thetransform in `preprocessing_exc_tuple` in IPython 7.17 and above.\n",
            "  and should_run_async(code)\n"
          ]
        },
        {
          "output_type": "execute_result",
          "data": {
            "text/plain": [
              "['DBScan.joblib']"
            ]
          },
          "metadata": {},
          "execution_count": 83
        }
      ]
    },
    {
      "cell_type": "markdown",
      "source": [
        "# Pipeline"
      ],
      "metadata": {
        "id": "n_TuIENKjMMU"
      }
    },
    {
      "cell_type": "markdown",
      "source": [
        "Summing everything in one snippet"
      ],
      "metadata": {
        "id": "K4tJXSA5uMu1"
      }
    },
    {
      "cell_type": "code",
      "source": [
        "# Getting data ready\n",
        "import pandas as pd\n",
        "from sklearn.compose import ColumnTransformer\n",
        "from sklearn.pipeline import Pipeline\n",
        "from sklearn.impute import SimpleImputer\n",
        "from sklearn.preprocessing import OneHotEncoder\n",
        "\n",
        "# Modelling\n",
        "from sklearn.ensemble import RandomForestRegressor\n",
        "from sklearn.model_selection import train_test_split, GridSearchCV\n",
        "\n",
        "# Setup random seed\n",
        "import numpy as np\n",
        "np.random.seed(42)\n",
        "\n",
        "# Import data and drop rows with missing labels\n",
        "data = pd.read_csv(\"car-sales-extended-missing-data.csv\")\n",
        "data.dropna(subset=[\"Price\"], inplace=True)\n",
        "\n",
        "# Define different features and transformer pipeline\n",
        "categorical_features = [\"Make\", \"Colour\"]\n",
        "categorical_transformer = Pipeline(steps=[\n",
        "    (\"imputer\", SimpleImputer(strategy=\"constant\", fill_value=\"missing\")),\n",
        "    (\"onehot\", OneHotEncoder(handle_unknown=\"ignore\"))])\n",
        "\n",
        "door_feature = [\"Doors\"]\n",
        "door_transformer = Pipeline(steps=[\n",
        "    (\"imputer\", SimpleImputer(strategy=\"constant\", fill_value=4))\n",
        "])\n",
        "\n",
        "numeric_features = [\"Odometer (KM)\"]\n",
        "numeric_transformer = Pipeline(steps=[\n",
        "    (\"imputer\", SimpleImputer(strategy=\"mean\"))\n",
        "])\n",
        "\n",
        "# Setup preprocessing steps (fill missing values, then convert to numbers)\n",
        "preprocessor = ColumnTransformer(\n",
        "                    transformers=[\n",
        "                        (\"cat\", categorical_transformer, categorical_features),\n",
        "                        (\"door\", door_transformer, door_feature),\n",
        "                        (\"num\", numeric_transformer, numeric_features)\n",
        "                    ])\n",
        "\n",
        "# Creating a preprocessing and modelling pipeline\n",
        "model = Pipeline(steps=[(\"preprocessor\", preprocessor),\n",
        "                        (\"model\", RandomForestRegressor())])\n",
        "\n",
        "# Split data\n",
        "X = data.drop(\"Price\", axis=1)\n",
        "y = data[\"Price\"]\n",
        "X_train, X_test, y_train, y_test = train_test_split(X, y, test_size=0.2)\n",
        "\n",
        "# Fit and score the model\n",
        "model.fit(X_train, y_train)\n",
        "model.score(X_test, y_test)"
      ],
      "metadata": {
        "colab": {
          "base_uri": "https://localhost:8080/"
        },
        "id": "GKzAhJO1jLyV",
        "outputId": "b22884f3-1788-4928-fb82-ea7f08f7cae1"
      },
      "execution_count": 125,
      "outputs": [
        {
          "output_type": "stream",
          "name": "stderr",
          "text": [
            "/usr/local/lib/python3.10/dist-packages/ipykernel/ipkernel.py:283: DeprecationWarning: `should_run_async` will not call `transform_cell` automatically in the future. Please pass the result to `transformed_cell` argument and any exception that happen during thetransform in `preprocessing_exc_tuple` in IPython 7.17 and above.\n",
            "  and should_run_async(code)\n"
          ]
        },
        {
          "output_type": "execute_result",
          "data": {
            "text/plain": [
              "0.22188417408787875"
            ]
          },
          "metadata": {},
          "execution_count": 125
        }
      ]
    },
    {
      "cell_type": "code",
      "source": [
        "from sklearn.model_selection import GridSearchCV\n",
        "\n",
        "pipe_grid = {\n",
        "    \"preprocessor__num__imputer__strategy\": [\"mean\", \"median\"],\n",
        "    \"model__n_estimators\": [100, 1000],\n",
        "    \"model__max_depth\": [None, 5],\n",
        "    \"model__max_features\": [\"auto\"],\n",
        "    \"model__min_samples_split\": [2, 4]\n",
        "}\n",
        "\n",
        "gs_model = GridSearchCV(model, pipe_grid, cv=5, verbose=2)\n",
        "gs_model.fit(X_train, y_train)"
      ],
      "metadata": {
        "colab": {
          "base_uri": "https://localhost:8080/",
          "height": 1000
        },
        "id": "CHSvz_JQzdKk",
        "outputId": "86ff9a95-a1d8-43d8-915d-ae52ebf6105e"
      },
      "execution_count": 122,
      "outputs": [
        {
          "output_type": "stream",
          "name": "stderr",
          "text": [
            "/usr/local/lib/python3.10/dist-packages/ipykernel/ipkernel.py:283: DeprecationWarning: `should_run_async` will not call `transform_cell` automatically in the future. Please pass the result to `transformed_cell` argument and any exception that happen during thetransform in `preprocessing_exc_tuple` in IPython 7.17 and above.\n",
            "  and should_run_async(code)\n"
          ]
        },
        {
          "output_type": "stream",
          "name": "stdout",
          "text": [
            "Fitting 5 folds for each of 16 candidates, totalling 80 fits\n",
            "[CV] END model__max_depth=None, model__max_features=auto, model__min_samples_split=2, model__n_estimators=100, preprocessor__num__imputer__strategy=mean; total time=   0.3s\n",
            "[CV] END model__max_depth=None, model__max_features=auto, model__min_samples_split=2, model__n_estimators=100, preprocessor__num__imputer__strategy=mean; total time=   0.3s\n",
            "[CV] END model__max_depth=None, model__max_features=auto, model__min_samples_split=2, model__n_estimators=100, preprocessor__num__imputer__strategy=mean; total time=   0.3s\n",
            "[CV] END model__max_depth=None, model__max_features=auto, model__min_samples_split=2, model__n_estimators=100, preprocessor__num__imputer__strategy=mean; total time=   0.3s\n",
            "[CV] END model__max_depth=None, model__max_features=auto, model__min_samples_split=2, model__n_estimators=100, preprocessor__num__imputer__strategy=mean; total time=   0.3s\n",
            "[CV] END model__max_depth=None, model__max_features=auto, model__min_samples_split=2, model__n_estimators=100, preprocessor__num__imputer__strategy=median; total time=   0.3s\n",
            "[CV] END model__max_depth=None, model__max_features=auto, model__min_samples_split=2, model__n_estimators=100, preprocessor__num__imputer__strategy=median; total time=   0.3s\n",
            "[CV] END model__max_depth=None, model__max_features=auto, model__min_samples_split=2, model__n_estimators=100, preprocessor__num__imputer__strategy=median; total time=   0.3s\n",
            "[CV] END model__max_depth=None, model__max_features=auto, model__min_samples_split=2, model__n_estimators=100, preprocessor__num__imputer__strategy=median; total time=   0.3s\n",
            "[CV] END model__max_depth=None, model__max_features=auto, model__min_samples_split=2, model__n_estimators=100, preprocessor__num__imputer__strategy=median; total time=   0.3s\n",
            "[CV] END model__max_depth=None, model__max_features=auto, model__min_samples_split=2, model__n_estimators=1000, preprocessor__num__imputer__strategy=mean; total time=   2.5s\n",
            "[CV] END model__max_depth=None, model__max_features=auto, model__min_samples_split=2, model__n_estimators=1000, preprocessor__num__imputer__strategy=mean; total time=   3.0s\n",
            "[CV] END model__max_depth=None, model__max_features=auto, model__min_samples_split=2, model__n_estimators=1000, preprocessor__num__imputer__strategy=mean; total time=   3.1s\n",
            "[CV] END model__max_depth=None, model__max_features=auto, model__min_samples_split=2, model__n_estimators=1000, preprocessor__num__imputer__strategy=mean; total time=   2.5s\n",
            "[CV] END model__max_depth=None, model__max_features=auto, model__min_samples_split=2, model__n_estimators=1000, preprocessor__num__imputer__strategy=mean; total time=   2.6s\n",
            "[CV] END model__max_depth=None, model__max_features=auto, model__min_samples_split=2, model__n_estimators=1000, preprocessor__num__imputer__strategy=median; total time=   2.5s\n",
            "[CV] END model__max_depth=None, model__max_features=auto, model__min_samples_split=2, model__n_estimators=1000, preprocessor__num__imputer__strategy=median; total time=   3.5s\n",
            "[CV] END model__max_depth=None, model__max_features=auto, model__min_samples_split=2, model__n_estimators=1000, preprocessor__num__imputer__strategy=median; total time=   2.6s\n",
            "[CV] END model__max_depth=None, model__max_features=auto, model__min_samples_split=2, model__n_estimators=1000, preprocessor__num__imputer__strategy=median; total time=   2.5s\n",
            "[CV] END model__max_depth=None, model__max_features=auto, model__min_samples_split=2, model__n_estimators=1000, preprocessor__num__imputer__strategy=median; total time=   2.5s\n",
            "[CV] END model__max_depth=None, model__max_features=auto, model__min_samples_split=4, model__n_estimators=100, preprocessor__num__imputer__strategy=mean; total time=   0.3s\n",
            "[CV] END model__max_depth=None, model__max_features=auto, model__min_samples_split=4, model__n_estimators=100, preprocessor__num__imputer__strategy=mean; total time=   0.3s\n",
            "[CV] END model__max_depth=None, model__max_features=auto, model__min_samples_split=4, model__n_estimators=100, preprocessor__num__imputer__strategy=mean; total time=   0.3s\n",
            "[CV] END model__max_depth=None, model__max_features=auto, model__min_samples_split=4, model__n_estimators=100, preprocessor__num__imputer__strategy=mean; total time=   0.3s\n",
            "[CV] END model__max_depth=None, model__max_features=auto, model__min_samples_split=4, model__n_estimators=100, preprocessor__num__imputer__strategy=mean; total time=   0.3s\n",
            "[CV] END model__max_depth=None, model__max_features=auto, model__min_samples_split=4, model__n_estimators=100, preprocessor__num__imputer__strategy=median; total time=   0.3s\n",
            "[CV] END model__max_depth=None, model__max_features=auto, model__min_samples_split=4, model__n_estimators=100, preprocessor__num__imputer__strategy=median; total time=   0.3s\n",
            "[CV] END model__max_depth=None, model__max_features=auto, model__min_samples_split=4, model__n_estimators=100, preprocessor__num__imputer__strategy=median; total time=   0.3s\n",
            "[CV] END model__max_depth=None, model__max_features=auto, model__min_samples_split=4, model__n_estimators=100, preprocessor__num__imputer__strategy=median; total time=   0.3s\n",
            "[CV] END model__max_depth=None, model__max_features=auto, model__min_samples_split=4, model__n_estimators=100, preprocessor__num__imputer__strategy=median; total time=   0.4s\n",
            "[CV] END model__max_depth=None, model__max_features=auto, model__min_samples_split=4, model__n_estimators=1000, preprocessor__num__imputer__strategy=mean; total time=   3.1s\n",
            "[CV] END model__max_depth=None, model__max_features=auto, model__min_samples_split=4, model__n_estimators=1000, preprocessor__num__imputer__strategy=mean; total time=   2.3s\n",
            "[CV] END model__max_depth=None, model__max_features=auto, model__min_samples_split=4, model__n_estimators=1000, preprocessor__num__imputer__strategy=mean; total time=   2.4s\n",
            "[CV] END model__max_depth=None, model__max_features=auto, model__min_samples_split=4, model__n_estimators=1000, preprocessor__num__imputer__strategy=mean; total time=   2.3s\n",
            "[CV] END model__max_depth=None, model__max_features=auto, model__min_samples_split=4, model__n_estimators=1000, preprocessor__num__imputer__strategy=mean; total time=   3.6s\n",
            "[CV] END model__max_depth=None, model__max_features=auto, model__min_samples_split=4, model__n_estimators=1000, preprocessor__num__imputer__strategy=median; total time=   4.5s\n",
            "[CV] END model__max_depth=None, model__max_features=auto, model__min_samples_split=4, model__n_estimators=1000, preprocessor__num__imputer__strategy=median; total time=   3.7s\n",
            "[CV] END model__max_depth=None, model__max_features=auto, model__min_samples_split=4, model__n_estimators=1000, preprocessor__num__imputer__strategy=median; total time=   4.5s\n",
            "[CV] END model__max_depth=None, model__max_features=auto, model__min_samples_split=4, model__n_estimators=1000, preprocessor__num__imputer__strategy=median; total time=   3.8s\n",
            "[CV] END model__max_depth=None, model__max_features=auto, model__min_samples_split=4, model__n_estimators=1000, preprocessor__num__imputer__strategy=median; total time=   3.5s\n",
            "[CV] END model__max_depth=5, model__max_features=auto, model__min_samples_split=2, model__n_estimators=100, preprocessor__num__imputer__strategy=mean; total time=   0.3s\n",
            "[CV] END model__max_depth=5, model__max_features=auto, model__min_samples_split=2, model__n_estimators=100, preprocessor__num__imputer__strategy=mean; total time=   0.3s\n",
            "[CV] END model__max_depth=5, model__max_features=auto, model__min_samples_split=2, model__n_estimators=100, preprocessor__num__imputer__strategy=mean; total time=   0.3s\n",
            "[CV] END model__max_depth=5, model__max_features=auto, model__min_samples_split=2, model__n_estimators=100, preprocessor__num__imputer__strategy=mean; total time=   0.4s\n",
            "[CV] END model__max_depth=5, model__max_features=auto, model__min_samples_split=2, model__n_estimators=100, preprocessor__num__imputer__strategy=mean; total time=   0.3s\n",
            "[CV] END model__max_depth=5, model__max_features=auto, model__min_samples_split=2, model__n_estimators=100, preprocessor__num__imputer__strategy=median; total time=   0.2s\n",
            "[CV] END model__max_depth=5, model__max_features=auto, model__min_samples_split=2, model__n_estimators=100, preprocessor__num__imputer__strategy=median; total time=   0.3s\n",
            "[CV] END model__max_depth=5, model__max_features=auto, model__min_samples_split=2, model__n_estimators=100, preprocessor__num__imputer__strategy=median; total time=   0.3s\n",
            "[CV] END model__max_depth=5, model__max_features=auto, model__min_samples_split=2, model__n_estimators=100, preprocessor__num__imputer__strategy=median; total time=   0.3s\n",
            "[CV] END model__max_depth=5, model__max_features=auto, model__min_samples_split=2, model__n_estimators=100, preprocessor__num__imputer__strategy=median; total time=   0.4s\n",
            "[CV] END model__max_depth=5, model__max_features=auto, model__min_samples_split=2, model__n_estimators=1000, preprocessor__num__imputer__strategy=mean; total time=   4.3s\n",
            "[CV] END model__max_depth=5, model__max_features=auto, model__min_samples_split=2, model__n_estimators=1000, preprocessor__num__imputer__strategy=mean; total time=   1.8s\n",
            "[CV] END model__max_depth=5, model__max_features=auto, model__min_samples_split=2, model__n_estimators=1000, preprocessor__num__imputer__strategy=mean; total time=   1.7s\n",
            "[CV] END model__max_depth=5, model__max_features=auto, model__min_samples_split=2, model__n_estimators=1000, preprocessor__num__imputer__strategy=mean; total time=   1.7s\n",
            "[CV] END model__max_depth=5, model__max_features=auto, model__min_samples_split=2, model__n_estimators=1000, preprocessor__num__imputer__strategy=mean; total time=   1.7s\n",
            "[CV] END model__max_depth=5, model__max_features=auto, model__min_samples_split=2, model__n_estimators=1000, preprocessor__num__imputer__strategy=median; total time=   1.7s\n",
            "[CV] END model__max_depth=5, model__max_features=auto, model__min_samples_split=2, model__n_estimators=1000, preprocessor__num__imputer__strategy=median; total time=   2.5s\n",
            "[CV] END model__max_depth=5, model__max_features=auto, model__min_samples_split=2, model__n_estimators=1000, preprocessor__num__imputer__strategy=median; total time=   2.0s\n",
            "[CV] END model__max_depth=5, model__max_features=auto, model__min_samples_split=2, model__n_estimators=1000, preprocessor__num__imputer__strategy=median; total time=   1.7s\n",
            "[CV] END model__max_depth=5, model__max_features=auto, model__min_samples_split=2, model__n_estimators=1000, preprocessor__num__imputer__strategy=median; total time=   1.7s\n",
            "[CV] END model__max_depth=5, model__max_features=auto, model__min_samples_split=4, model__n_estimators=100, preprocessor__num__imputer__strategy=mean; total time=   0.2s\n",
            "[CV] END model__max_depth=5, model__max_features=auto, model__min_samples_split=4, model__n_estimators=100, preprocessor__num__imputer__strategy=mean; total time=   0.2s\n",
            "[CV] END model__max_depth=5, model__max_features=auto, model__min_samples_split=4, model__n_estimators=100, preprocessor__num__imputer__strategy=mean; total time=   0.2s\n",
            "[CV] END model__max_depth=5, model__max_features=auto, model__min_samples_split=4, model__n_estimators=100, preprocessor__num__imputer__strategy=mean; total time=   0.2s\n",
            "[CV] END model__max_depth=5, model__max_features=auto, model__min_samples_split=4, model__n_estimators=100, preprocessor__num__imputer__strategy=mean; total time=   0.2s\n",
            "[CV] END model__max_depth=5, model__max_features=auto, model__min_samples_split=4, model__n_estimators=100, preprocessor__num__imputer__strategy=median; total time=   0.2s\n",
            "[CV] END model__max_depth=5, model__max_features=auto, model__min_samples_split=4, model__n_estimators=100, preprocessor__num__imputer__strategy=median; total time=   0.2s\n",
            "[CV] END model__max_depth=5, model__max_features=auto, model__min_samples_split=4, model__n_estimators=100, preprocessor__num__imputer__strategy=median; total time=   0.2s\n",
            "[CV] END model__max_depth=5, model__max_features=auto, model__min_samples_split=4, model__n_estimators=100, preprocessor__num__imputer__strategy=median; total time=   0.2s\n",
            "[CV] END model__max_depth=5, model__max_features=auto, model__min_samples_split=4, model__n_estimators=100, preprocessor__num__imputer__strategy=median; total time=   0.2s\n",
            "[CV] END model__max_depth=5, model__max_features=auto, model__min_samples_split=4, model__n_estimators=1000, preprocessor__num__imputer__strategy=mean; total time=   1.7s\n",
            "[CV] END model__max_depth=5, model__max_features=auto, model__min_samples_split=4, model__n_estimators=1000, preprocessor__num__imputer__strategy=mean; total time=   1.9s\n",
            "[CV] END model__max_depth=5, model__max_features=auto, model__min_samples_split=4, model__n_estimators=1000, preprocessor__num__imputer__strategy=mean; total time=   2.6s\n",
            "[CV] END model__max_depth=5, model__max_features=auto, model__min_samples_split=4, model__n_estimators=1000, preprocessor__num__imputer__strategy=mean; total time=   1.7s\n",
            "[CV] END model__max_depth=5, model__max_features=auto, model__min_samples_split=4, model__n_estimators=1000, preprocessor__num__imputer__strategy=mean; total time=   1.7s\n",
            "[CV] END model__max_depth=5, model__max_features=auto, model__min_samples_split=4, model__n_estimators=1000, preprocessor__num__imputer__strategy=median; total time=   1.7s\n",
            "[CV] END model__max_depth=5, model__max_features=auto, model__min_samples_split=4, model__n_estimators=1000, preprocessor__num__imputer__strategy=median; total time=   1.7s\n",
            "[CV] END model__max_depth=5, model__max_features=auto, model__min_samples_split=4, model__n_estimators=1000, preprocessor__num__imputer__strategy=median; total time=   1.7s\n",
            "[CV] END model__max_depth=5, model__max_features=auto, model__min_samples_split=4, model__n_estimators=1000, preprocessor__num__imputer__strategy=median; total time=   2.2s\n",
            "[CV] END model__max_depth=5, model__max_features=auto, model__min_samples_split=4, model__n_estimators=1000, preprocessor__num__imputer__strategy=median; total time=   2.3s\n"
          ]
        },
        {
          "output_type": "execute_result",
          "data": {
            "text/plain": [
              "GridSearchCV(cv=5,\n",
              "             estimator=Pipeline(steps=[('preprocessor',\n",
              "                                        ColumnTransformer(transformers=[('cat',\n",
              "                                                                         Pipeline(steps=[('imputer',\n",
              "                                                                                          SimpleImputer(fill_value='missing',\n",
              "                                                                                                        strategy='constant')),\n",
              "                                                                                         ('onehot',\n",
              "                                                                                          OneHotEncoder(handle_unknown='ignore'))]),\n",
              "                                                                         ['Make',\n",
              "                                                                          'Colour']),\n",
              "                                                                        ('door',\n",
              "                                                                         Pipeline(steps=[('imputer',\n",
              "                                                                                          SimpleImputer(fill_value=4,\n",
              "                                                                                                        strategy='constant'))]),\n",
              "                                                                         ['Doors']),\n",
              "                                                                        ('num',\n",
              "                                                                         Pipeline(steps=[('imputer',\n",
              "                                                                                          SimpleImputer())]),\n",
              "                                                                         ['Odometer '\n",
              "                                                                          '(KM)'])])),\n",
              "                                       ('model', RandomForestRegressor())]),\n",
              "             param_grid={'model__max_depth': [None, 5],\n",
              "                         'model__max_features': ['auto'],\n",
              "                         'model__min_samples_split': [2, 4],\n",
              "                         'model__n_estimators': [100, 1000],\n",
              "                         'preprocessor__num__imputer__strategy': ['mean',\n",
              "                                                                  'median']},\n",
              "             verbose=2)"
            ],
            "text/html": [
              "<style>#sk-container-id-4 {color: black;background-color: white;}#sk-container-id-4 pre{padding: 0;}#sk-container-id-4 div.sk-toggleable {background-color: white;}#sk-container-id-4 label.sk-toggleable__label {cursor: pointer;display: block;width: 100%;margin-bottom: 0;padding: 0.3em;box-sizing: border-box;text-align: center;}#sk-container-id-4 label.sk-toggleable__label-arrow:before {content: \"▸\";float: left;margin-right: 0.25em;color: #696969;}#sk-container-id-4 label.sk-toggleable__label-arrow:hover:before {color: black;}#sk-container-id-4 div.sk-estimator:hover label.sk-toggleable__label-arrow:before {color: black;}#sk-container-id-4 div.sk-toggleable__content {max-height: 0;max-width: 0;overflow: hidden;text-align: left;background-color: #f0f8ff;}#sk-container-id-4 div.sk-toggleable__content pre {margin: 0.2em;color: black;border-radius: 0.25em;background-color: #f0f8ff;}#sk-container-id-4 input.sk-toggleable__control:checked~div.sk-toggleable__content {max-height: 200px;max-width: 100%;overflow: auto;}#sk-container-id-4 input.sk-toggleable__control:checked~label.sk-toggleable__label-arrow:before {content: \"▾\";}#sk-container-id-4 div.sk-estimator input.sk-toggleable__control:checked~label.sk-toggleable__label {background-color: #d4ebff;}#sk-container-id-4 div.sk-label input.sk-toggleable__control:checked~label.sk-toggleable__label {background-color: #d4ebff;}#sk-container-id-4 input.sk-hidden--visually {border: 0;clip: rect(1px 1px 1px 1px);clip: rect(1px, 1px, 1px, 1px);height: 1px;margin: -1px;overflow: hidden;padding: 0;position: absolute;width: 1px;}#sk-container-id-4 div.sk-estimator {font-family: monospace;background-color: #f0f8ff;border: 1px dotted black;border-radius: 0.25em;box-sizing: border-box;margin-bottom: 0.5em;}#sk-container-id-4 div.sk-estimator:hover {background-color: #d4ebff;}#sk-container-id-4 div.sk-parallel-item::after {content: \"\";width: 100%;border-bottom: 1px solid gray;flex-grow: 1;}#sk-container-id-4 div.sk-label:hover label.sk-toggleable__label {background-color: #d4ebff;}#sk-container-id-4 div.sk-serial::before {content: \"\";position: absolute;border-left: 1px solid gray;box-sizing: border-box;top: 0;bottom: 0;left: 50%;z-index: 0;}#sk-container-id-4 div.sk-serial {display: flex;flex-direction: column;align-items: center;background-color: white;padding-right: 0.2em;padding-left: 0.2em;position: relative;}#sk-container-id-4 div.sk-item {position: relative;z-index: 1;}#sk-container-id-4 div.sk-parallel {display: flex;align-items: stretch;justify-content: center;background-color: white;position: relative;}#sk-container-id-4 div.sk-item::before, #sk-container-id-4 div.sk-parallel-item::before {content: \"\";position: absolute;border-left: 1px solid gray;box-sizing: border-box;top: 0;bottom: 0;left: 50%;z-index: -1;}#sk-container-id-4 div.sk-parallel-item {display: flex;flex-direction: column;z-index: 1;position: relative;background-color: white;}#sk-container-id-4 div.sk-parallel-item:first-child::after {align-self: flex-end;width: 50%;}#sk-container-id-4 div.sk-parallel-item:last-child::after {align-self: flex-start;width: 50%;}#sk-container-id-4 div.sk-parallel-item:only-child::after {width: 0;}#sk-container-id-4 div.sk-dashed-wrapped {border: 1px dashed gray;margin: 0 0.4em 0.5em 0.4em;box-sizing: border-box;padding-bottom: 0.4em;background-color: white;}#sk-container-id-4 div.sk-label label {font-family: monospace;font-weight: bold;display: inline-block;line-height: 1.2em;}#sk-container-id-4 div.sk-label-container {text-align: center;}#sk-container-id-4 div.sk-container {/* jupyter's `normalize.less` sets `[hidden] { display: none; }` but bootstrap.min.css set `[hidden] { display: none !important; }` so we also need the `!important` here to be able to override the default hidden behavior on the sphinx rendered scikit-learn.org. See: https://github.com/scikit-learn/scikit-learn/issues/21755 */display: inline-block !important;position: relative;}#sk-container-id-4 div.sk-text-repr-fallback {display: none;}</style><div id=\"sk-container-id-4\" class=\"sk-top-container\"><div class=\"sk-text-repr-fallback\"><pre>GridSearchCV(cv=5,\n",
              "             estimator=Pipeline(steps=[(&#x27;preprocessor&#x27;,\n",
              "                                        ColumnTransformer(transformers=[(&#x27;cat&#x27;,\n",
              "                                                                         Pipeline(steps=[(&#x27;imputer&#x27;,\n",
              "                                                                                          SimpleImputer(fill_value=&#x27;missing&#x27;,\n",
              "                                                                                                        strategy=&#x27;constant&#x27;)),\n",
              "                                                                                         (&#x27;onehot&#x27;,\n",
              "                                                                                          OneHotEncoder(handle_unknown=&#x27;ignore&#x27;))]),\n",
              "                                                                         [&#x27;Make&#x27;,\n",
              "                                                                          &#x27;Colour&#x27;]),\n",
              "                                                                        (&#x27;door&#x27;,\n",
              "                                                                         Pipeline(steps=[(&#x27;imputer&#x27;,\n",
              "                                                                                          SimpleImputer(fill_value=4,\n",
              "                                                                                                        strategy=&#x27;constant&#x27;))]),\n",
              "                                                                         [&#x27;Doors&#x27;]),\n",
              "                                                                        (&#x27;num&#x27;,\n",
              "                                                                         Pipeline(steps=[(&#x27;imputer&#x27;,\n",
              "                                                                                          SimpleImputer())]),\n",
              "                                                                         [&#x27;Odometer &#x27;\n",
              "                                                                          &#x27;(KM)&#x27;])])),\n",
              "                                       (&#x27;model&#x27;, RandomForestRegressor())]),\n",
              "             param_grid={&#x27;model__max_depth&#x27;: [None, 5],\n",
              "                         &#x27;model__max_features&#x27;: [&#x27;auto&#x27;],\n",
              "                         &#x27;model__min_samples_split&#x27;: [2, 4],\n",
              "                         &#x27;model__n_estimators&#x27;: [100, 1000],\n",
              "                         &#x27;preprocessor__num__imputer__strategy&#x27;: [&#x27;mean&#x27;,\n",
              "                                                                  &#x27;median&#x27;]},\n",
              "             verbose=2)</pre><b>In a Jupyter environment, please rerun this cell to show the HTML representation or trust the notebook. <br />On GitHub, the HTML representation is unable to render, please try loading this page with nbviewer.org.</b></div><div class=\"sk-container\" hidden><div class=\"sk-item sk-dashed-wrapped\"><div class=\"sk-label-container\"><div class=\"sk-label sk-toggleable\"><input class=\"sk-toggleable__control sk-hidden--visually\" id=\"sk-estimator-id-17\" type=\"checkbox\" ><label for=\"sk-estimator-id-17\" class=\"sk-toggleable__label sk-toggleable__label-arrow\">GridSearchCV</label><div class=\"sk-toggleable__content\"><pre>GridSearchCV(cv=5,\n",
              "             estimator=Pipeline(steps=[(&#x27;preprocessor&#x27;,\n",
              "                                        ColumnTransformer(transformers=[(&#x27;cat&#x27;,\n",
              "                                                                         Pipeline(steps=[(&#x27;imputer&#x27;,\n",
              "                                                                                          SimpleImputer(fill_value=&#x27;missing&#x27;,\n",
              "                                                                                                        strategy=&#x27;constant&#x27;)),\n",
              "                                                                                         (&#x27;onehot&#x27;,\n",
              "                                                                                          OneHotEncoder(handle_unknown=&#x27;ignore&#x27;))]),\n",
              "                                                                         [&#x27;Make&#x27;,\n",
              "                                                                          &#x27;Colour&#x27;]),\n",
              "                                                                        (&#x27;door&#x27;,\n",
              "                                                                         Pipeline(steps=[(&#x27;imputer&#x27;,\n",
              "                                                                                          SimpleImputer(fill_value=4,\n",
              "                                                                                                        strategy=&#x27;constant&#x27;))]),\n",
              "                                                                         [&#x27;Doors&#x27;]),\n",
              "                                                                        (&#x27;num&#x27;,\n",
              "                                                                         Pipeline(steps=[(&#x27;imputer&#x27;,\n",
              "                                                                                          SimpleImputer())]),\n",
              "                                                                         [&#x27;Odometer &#x27;\n",
              "                                                                          &#x27;(KM)&#x27;])])),\n",
              "                                       (&#x27;model&#x27;, RandomForestRegressor())]),\n",
              "             param_grid={&#x27;model__max_depth&#x27;: [None, 5],\n",
              "                         &#x27;model__max_features&#x27;: [&#x27;auto&#x27;],\n",
              "                         &#x27;model__min_samples_split&#x27;: [2, 4],\n",
              "                         &#x27;model__n_estimators&#x27;: [100, 1000],\n",
              "                         &#x27;preprocessor__num__imputer__strategy&#x27;: [&#x27;mean&#x27;,\n",
              "                                                                  &#x27;median&#x27;]},\n",
              "             verbose=2)</pre></div></div></div><div class=\"sk-parallel\"><div class=\"sk-parallel-item\"><div class=\"sk-item\"><div class=\"sk-label-container\"><div class=\"sk-label sk-toggleable\"><input class=\"sk-toggleable__control sk-hidden--visually\" id=\"sk-estimator-id-18\" type=\"checkbox\" ><label for=\"sk-estimator-id-18\" class=\"sk-toggleable__label sk-toggleable__label-arrow\">estimator: Pipeline</label><div class=\"sk-toggleable__content\"><pre>Pipeline(steps=[(&#x27;preprocessor&#x27;,\n",
              "                 ColumnTransformer(transformers=[(&#x27;cat&#x27;,\n",
              "                                                  Pipeline(steps=[(&#x27;imputer&#x27;,\n",
              "                                                                   SimpleImputer(fill_value=&#x27;missing&#x27;,\n",
              "                                                                                 strategy=&#x27;constant&#x27;)),\n",
              "                                                                  (&#x27;onehot&#x27;,\n",
              "                                                                   OneHotEncoder(handle_unknown=&#x27;ignore&#x27;))]),\n",
              "                                                  [&#x27;Make&#x27;, &#x27;Colour&#x27;]),\n",
              "                                                 (&#x27;door&#x27;,\n",
              "                                                  Pipeline(steps=[(&#x27;imputer&#x27;,\n",
              "                                                                   SimpleImputer(fill_value=4,\n",
              "                                                                                 strategy=&#x27;constant&#x27;))]),\n",
              "                                                  [&#x27;Doors&#x27;]),\n",
              "                                                 (&#x27;num&#x27;,\n",
              "                                                  Pipeline(steps=[(&#x27;imputer&#x27;,\n",
              "                                                                   SimpleImputer())]),\n",
              "                                                  [&#x27;Odometer (KM)&#x27;])])),\n",
              "                (&#x27;model&#x27;, RandomForestRegressor())])</pre></div></div></div><div class=\"sk-serial\"><div class=\"sk-item\"><div class=\"sk-serial\"><div class=\"sk-item sk-dashed-wrapped\"><div class=\"sk-label-container\"><div class=\"sk-label sk-toggleable\"><input class=\"sk-toggleable__control sk-hidden--visually\" id=\"sk-estimator-id-19\" type=\"checkbox\" ><label for=\"sk-estimator-id-19\" class=\"sk-toggleable__label sk-toggleable__label-arrow\">preprocessor: ColumnTransformer</label><div class=\"sk-toggleable__content\"><pre>ColumnTransformer(transformers=[(&#x27;cat&#x27;,\n",
              "                                 Pipeline(steps=[(&#x27;imputer&#x27;,\n",
              "                                                  SimpleImputer(fill_value=&#x27;missing&#x27;,\n",
              "                                                                strategy=&#x27;constant&#x27;)),\n",
              "                                                 (&#x27;onehot&#x27;,\n",
              "                                                  OneHotEncoder(handle_unknown=&#x27;ignore&#x27;))]),\n",
              "                                 [&#x27;Make&#x27;, &#x27;Colour&#x27;]),\n",
              "                                (&#x27;door&#x27;,\n",
              "                                 Pipeline(steps=[(&#x27;imputer&#x27;,\n",
              "                                                  SimpleImputer(fill_value=4,\n",
              "                                                                strategy=&#x27;constant&#x27;))]),\n",
              "                                 [&#x27;Doors&#x27;]),\n",
              "                                (&#x27;num&#x27;,\n",
              "                                 Pipeline(steps=[(&#x27;imputer&#x27;, SimpleImputer())]),\n",
              "                                 [&#x27;Odometer (KM)&#x27;])])</pre></div></div></div><div class=\"sk-parallel\"><div class=\"sk-parallel-item\"><div class=\"sk-item\"><div class=\"sk-label-container\"><div class=\"sk-label sk-toggleable\"><input class=\"sk-toggleable__control sk-hidden--visually\" id=\"sk-estimator-id-20\" type=\"checkbox\" ><label for=\"sk-estimator-id-20\" class=\"sk-toggleable__label sk-toggleable__label-arrow\">cat</label><div class=\"sk-toggleable__content\"><pre>[&#x27;Make&#x27;, &#x27;Colour&#x27;]</pre></div></div></div><div class=\"sk-serial\"><div class=\"sk-item\"><div class=\"sk-serial\"><div class=\"sk-item\"><div class=\"sk-estimator sk-toggleable\"><input class=\"sk-toggleable__control sk-hidden--visually\" id=\"sk-estimator-id-21\" type=\"checkbox\" ><label for=\"sk-estimator-id-21\" class=\"sk-toggleable__label sk-toggleable__label-arrow\">SimpleImputer</label><div class=\"sk-toggleable__content\"><pre>SimpleImputer(fill_value=&#x27;missing&#x27;, strategy=&#x27;constant&#x27;)</pre></div></div></div><div class=\"sk-item\"><div class=\"sk-estimator sk-toggleable\"><input class=\"sk-toggleable__control sk-hidden--visually\" id=\"sk-estimator-id-22\" type=\"checkbox\" ><label for=\"sk-estimator-id-22\" class=\"sk-toggleable__label sk-toggleable__label-arrow\">OneHotEncoder</label><div class=\"sk-toggleable__content\"><pre>OneHotEncoder(handle_unknown=&#x27;ignore&#x27;)</pre></div></div></div></div></div></div></div></div><div class=\"sk-parallel-item\"><div class=\"sk-item\"><div class=\"sk-label-container\"><div class=\"sk-label sk-toggleable\"><input class=\"sk-toggleable__control sk-hidden--visually\" id=\"sk-estimator-id-23\" type=\"checkbox\" ><label for=\"sk-estimator-id-23\" class=\"sk-toggleable__label sk-toggleable__label-arrow\">door</label><div class=\"sk-toggleable__content\"><pre>[&#x27;Doors&#x27;]</pre></div></div></div><div class=\"sk-serial\"><div class=\"sk-item\"><div class=\"sk-serial\"><div class=\"sk-item\"><div class=\"sk-estimator sk-toggleable\"><input class=\"sk-toggleable__control sk-hidden--visually\" id=\"sk-estimator-id-24\" type=\"checkbox\" ><label for=\"sk-estimator-id-24\" class=\"sk-toggleable__label sk-toggleable__label-arrow\">SimpleImputer</label><div class=\"sk-toggleable__content\"><pre>SimpleImputer(fill_value=4, strategy=&#x27;constant&#x27;)</pre></div></div></div></div></div></div></div></div><div class=\"sk-parallel-item\"><div class=\"sk-item\"><div class=\"sk-label-container\"><div class=\"sk-label sk-toggleable\"><input class=\"sk-toggleable__control sk-hidden--visually\" id=\"sk-estimator-id-25\" type=\"checkbox\" ><label for=\"sk-estimator-id-25\" class=\"sk-toggleable__label sk-toggleable__label-arrow\">num</label><div class=\"sk-toggleable__content\"><pre>[&#x27;Odometer (KM)&#x27;]</pre></div></div></div><div class=\"sk-serial\"><div class=\"sk-item\"><div class=\"sk-serial\"><div class=\"sk-item\"><div class=\"sk-estimator sk-toggleable\"><input class=\"sk-toggleable__control sk-hidden--visually\" id=\"sk-estimator-id-26\" type=\"checkbox\" ><label for=\"sk-estimator-id-26\" class=\"sk-toggleable__label sk-toggleable__label-arrow\">SimpleImputer</label><div class=\"sk-toggleable__content\"><pre>SimpleImputer()</pre></div></div></div></div></div></div></div></div></div></div><div class=\"sk-item\"><div class=\"sk-estimator sk-toggleable\"><input class=\"sk-toggleable__control sk-hidden--visually\" id=\"sk-estimator-id-27\" type=\"checkbox\" ><label for=\"sk-estimator-id-27\" class=\"sk-toggleable__label sk-toggleable__label-arrow\">RandomForestRegressor</label><div class=\"sk-toggleable__content\"><pre>RandomForestRegressor()</pre></div></div></div></div></div></div></div></div></div></div></div></div>"
            ]
          },
          "metadata": {},
          "execution_count": 122
        }
      ]
    },
    {
      "cell_type": "code",
      "source": [
        "gs_model.score(X_test,y_test)"
      ],
      "metadata": {
        "colab": {
          "base_uri": "https://localhost:8080/"
        },
        "id": "soSrm68n-vlE",
        "outputId": "ab519e6c-9df3-40dc-ebdb-0950094b1c5b"
      },
      "execution_count": 126,
      "outputs": [
        {
          "output_type": "stream",
          "name": "stderr",
          "text": [
            "/usr/local/lib/python3.10/dist-packages/ipykernel/ipkernel.py:283: DeprecationWarning: `should_run_async` will not call `transform_cell` automatically in the future. Please pass the result to `transformed_cell` argument and any exception that happen during thetransform in `preprocessing_exc_tuple` in IPython 7.17 and above.\n",
            "  and should_run_async(code)\n"
          ]
        },
        {
          "output_type": "execute_result",
          "data": {
            "text/plain": [
              "0.3339554263158365"
            ]
          },
          "metadata": {},
          "execution_count": 126
        }
      ]
    },
    {
      "cell_type": "code",
      "source": [
        "from joblib import dump\n",
        "dump(gs_model,'Car_Sales_RFR.joblib')"
      ],
      "metadata": {
        "colab": {
          "base_uri": "https://localhost:8080/"
        },
        "id": "EknqYVqBD6ex",
        "outputId": "808354c6-306b-44f9-ee4a-c517b941547c"
      },
      "execution_count": 127,
      "outputs": [
        {
          "output_type": "stream",
          "name": "stderr",
          "text": [
            "/usr/local/lib/python3.10/dist-packages/ipykernel/ipkernel.py:283: DeprecationWarning: `should_run_async` will not call `transform_cell` automatically in the future. Please pass the result to `transformed_cell` argument and any exception that happen during thetransform in `preprocessing_exc_tuple` in IPython 7.17 and above.\n",
            "  and should_run_async(code)\n"
          ]
        },
        {
          "output_type": "execute_result",
          "data": {
            "text/plain": [
              "['Car_Sales_RFR.joblib']"
            ]
          },
          "metadata": {},
          "execution_count": 127
        }
      ]
    }
  ]
}
